{
 "cells": [
  {
   "cell_type": "markdown",
   "id": "78b10a6c-541c-4515-8d8c-40d2acb310ad",
   "metadata": {
    "papermill": {
     "duration": 0.007597,
     "end_time": "2025-06-04T18:53:13.590542",
     "exception": false,
     "start_time": "2025-06-04T18:53:13.582945",
     "status": "completed"
    },
    "tags": []
   },
   "source": [
    "# **OK!**"
   ]
  },
  {
   "cell_type": "markdown",
   "id": "0d991252",
   "metadata": {
    "papermill": {
     "duration": 0.007826,
     "end_time": "2025-06-04T18:53:13.606064",
     "exception": false,
     "start_time": "2025-06-04T18:53:13.598238",
     "status": "completed"
    },
    "tags": []
   },
   "source": [
    "# **Modelo de Sistema de Recomendación - GRUPOREFERENCIA**\n",
    "# **Algoritmo KerasClassifier**"
   ]
  },
  {
   "cell_type": "code",
   "execution_count": 1,
   "id": "063f5ab4",
   "metadata": {
    "papermill": {
     "duration": 0.012303,
     "end_time": "2025-06-04T18:53:13.666039",
     "exception": false,
     "start_time": "2025-06-04T18:53:13.653736",
     "status": "completed"
    },
    "tags": []
   },
   "outputs": [
    {
     "name": "stdout",
     "output_type": "stream",
     "text": [
      "Memoria total: 540.72 GB\n",
      "Núcleos lógicos: 144\n"
     ]
    }
   ],
   "source": [
    "import os\n",
    "import psutil\n",
    "\n",
    "# Memoria\n",
    "print(f\"Memoria total: {psutil.virtual_memory().total / 1e9:.2f} GB\")  # Si muestra >16GB → probablemente remoto\n",
    "\n",
    "# CPU\n",
    "print(f\"Núcleos lógicos: {os.cpu_count()}\")  # >8 cores → servidor dedicado"
   ]
  },
  {
   "cell_type": "code",
   "execution_count": 2,
   "id": "76f2649f",
   "metadata": {
    "papermill": {
     "duration": 5.34617,
     "end_time": "2025-06-04T18:53:19.019342",
     "exception": false,
     "start_time": "2025-06-04T18:53:13.673172",
     "status": "completed"
    },
    "tags": []
   },
   "outputs": [
    {
     "name": "stderr",
     "output_type": "stream",
     "text": [
      "2025-06-15 23:45:31.142940: I tensorflow/core/util/port.cc:153] oneDNN custom operations are on. You may see slightly different numerical results due to floating-point round-off errors from different computation orders. To turn them off, set the environment variable `TF_ENABLE_ONEDNN_OPTS=0`.\n",
      "2025-06-15 23:45:31.144082: I external/local_xla/xla/tsl/cuda/cudart_stub.cc:32] Could not find cuda drivers on your machine, GPU will not be used.\n",
      "2025-06-15 23:45:31.148829: I external/local_xla/xla/tsl/cuda/cudart_stub.cc:32] Could not find cuda drivers on your machine, GPU will not be used.\n",
      "2025-06-15 23:45:31.159828: E external/local_xla/xla/stream_executor/cuda/cuda_fft.cc:467] Unable to register cuFFT factory: Attempting to register factory for plugin cuFFT when one has already been registered\n",
      "WARNING: All log messages before absl::InitializeLog() is called are written to STDERR\n",
      "E0000 00:00:1750031131.178323 3313216 cuda_dnn.cc:8579] Unable to register cuDNN factory: Attempting to register factory for plugin cuDNN when one has already been registered\n",
      "E0000 00:00:1750031131.183522 3313216 cuda_blas.cc:1407] Unable to register cuBLAS factory: Attempting to register factory for plugin cuBLAS when one has already been registered\n",
      "W0000 00:00:1750031131.198279 3313216 computation_placer.cc:177] computation placer already registered. Please check linkage and avoid linking the same target more than once.\n",
      "W0000 00:00:1750031131.198329 3313216 computation_placer.cc:177] computation placer already registered. Please check linkage and avoid linking the same target more than once.\n",
      "W0000 00:00:1750031131.198332 3313216 computation_placer.cc:177] computation placer already registered. Please check linkage and avoid linking the same target more than once.\n",
      "W0000 00:00:1750031131.198333 3313216 computation_placer.cc:177] computation placer already registered. Please check linkage and avoid linking the same target more than once.\n",
      "2025-06-15 23:45:31.203464: I tensorflow/core/platform/cpu_feature_guard.cc:210] This TensorFlow binary is optimized to use available CPU instructions in performance-critical operations.\n",
      "To enable the following instructions: AVX2 AVX512F AVX512_VNNI AVX512_BF16 AVX512_FP16 AVX_VNNI AMX_TILE AMX_INT8 AMX_BF16 FMA, in other operations, rebuild TensorFlow with the appropriate compiler flags.\n"
     ]
    },
    {
     "name": "stdout",
     "output_type": "stream",
     "text": [
      "Versión scikit-learn: 1.5.2\n",
      "Versión imbalanced-learn: 0.13.0\n",
      "Versión scikeras: 0.13.0\n",
      "Versión scikeras: 2.19.0\n"
     ]
    }
   ],
   "source": [
    "import sklearn, imblearn, scikeras, tensorflow\n",
    "print(\"Versión scikit-learn:\", sklearn.__version__)       # Debe ser == 1.5.2\n",
    "print(\"Versión imbalanced-learn:\", imblearn.__version__)  # Debe ser == 0.13.0\n",
    "print(\"Versión scikeras:\", scikeras.__version__)          # Debe ser == 0.13.0\n",
    "print(\"Versión scikeras:\", tensorflow.__version__)          # Debe ser == 0.13.0"
   ]
  },
  {
   "cell_type": "code",
   "execution_count": 3,
   "id": "0be64c4e",
   "metadata": {
    "papermill": {
     "duration": 0.020186,
     "end_time": "2025-06-04T18:53:19.047628",
     "exception": false,
     "start_time": "2025-06-04T18:53:19.027442",
     "status": "completed"
    },
    "tags": []
   },
   "outputs": [],
   "source": [
    "import pandas as pd\n",
    "import numpy as np\n",
    "import joblib\n",
    "import random\n",
    "\n",
    "from sklearn.preprocessing import OneHotEncoder, OrdinalEncoder, RobustScaler\n",
    "from sklearn.compose import ColumnTransformer\n",
    "from imblearn.pipeline import Pipeline\n",
    "from sklearn.experimental import enable_halving_search_cv\n",
    "from sklearn.model_selection import HalvingGridSearchCV\n",
    "from sklearn.model_selection import StratifiedKFold\n",
    "from sklearn.model_selection import train_test_split\n",
    "from sklearn.metrics import (f1_score,\n",
    "                             matthews_corrcoef,\n",
    "                             cohen_kappa_score)\n",
    "from imblearn.over_sampling import SMOTE"
   ]
  },
  {
   "cell_type": "code",
   "execution_count": 4,
   "id": "49322b81",
   "metadata": {
    "papermill": {
     "duration": 0.031368,
     "end_time": "2025-06-04T18:53:19.086235",
     "exception": false,
     "start_time": "2025-06-04T18:53:19.054867",
     "status": "completed"
    },
    "scrolled": true,
    "tags": []
   },
   "outputs": [],
   "source": [
    "import tensorflow as tf\n",
    "from tensorflow.keras.models import Sequential\n",
    "from tensorflow.keras.layers import Input, Dense, Dropout, BatchNormalization\n",
    "from tensorflow.keras.optimizers import Adam\n",
    "from scikeras.wrappers import KerasClassifier\n",
    "from collections import Counter"
   ]
  },
  {
   "cell_type": "code",
   "execution_count": 5,
   "id": "86c4499c",
   "metadata": {
    "papermill": {
     "duration": 0.080561,
     "end_time": "2025-06-04T18:53:19.174013",
     "exception": false,
     "start_time": "2025-06-04T18:53:19.093452",
     "status": "completed"
    },
    "tags": []
   },
   "outputs": [],
   "source": [
    "from dav_cas.tools.eva_mod import classification_report_df\n",
    "from dav_cas.tools.graficos import conf_matrix_normalized_sn"
   ]
  },
  {
   "cell_type": "code",
   "execution_count": 6,
   "id": "63c654ec",
   "metadata": {
    "papermill": {
     "duration": 0.013273,
     "end_time": "2025-06-04T18:53:19.194622",
     "exception": false,
     "start_time": "2025-06-04T18:53:19.181349",
     "status": "completed"
    },
    "tags": []
   },
   "outputs": [],
   "source": [
    "# Semillas para reproducibilidad\n",
    "SEED = 7\n",
    "os.environ['PYTHONHASHSEED'] = f'{SEED}'  # Para operaciones hash en Python\n",
    "np.random.seed(SEED)                   # Semilla para numpy\n",
    "random.seed(SEED)\n",
    "tf.keras.utils.set_random_seed(SEED)"
   ]
  },
  {
   "cell_type": "code",
   "execution_count": 7,
   "id": "7fdb528d",
   "metadata": {},
   "outputs": [],
   "source": [
    "basedir = os.getcwd()"
   ]
  },
  {
   "cell_type": "markdown",
   "id": "35e9c9fb",
   "metadata": {
    "papermill": {
     "duration": 0.007765,
     "end_time": "2025-06-04T18:53:19.211904",
     "exception": false,
     "start_time": "2025-06-04T18:53:19.204139",
     "status": "completed"
    },
    "tags": []
   },
   "source": [
    "## **1- Carga de los datos SB11_SBPro_UDENAR_02_00:**\n",
    "\n",
    "## **(Data #7)**"
   ]
  },
  {
   "cell_type": "code",
   "execution_count": 8,
   "id": "0ad56db7",
   "metadata": {
    "papermill": {
     "duration": 0.012888,
     "end_time": "2025-06-04T18:53:19.232074",
     "exception": false,
     "start_time": "2025-06-04T18:53:19.219186",
     "status": "completed"
    },
    "tags": []
   },
   "outputs": [],
   "source": [
    "CAR_NOM = '02' # Características nominales\n",
    "CAR_ORD = '00' # Características ordinales"
   ]
  },
  {
   "cell_type": "code",
   "execution_count": 9,
   "id": "339a4c6b",
   "metadata": {},
   "outputs": [],
   "source": [
    "X = pd.read_csv(os.path.join(basedir, f'data/data_icfes/SB11_SBPro/SB11_SBPro_UDENAR_{CAR_NOM}_{CAR_ORD}.csv'))"
   ]
  },
  {
   "cell_type": "markdown",
   "id": "9c2b33d4",
   "metadata": {
    "papermill": {
     "duration": 0.007296,
     "end_time": "2025-06-04T18:53:19.309843",
     "exception": false,
     "start_time": "2025-06-04T18:53:19.302547",
     "status": "completed"
    },
    "tags": []
   },
   "source": [
    "## **2- Carga los valores de 'y' (GRUPOREFERENCIA):**"
   ]
  },
  {
   "cell_type": "code",
   "execution_count": 10,
   "id": "2cc590d9",
   "metadata": {},
   "outputs": [],
   "source": [
    "y = pd.read_csv(os.path.join(basedir, 'data/data_icfes/SB11_SBPro/y_GRUPOREFERENCIA_clase.csv'))"
   ]
  },
  {
   "cell_type": "markdown",
   "id": "0a8f016a",
   "metadata": {
    "papermill": {
     "duration": 0.007292,
     "end_time": "2025-06-04T18:53:19.346671",
     "exception": false,
     "start_time": "2025-06-04T18:53:19.339379",
     "status": "completed"
    },
    "tags": []
   },
   "source": [
    "## **3- Dividir el dataset en entrenamiento y prueba:**"
   ]
  },
  {
   "cell_type": "code",
   "execution_count": 11,
   "id": "8937ced8",
   "metadata": {
    "papermill": {
     "duration": 0.034901,
     "end_time": "2025-06-04T18:53:19.388849",
     "exception": false,
     "start_time": "2025-06-04T18:53:19.353948",
     "status": "completed"
    },
    "tags": []
   },
   "outputs": [],
   "source": [
    "# División estratificada en train (80%) y test (20%)\n",
    "X_train, X_test, y_train, y_test = train_test_split(X, y,\n",
    "                                                    test_size=0.2,\n",
    "                                                    stratify=y,\n",
    "                                                    random_state=SEED)"
   ]
  },
  {
   "cell_type": "markdown",
   "id": "06270cfe",
   "metadata": {
    "papermill": {
     "duration": 0.007272,
     "end_time": "2025-06-04T18:53:19.403394",
     "exception": false,
     "start_time": "2025-06-04T18:53:19.396122",
     "status": "completed"
    },
    "tags": []
   },
   "source": [
    "## **4- Selección de Características:**"
   ]
  },
  {
   "cell_type": "code",
   "execution_count": 12,
   "id": "c8c73c3f",
   "metadata": {
    "papermill": {
     "duration": 0.10535,
     "end_time": "2025-06-04T18:53:19.516187",
     "exception": false,
     "start_time": "2025-06-04T18:53:19.410837",
     "status": "completed"
    },
    "tags": []
   },
   "outputs": [],
   "source": [
    "%run -i \"Selección de características.ipynb\""
   ]
  },
  {
   "cell_type": "code",
   "execution_count": 13,
   "id": "116d237d",
   "metadata": {
    "papermill": {
     "duration": 0.0127,
     "end_time": "2025-06-04T18:53:19.536250",
     "exception": false,
     "start_time": "2025-06-04T18:53:19.523550",
     "status": "completed"
    },
    "tags": []
   },
   "outputs": [],
   "source": [
    "dic_nom_features = {'00': nominal_features_00,\n",
    "                    '01': nominal_features_01,\n",
    "                    '02': nominal_features_02}"
   ]
  },
  {
   "cell_type": "code",
   "execution_count": 14,
   "id": "0666ad8e",
   "metadata": {
    "papermill": {
     "duration": 0.012286,
     "end_time": "2025-06-04T18:53:19.555878",
     "exception": false,
     "start_time": "2025-06-04T18:53:19.543592",
     "status": "completed"
    },
    "tags": []
   },
   "outputs": [],
   "source": [
    "dic_ord_features = {'00': dic_car_ord_00,\n",
    "                    '01': dic_car_ord_01,\n",
    "                    '02': dic_car_ord_02}"
   ]
  },
  {
   "cell_type": "code",
   "execution_count": 15,
   "id": "dc822401",
   "metadata": {
    "papermill": {
     "duration": 0.012666,
     "end_time": "2025-06-04T18:53:19.575833",
     "exception": false,
     "start_time": "2025-06-04T18:53:19.563167",
     "status": "completed"
    },
    "tags": []
   },
   "outputs": [],
   "source": [
    "# Características Nominales\n",
    "nominal_features = dic_nom_features[CAR_NOM]\n",
    "# Características Ordinales\n",
    "ordinal_features = list(dic_ord_features[CAR_ORD].keys())\n",
    "# Características Numéricas\n",
    "numerical_features = numeric_features"
   ]
  },
  {
   "cell_type": "markdown",
   "id": "33f1a711",
   "metadata": {
    "papermill": {
     "duration": 0.007334,
     "end_time": "2025-06-04T18:53:19.590649",
     "exception": false,
     "start_time": "2025-06-04T18:53:19.583315",
     "status": "completed"
    },
    "tags": []
   },
   "source": [
    "## **5- Configuración del Preprocesamiento:**"
   ]
  },
  {
   "cell_type": "code",
   "execution_count": 16,
   "id": "8bb045af",
   "metadata": {
    "papermill": {
     "duration": 0.012988,
     "end_time": "2025-06-04T18:53:19.610929",
     "exception": false,
     "start_time": "2025-06-04T18:53:19.597941",
     "status": "completed"
    },
    "tags": []
   },
   "outputs": [],
   "source": [
    "preprocessor = ColumnTransformer(\n",
    "    transformers=[\n",
    "        # Codificar variables categóricas nominales\n",
    "        ('nominal', OneHotEncoder(handle_unknown='ignore'), nominal_features),\n",
    "        # Codificar variables categóricas ordinales\n",
    "        ('ordinal', OrdinalEncoder(), ordinal_features),\n",
    "        # Escalar variables numéricas\n",
    "        ('numerico', RobustScaler(), numerical_features)\n",
    "    ],\n",
    "    # remainder='drop'  # Descarta columnas no especificadas (opcional)\n",
    "    # remainder='passthrough'  # Mantiene las columnas no especificadas\n",
    ")"
   ]
  },
  {
   "cell_type": "markdown",
   "id": "4021d9bd",
   "metadata": {
    "papermill": {
     "duration": 0.00731,
     "end_time": "2025-06-04T18:53:19.625609",
     "exception": false,
     "start_time": "2025-06-04T18:53:19.618299",
     "status": "completed"
    },
    "tags": []
   },
   "source": [
    "## **6- Calcular pesos ANTES de SMOTE (usando y_train original):**"
   ]
  },
  {
   "cell_type": "code",
   "execution_count": 17,
   "id": "3a3cc60e",
   "metadata": {
    "papermill": {
     "duration": 0.014941,
     "end_time": "2025-06-04T18:53:19.648051",
     "exception": false,
     "start_time": "2025-06-04T18:53:19.633110",
     "status": "completed"
    },
    "scrolled": true,
    "tags": []
   },
   "outputs": [],
   "source": [
    "# Especificar class weights\n",
    "from sklearn.utils.class_weight import compute_class_weight\n",
    "\n",
    "# Calcular los pesos usando TODAS las clases del dataset original\n",
    "classes = np.unique(y.values.ravel())\n",
    "class_weights = compute_class_weight('balanced', \n",
    "                                     classes=classes,\n",
    "                                     y=y_train.values.ravel()) # Pero aplicado solo a los datos de entrenamiento\n",
    "class_weights_dict = dict(zip(classes, class_weights))"
   ]
  },
  {
   "cell_type": "code",
   "execution_count": 18,
   "id": "38d677a5-92fc-4cf4-88b0-e20c83fd5542",
   "metadata": {},
   "outputs": [],
   "source": [
    "n_classes = len(classes)"
   ]
  },
  {
   "cell_type": "markdown",
   "id": "ee5d2d9d",
   "metadata": {
    "papermill": {
     "duration": 0.007386,
     "end_time": "2025-06-04T18:53:19.704293",
     "exception": false,
     "start_time": "2025-06-04T18:53:19.696907",
     "status": "completed"
    },
    "tags": []
   },
   "source": [
    "## **7- Cálculo de dimensión de entrada:**"
   ]
  },
  {
   "cell_type": "code",
   "execution_count": 19,
   "id": "54d696d9",
   "metadata": {
    "papermill": {
     "duration": 0.044846,
     "end_time": "2025-06-04T18:53:19.756552",
     "exception": false,
     "start_time": "2025-06-04T18:53:19.711706",
     "status": "completed"
    },
    "tags": []
   },
   "outputs": [
    {
     "name": "stdout",
     "output_type": "stream",
     "text": [
      "Dimensión de entrada después de preprocesamiento: 24\n"
     ]
    }
   ],
   "source": [
    "preprocessor.fit(X_train)\n",
    "Xt = preprocessor.transform(X_train)\n",
    "input_dim = Xt.shape[1]\n",
    "print(f\"Dimensión de entrada después de preprocesamiento: {input_dim}\")"
   ]
  },
  {
   "cell_type": "markdown",
   "id": "3e1c8a13",
   "metadata": {
    "papermill": {
     "duration": 0.007469,
     "end_time": "2025-06-04T18:53:19.771437",
     "exception": false,
     "start_time": "2025-06-04T18:53:19.763968",
     "status": "completed"
    },
    "tags": []
   },
   "source": [
    "## **8- Función de creación del modelo con tf.keras:**"
   ]
  },
  {
   "cell_type": "code",
   "execution_count": 20,
   "id": "62e912e8",
   "metadata": {
    "papermill": {
     "duration": 0.015075,
     "end_time": "2025-06-04T18:53:19.793970",
     "exception": false,
     "start_time": "2025-06-04T18:53:19.778895",
     "status": "completed"
    },
    "tags": []
   },
   "outputs": [],
   "source": [
    "from tensorflow.keras.models import Sequential\n",
    "from tensorflow.keras.layers import Dense, Dropout, InputLayer\n",
    "from tensorflow.keras.optimizers import Adam, Nadam, SGD, RMSprop\n",
    "\n",
    "def create_model(\n",
    "    input_dim,\n",
    "    output_dim,\n",
    "    num_neurons,    # Ahora puede ser una lista (ej: [128, 64])\n",
    "    dropout_rate,   # Debe tener la misma longitud que num_neurons\n",
    "    optimizer,\n",
    "    learning_rate\n",
    "):\n",
    "    model = Sequential()\n",
    "    model.add(InputLayer(shape=(input_dim,)))\n",
    "    \n",
    "    # Validación: num_neurons y dropout_rate deben tener la misma longitud\n",
    "    if len(num_neurons) != len(dropout_rate):\n",
    "        raise ValueError(\n",
    "            \"Las listas num_neurons y dropout_rate deben tener la misma longitud. \"\n",
    "            f\"Se recibió len(num_neurons)={len(num_neurons)}, len(dropout_rate)={len(dropout_rate)}.\"\n",
    "        )\n",
    "    \n",
    "    # Crear capas ocultas\n",
    "    for neurons, rate in zip(num_neurons, dropout_rate):\n",
    "        model.add(Dense(neurons, activation=\"relu\"))  # Neuronas variables por capa\n",
    "        model.add(Dropout(rate, seed=SEED))\n",
    "    \n",
    "    # Capa de salida\n",
    "    model.add(Dense(output_dim, activation=\"softmax\"))\n",
    "    \n",
    "    # Configurar optimizador\n",
    "    optimizers = {\n",
    "        \"adam\": Adam,\n",
    "        \"nadam\": Nadam,\n",
    "        \"sgd\": SGD,\n",
    "        \"rmsprop\": RMSprop\n",
    "    }\n",
    "    optimizer_instance = optimizers[optimizer](learning_rate=learning_rate)\n",
    "    \n",
    "    # Compilar\n",
    "    model.compile(\n",
    "        optimizer=optimizer_instance,\n",
    "        loss=\"sparse_categorical_crossentropy\",\n",
    "        metrics=[\"accuracy\",                 \n",
    "                 tf.keras.metrics.F1Score(average=\"macro\", name=\"f1_score\")  # Métrica clave\n",
    "                ]\n",
    "    )\n",
    "    \n",
    "    return model"
   ]
  },
  {
   "cell_type": "markdown",
   "id": "bc01cc11",
   "metadata": {
    "papermill": {
     "duration": 0.007436,
     "end_time": "2025-06-04T18:53:19.843977",
     "exception": false,
     "start_time": "2025-06-04T18:53:19.836541",
     "status": "completed"
    },
    "tags": []
   },
   "source": [
    "## **9- Clasificador con wrapper de tf.keras KerasClassifier:**"
   ]
  },
  {
   "cell_type": "code",
   "execution_count": 21,
   "id": "95d03bc4",
   "metadata": {
    "papermill": {
     "duration": 0.013214,
     "end_time": "2025-06-04T18:53:19.864651",
     "exception": false,
     "start_time": "2025-06-04T18:53:19.851437",
     "status": "completed"
    },
    "tags": []
   },
   "outputs": [],
   "source": [
    "# Configurar KerasClassifier con class_weight en fit\n",
    "keras_clf = KerasClassifier(\n",
    "    model=create_model,\n",
    "    # --- parámetros para la función create_model con valores por defecto ---\n",
    "    input_dim=input_dim, # Se pasará a create_model\n",
    "    output_dim=n_classes, # Se pasará a create_model\n",
    "    # class_weight se aplica durante el entrenamiento para ajustar la función de pérdida.\n",
    "    # Al usar fit__class_weight, los pesos se basan en la distribución original de clases\n",
    "    # (antes de SMOTE), lo que es correcto para mantener la sensibilidad al desbalanceo real.\n",
    "    fit__class_weight=class_weights_dict, # <--- Pasar pesos aquí\n",
    "    fit__validation_split=0.2,\n",
    "    random_state=SEED,  # Semilla adicional para shuffle de datos\n",
    "    verbose=2\n",
    ")"
   ]
  },
  {
   "cell_type": "markdown",
   "id": "22c6c723",
   "metadata": {
    "papermill": {
     "duration": 0.007494,
     "end_time": "2025-06-04T18:53:19.900329",
     "exception": false,
     "start_time": "2025-06-04T18:53:19.892835",
     "status": "completed"
    },
    "tags": []
   },
   "source": [
    "## **10- Configurar Stratified K-Fold (5 folds):**"
   ]
  },
  {
   "cell_type": "markdown",
   "id": "ded2283d",
   "metadata": {},
   "source": [
    "#### **Configurar Stratified K-Fold (5 folds)**\n",
    "\n",
    "StratifiedKFold para mantener la distribución de clases en cada fold HalvingGridSearchCV optimiza la búsqueda de hiperparámetros con eliminación competitiva"
   ]
  },
  {
   "cell_type": "code",
   "execution_count": 22,
   "id": "04a84d8d",
   "metadata": {
    "papermill": {
     "duration": 0.012835,
     "end_time": "2025-06-04T18:53:19.920856",
     "exception": false,
     "start_time": "2025-06-04T18:53:19.908021",
     "status": "completed"
    },
    "tags": []
   },
   "outputs": [],
   "source": [
    "cv = StratifiedKFold(n_splits=5, shuffle=True, random_state=SEED)"
   ]
  },
  {
   "cell_type": "markdown",
   "id": "78fed292",
   "metadata": {
    "papermill": {
     "duration": 0.007585,
     "end_time": "2025-06-04T18:53:19.936094",
     "exception": false,
     "start_time": "2025-06-04T18:53:19.928509",
     "status": "completed"
    },
    "tags": []
   },
   "source": [
    "## **11- Configuración de Pipeline (Tuberías):**"
   ]
  },
  {
   "cell_type": "markdown",
   "id": "61351bfe",
   "metadata": {
    "papermill": {
     "duration": 0.007463,
     "end_time": "2025-06-04T18:53:19.951041",
     "exception": false,
     "start_time": "2025-06-04T18:53:19.943578",
     "status": "completed"
    },
    "tags": []
   },
   "source": [
    "### Conteo de frecuencia por clase:"
   ]
  },
  {
   "cell_type": "code",
   "execution_count": 23,
   "id": "840b43e8",
   "metadata": {
    "papermill": {
     "duration": 0.013453,
     "end_time": "2025-06-04T18:53:19.972235",
     "exception": false,
     "start_time": "2025-06-04T18:53:19.958782",
     "status": "completed"
    },
    "tags": []
   },
   "outputs": [],
   "source": [
    "# Calcular el número mínimo de muestras en cualquier clase\n",
    "class_counts = Counter(y_train[\"GRUPOREFERENCIA\"].to_list())\n",
    "min_samples = min(class_counts.values())"
   ]
  },
  {
   "cell_type": "code",
   "execution_count": 24,
   "id": "4bd5515a",
   "metadata": {
    "papermill": {
     "duration": 0.012914,
     "end_time": "2025-06-04T18:53:19.992708",
     "exception": false,
     "start_time": "2025-06-04T18:53:19.979794",
     "status": "completed"
    },
    "tags": []
   },
   "outputs": [],
   "source": [
    "# Ajustar k_neighbors considerando los folds de CV (ej. para 5-fold CV)\n",
    "n_splits = cv.get_n_splits()  # Obtener el número de folds\n",
    "adjusted_min_samples = max(1, int(min_samples * (n_splits - 1) / n_splits))\n",
    "safe_k = max(1, adjusted_min_samples - 1)  # Asegurar que k_neighbors <= n_muestras"
   ]
  },
  {
   "cell_type": "code",
   "execution_count": 25,
   "id": "ea8e0f54",
   "metadata": {
    "papermill": {
     "duration": 0.013742,
     "end_time": "2025-06-04T18:53:20.035882",
     "exception": false,
     "start_time": "2025-06-04T18:53:20.022140",
     "status": "completed"
    },
    "tags": []
   },
   "outputs": [],
   "source": [
    "pipeline = Pipeline([\n",
    "    ('preproc', preprocessor),\n",
    "    ('smote', SMOTE(\n",
    "        sampling_strategy={cls: max(count, safe_k + 1) for cls, count in class_counts.items()},  # Mínimo safe_k + 1 muestras\n",
    "        k_neighbors=safe_k,  # Usar el valor ajustado\n",
    "        random_state=SEED\n",
    "    )),\n",
    "    ('classifier', keras_clf)\n",
    "])"
   ]
  },
  {
   "cell_type": "markdown",
   "id": "05f2a1f6",
   "metadata": {
    "papermill": {
     "duration": 0.00759,
     "end_time": "2025-06-04T18:53:20.051083",
     "exception": false,
     "start_time": "2025-06-04T18:53:20.043493",
     "status": "completed"
    },
    "tags": []
   },
   "source": [
    "## **12- Búsqueda de hiperparámetros:**"
   ]
  },
  {
   "cell_type": "code",
   "execution_count": 26,
   "id": "e6294fcf",
   "metadata": {
    "papermill": {
     "duration": 0.013708,
     "end_time": "2025-06-04T18:53:20.072369",
     "exception": false,
     "start_time": "2025-06-04T18:53:20.058661",
     "status": "completed"
    },
    "tags": []
   },
   "outputs": [],
   "source": [
    "param_grid = {\n",
    "    # Hiperparámetros de la red neuronal\n",
    "    'classifier__model__num_neurons': [\n",
    "        [64, 32],\n",
    "        [128, 64],      # 2 capas: 128 → 64\n",
    "        [256, 128, 64] # 3 capas: 256 → 128 → 64\n",
    "    ],\n",
    "    'classifier__model__dropout_rate': [\n",
    "        [0.2, 0.2],\n",
    "        [0.3, 0.0],\n",
    "        [0.5, 0.3],     # Para 2 capas\n",
    "        [0.5, 0.4, 0.3] # Para 3 capas\n",
    "    ],\n",
    "    'classifier__model__optimizer': ['adam', 'nadam', \"sgd\", \"rmsprop\"],\n",
    "    'classifier__model__learning_rate': [0.01, 0.001, 0.0005, 0.0007],\n",
    "    # Hiperparámetros del entrenamiento (si aplican)\n",
    "    'classifier__batch_size': [32, 64],\n",
    "    'smote__k_neighbors': [3, 5, safe_k] # Opcional, si se quiere optimizar SMOTE\n",
    "}"
   ]
  },
  {
   "cell_type": "markdown",
   "id": "73db199f",
   "metadata": {
    "papermill": {
     "duration": 0.007584,
     "end_time": "2025-06-04T18:53:20.087518",
     "exception": false,
     "start_time": "2025-06-04T18:53:20.079934",
     "status": "completed"
    },
    "tags": []
   },
   "source": [
    "## **13- Configuración de la búsqueda HalvingGridSearchCV:**"
   ]
  },
  {
   "cell_type": "code",
   "execution_count": 27,
   "id": "07deedad",
   "metadata": {
    "papermill": {
     "duration": 0.013536,
     "end_time": "2025-06-04T18:53:20.128917",
     "exception": false,
     "start_time": "2025-06-04T18:53:20.115381",
     "status": "completed"
    },
    "tags": []
   },
   "outputs": [],
   "source": [
    "# Configurar HalvingGridSearchCV con epochs como recurso\n",
    "search = HalvingGridSearchCV(\n",
    "    pipeline,\n",
    "    param_grid,\n",
    "    resource='classifier__epochs',  # Recurso a incrementar\n",
    "    max_resources=150,          # Máximo número de epochs\n",
    "    min_resources=50,          # Mínimo epochs inicial\n",
    "    factor=3,                  # Factor de reducción\n",
    "    cv=cv,\n",
    "    # scoring=custom_scorer, # Asegura detectar todas las facultades por igual\n",
    "    scoring='f1_macro',\n",
    "    n_jobs=-1,\n",
    "    random_state=SEED,\n",
    "    aggressive_elimination=False, # Prioriza usar todos los recursos (aggressive_elimination=False), asegurando que los mejores candidatos se evalúen con max_resources\n",
    "    return_train_score=True,\n",
    "    verbose=0\n",
    ")"
   ]
  },
  {
   "cell_type": "markdown",
   "id": "7962774b",
   "metadata": {
    "papermill": {
     "duration": 0.007584,
     "end_time": "2025-06-04T18:53:20.144315",
     "exception": false,
     "start_time": "2025-06-04T18:53:20.136731",
     "status": "completed"
    },
    "tags": []
   },
   "source": [
    "## **14- Entrenamiento:**"
   ]
  },
  {
   "cell_type": "code",
   "execution_count": null,
   "id": "1e7ba5f4",
   "metadata": {
    "papermill": {
     "duration": 6397.092968,
     "end_time": "2025-06-04T20:39:57.267081",
     "exception": false,
     "start_time": "2025-06-04T18:53:20.174113",
     "status": "completed"
    },
    "scrolled": true,
    "tags": []
   },
   "outputs": [],
   "source": [
    "%time\n",
    "search.fit(X_train, y_train)"
   ]
  },
  {
   "cell_type": "code",
   "execution_count": 29,
   "id": "0dc5b436",
   "metadata": {},
   "outputs": [
    {
     "data": {
      "text/plain": [
       "['/home/misc1/./models/best_model_KerasClassifier_search.pkl']"
      ]
     },
     "execution_count": 29,
     "metadata": {},
     "output_type": "execute_result"
    }
   ],
   "source": [
    "joblib.dump(search, os.path.join(basedir, './models/best_model_KerasClassifier_search.pkl'))"
   ]
  },
  {
   "cell_type": "markdown",
   "id": "d157646e",
   "metadata": {
    "papermill": {
     "duration": 2.970519,
     "end_time": "2025-06-04T20:40:09.242625",
     "exception": false,
     "start_time": "2025-06-04T20:40:06.272106",
     "status": "completed"
    },
    "tags": []
   },
   "source": [
    "## **15- Resultados:**"
   ]
  },
  {
   "cell_type": "code",
   "execution_count": 30,
   "id": "339332bd",
   "metadata": {
    "papermill": {
     "duration": 2.917941,
     "end_time": "2025-06-04T20:40:15.124013",
     "exception": false,
     "start_time": "2025-06-04T20:40:12.206072",
     "status": "completed"
    },
    "tags": []
   },
   "outputs": [
    {
     "name": "stdout",
     "output_type": "stream",
     "text": [
      "Mejores parámetros: {'classifier__batch_size': 64, 'classifier__model__dropout_rate': [0.3, 0.0], 'classifier__model__learning_rate': 0.0005, 'classifier__model__num_neurons': [128, 64], 'classifier__model__optimizer': 'nadam', 'smote__k_neighbors': 3, 'classifier__epochs': 150}\n",
      "Mejor puntuación: 0.13745776148123323\n"
     ]
    }
   ],
   "source": [
    "print(f\"Mejores parámetros: {search.best_params_}\")\n",
    "print(f\"Mejor puntuación: {search.best_score_}\")"
   ]
  },
  {
   "cell_type": "markdown",
   "id": "338cf869",
   "metadata": {
    "papermill": {
     "duration": 2.947584,
     "end_time": "2025-06-04T20:40:20.978272",
     "exception": false,
     "start_time": "2025-06-04T20:40:18.030688",
     "status": "completed"
    },
    "tags": []
   },
   "source": [
    "#### **Mejores parámetros del modelo:**"
   ]
  },
  {
   "cell_type": "code",
   "execution_count": 31,
   "id": "6c8fbb47",
   "metadata": {
    "papermill": {
     "duration": 2.912844,
     "end_time": "2025-06-04T20:40:26.732912",
     "exception": false,
     "start_time": "2025-06-04T20:40:23.820068",
     "status": "completed"
    },
    "tags": []
   },
   "outputs": [
    {
     "data": {
      "text/plain": [
       "{'model': <function __main__.create_model(input_dim, output_dim, num_neurons, dropout_rate, optimizer, learning_rate)>,\n",
       " 'build_fn': None,\n",
       " 'warm_start': False,\n",
       " 'random_state': 7,\n",
       " 'optimizer': 'rmsprop',\n",
       " 'loss': None,\n",
       " 'metrics': None,\n",
       " 'batch_size': 64,\n",
       " 'validation_batch_size': None,\n",
       " 'verbose': 2,\n",
       " 'callbacks': None,\n",
       " 'validation_split': 0.0,\n",
       " 'shuffle': True,\n",
       " 'run_eagerly': False,\n",
       " 'epochs': 150,\n",
       " 'input_dim': 24,\n",
       " 'output_dim': 14,\n",
       " 'fit__class_weight': {np.int64(0): np.float64(0.6660029865604778),\n",
       "  np.int64(1): np.float64(2.6547619047619047),\n",
       "  np.int64(2): np.float64(1.6766917293233083),\n",
       "  np.int64(3): np.float64(1.2871572871572872),\n",
       "  np.int64(4): np.float64(2.1970443349753697),\n",
       "  np.int64(5): np.float64(1.4817275747508305),\n",
       "  np.int64(6): np.float64(2.147672552166934),\n",
       "  np.int64(7): np.float64(1.0416504476449981),\n",
       "  np.int64(8): np.float64(1.864808362369338),\n",
       "  np.int64(9): np.float64(0.3324223602484472),\n",
       "  np.int64(10): np.float64(0.2641919241781025),\n",
       "  np.int64(11): np.float64(4.15527950310559),\n",
       "  np.int64(12): np.float64(1.9910714285714286),\n",
       "  np.int64(13): np.float64(8.31055900621118)},\n",
       " 'fit__validation_split': 0.2,\n",
       " 'class_weight': None,\n",
       " 'model__dropout_rate': [0.3, 0.0],\n",
       " 'model__learning_rate': 0.0005,\n",
       " 'model__num_neurons': [128, 64],\n",
       " 'model__optimizer': 'nadam'}"
      ]
     },
     "execution_count": 31,
     "metadata": {},
     "output_type": "execute_result"
    }
   ],
   "source": [
    "best_model = search.best_estimator_\n",
    "modelo_inside = best_model.named_steps['classifier']\n",
    "modelo_inside.get_params()"
   ]
  },
  {
   "cell_type": "markdown",
   "id": "cfe980c8",
   "metadata": {
    "papermill": {
     "duration": 2.939102,
     "end_time": "2025-06-04T20:40:32.555670",
     "exception": false,
     "start_time": "2025-06-04T20:40:29.616568",
     "status": "completed"
    },
    "tags": []
   },
   "source": [
    "## **16- Evaluación final con Test:**"
   ]
  },
  {
   "cell_type": "code",
   "execution_count": 32,
   "id": "f911493b",
   "metadata": {
    "papermill": {
     "duration": 3.300061,
     "end_time": "2025-06-04T20:40:38.698596",
     "exception": false,
     "start_time": "2025-06-04T20:40:35.398535",
     "status": "completed"
    },
    "scrolled": true,
    "tags": []
   },
   "outputs": [
    {
     "name": "stdout",
     "output_type": "stream",
     "text": [
      "21/21 - 0s - 6ms/step\n"
     ]
    },
    {
     "name": "stderr",
     "output_type": "stream",
     "text": [
      "2025-06-16 01:34:04.158412: E tensorflow/core/framework/node_def_util.cc:680] NodeDef mentions attribute use_unbounded_threadpool which is not in the op definition: Op<name=MapDataset; signature=input_dataset:variant, other_arguments: -> handle:variant; attr=f:func; attr=Targuments:list(type),min=0; attr=output_types:list(type),min=1; attr=output_shapes:list(shape),min=1; attr=use_inter_op_parallelism:bool,default=true; attr=preserve_cardinality:bool,default=false; attr=force_synchronous:bool,default=false; attr=metadata:string,default=\"\"> This may be expected if your graph generating binary is newer  than this binary. Unknown attributes will be ignored. NodeDef: {{node ParallelMapDatasetV2/_14}}\n"
     ]
    },
    {
     "name": "stdout",
     "output_type": "stream",
     "text": [
      "21/21 - 0s - 4ms/step\n",
      "\n",
      "Reporte de clasificación:\n"
     ]
    },
    {
     "data": {
      "text/html": [
       "<div>\n",
       "<style scoped>\n",
       "    .dataframe tbody tr th:only-of-type {\n",
       "        vertical-align: middle;\n",
       "    }\n",
       "\n",
       "    .dataframe tbody tr th {\n",
       "        vertical-align: top;\n",
       "    }\n",
       "\n",
       "    .dataframe thead th {\n",
       "        text-align: right;\n",
       "    }\n",
       "</style>\n",
       "<table border=\"1\" class=\"dataframe\">\n",
       "  <thead>\n",
       "    <tr style=\"text-align: right;\">\n",
       "      <th></th>\n",
       "      <th>class</th>\n",
       "      <th>precision</th>\n",
       "      <th>recall</th>\n",
       "      <th>f1-score</th>\n",
       "      <th>support</th>\n",
       "    </tr>\n",
       "  </thead>\n",
       "  <tbody>\n",
       "    <tr>\n",
       "      <th>0</th>\n",
       "      <td>0</td>\n",
       "      <td>0.2439</td>\n",
       "      <td>0.1389</td>\n",
       "      <td>0.1770</td>\n",
       "      <td>144</td>\n",
       "    </tr>\n",
       "    <tr>\n",
       "      <th>1</th>\n",
       "      <td>1</td>\n",
       "      <td>0.0903</td>\n",
       "      <td>0.3611</td>\n",
       "      <td>0.1444</td>\n",
       "      <td>36</td>\n",
       "    </tr>\n",
       "    <tr>\n",
       "      <th>2</th>\n",
       "      <td>2</td>\n",
       "      <td>0.0488</td>\n",
       "      <td>0.0702</td>\n",
       "      <td>0.0576</td>\n",
       "      <td>57</td>\n",
       "    </tr>\n",
       "    <tr>\n",
       "      <th>3</th>\n",
       "      <td>3</td>\n",
       "      <td>0.0865</td>\n",
       "      <td>0.1216</td>\n",
       "      <td>0.1011</td>\n",
       "      <td>74</td>\n",
       "    </tr>\n",
       "    <tr>\n",
       "      <th>4</th>\n",
       "      <td>4</td>\n",
       "      <td>0.0556</td>\n",
       "      <td>0.1860</td>\n",
       "      <td>0.0856</td>\n",
       "      <td>43</td>\n",
       "    </tr>\n",
       "    <tr>\n",
       "      <th>5</th>\n",
       "      <td>5</td>\n",
       "      <td>0.1655</td>\n",
       "      <td>0.3538</td>\n",
       "      <td>0.2255</td>\n",
       "      <td>65</td>\n",
       "    </tr>\n",
       "    <tr>\n",
       "      <th>6</th>\n",
       "      <td>6</td>\n",
       "      <td>0.0706</td>\n",
       "      <td>0.1364</td>\n",
       "      <td>0.0930</td>\n",
       "      <td>44</td>\n",
       "    </tr>\n",
       "    <tr>\n",
       "      <th>7</th>\n",
       "      <td>7</td>\n",
       "      <td>0.2805</td>\n",
       "      <td>0.2527</td>\n",
       "      <td>0.2659</td>\n",
       "      <td>91</td>\n",
       "    </tr>\n",
       "    <tr>\n",
       "      <th>8</th>\n",
       "      <td>8</td>\n",
       "      <td>0.1163</td>\n",
       "      <td>0.2941</td>\n",
       "      <td>0.1667</td>\n",
       "      <td>51</td>\n",
       "    </tr>\n",
       "    <tr>\n",
       "      <th>9</th>\n",
       "      <td>9</td>\n",
       "      <td>0.4429</td>\n",
       "      <td>0.1076</td>\n",
       "      <td>0.1732</td>\n",
       "      <td>288</td>\n",
       "    </tr>\n",
       "    <tr>\n",
       "      <th>10</th>\n",
       "      <td>10</td>\n",
       "      <td>0.3673</td>\n",
       "      <td>0.0497</td>\n",
       "      <td>0.0876</td>\n",
       "      <td>362</td>\n",
       "    </tr>\n",
       "    <tr>\n",
       "      <th>11</th>\n",
       "      <td>11</td>\n",
       "      <td>0.1148</td>\n",
       "      <td>0.3043</td>\n",
       "      <td>0.1667</td>\n",
       "      <td>23</td>\n",
       "    </tr>\n",
       "    <tr>\n",
       "      <th>12</th>\n",
       "      <td>12</td>\n",
       "      <td>0.1083</td>\n",
       "      <td>0.2708</td>\n",
       "      <td>0.1548</td>\n",
       "      <td>48</td>\n",
       "    </tr>\n",
       "    <tr>\n",
       "      <th>13</th>\n",
       "      <td>13</td>\n",
       "      <td>0.0000</td>\n",
       "      <td>0.0000</td>\n",
       "      <td>0.0000</td>\n",
       "      <td>12</td>\n",
       "    </tr>\n",
       "    <tr>\n",
       "      <th>14</th>\n",
       "      <td>accuracy</td>\n",
       "      <td></td>\n",
       "      <td></td>\n",
       "      <td>0.1420</td>\n",
       "      <td>1338</td>\n",
       "    </tr>\n",
       "    <tr>\n",
       "      <th>15</th>\n",
       "      <td>macro avg</td>\n",
       "      <td>0.1565</td>\n",
       "      <td>0.1891</td>\n",
       "      <td>0.1356</td>\n",
       "      <td>1338</td>\n",
       "    </tr>\n",
       "    <tr>\n",
       "      <th>16</th>\n",
       "      <td>weighted avg</td>\n",
       "      <td>0.2718</td>\n",
       "      <td>0.1420</td>\n",
       "      <td>0.1416</td>\n",
       "      <td>1338</td>\n",
       "    </tr>\n",
       "  </tbody>\n",
       "</table>\n",
       "</div>"
      ],
      "text/plain": [
       "           class precision  recall f1-score  support\n",
       "0              0    0.2439  0.1389   0.1770      144\n",
       "1              1    0.0903  0.3611   0.1444       36\n",
       "2              2    0.0488  0.0702   0.0576       57\n",
       "3              3    0.0865  0.1216   0.1011       74\n",
       "4              4    0.0556  0.1860   0.0856       43\n",
       "5              5    0.1655  0.3538   0.2255       65\n",
       "6              6    0.0706  0.1364   0.0930       44\n",
       "7              7    0.2805  0.2527   0.2659       91\n",
       "8              8    0.1163  0.2941   0.1667       51\n",
       "9              9    0.4429  0.1076   0.1732      288\n",
       "10            10    0.3673  0.0497   0.0876      362\n",
       "11            11    0.1148  0.3043   0.1667       23\n",
       "12            12    0.1083  0.2708   0.1548       48\n",
       "13            13    0.0000  0.0000   0.0000       12\n",
       "14      accuracy                     0.1420     1338\n",
       "15     macro avg    0.1565  0.1891   0.1356     1338\n",
       "16  weighted avg    0.2718  0.1420   0.1416     1338"
      ]
     },
     "metadata": {},
     "output_type": "display_data"
    },
    {
     "name": "stdout",
     "output_type": "stream",
     "text": [
      "\n",
      "F1-score ma: 0.1356\n",
      "\n",
      "Matthews corr: 0.0923\n",
      "\n",
      "Cohen kappa: 0.0869\n"
     ]
    }
   ],
   "source": [
    "best_model = search.best_estimator_\n",
    "\n",
    "y_pred = best_model.predict(X_test)\n",
    "y_proba = best_model.predict_proba(X_test)\n",
    "\n",
    "print(f\"\\nReporte de clasificación:\")\n",
    "classification_report_df(y_test, y_pred, precisión=4)\n",
    "\n",
    "print(f\"\\nF1-score ma: {f1_score(y_test, y_pred, average='macro'):.4f}\")\n",
    "\n",
    "print(f\"\\nMatthews corr: {matthews_corrcoef(y_test, y_pred):.4f}\")\n",
    "\n",
    "print(f\"\\nCohen kappa: {cohen_kappa_score(y_test, y_pred):.4f}\")"
   ]
  },
  {
   "cell_type": "code",
   "execution_count": 33,
   "id": "1d67b8ea",
   "metadata": {
    "papermill": {
     "duration": 3.266883,
     "end_time": "2025-06-04T20:40:44.878649",
     "exception": false,
     "start_time": "2025-06-04T20:40:41.611766",
     "status": "completed"
    },
    "scrolled": true,
    "tags": []
   },
   "outputs": [
    {
     "data": {
      "image/png": "[encoded data removed]",
      "text/plain": [
       "<Figure size 1200x800 with 2 Axes>"
      ]
     },
     "metadata": {},
     "output_type": "display_data"
    },
    {
     "name": "stdout",
     "output_type": "stream",
     "text": [
      "Matriz de Confusión Normalizada (por fila)\n",
      "Modelo KerasClassifier (GRUPOREFERENCIA)\n"
     ]
    }
   ],
   "source": [
    "conf_matrix_normalized_sn(y_test, y_pred)\n",
    "print(\"Matriz de Confusión Normalizada (por fila)\\nModelo KerasClassifier (GRUPOREFERENCIA)\")"
   ]
  },
  {
   "cell_type": "markdown",
   "id": "913aabb4",
   "metadata": {
    "papermill": {
     "duration": 2.853969,
     "end_time": "2025-06-04T20:40:50.628769",
     "exception": false,
     "start_time": "2025-06-04T20:40:47.774800",
     "status": "completed"
    },
    "tags": []
   },
   "source": [
    "## **17- Entrenamiento final con todos los datos X:**"
   ]
  },
  {
   "cell_type": "code",
   "execution_count": 34,
   "id": "3b8ae721",
   "metadata": {
    "papermill": {
     "duration": 2.924622,
     "end_time": "2025-06-04T20:40:56.487727",
     "exception": false,
     "start_time": "2025-06-04T20:40:53.563105",
     "status": "completed"
    },
    "tags": []
   },
   "outputs": [
    {
     "data": {
      "text/html": [
       "<style>#sk-container-id-2 {\n",
       "  /* Definition of color scheme common for light and dark mode */\n",
       "  --sklearn-color-text: black;\n",
       "  --sklearn-color-line: gray;\n",
       "  /* Definition of color scheme for unfitted estimators */\n",
       "  --sklearn-color-unfitted-level-0: #fff5e6;\n",
       "  --sklearn-color-unfitted-level-1: #f6e4d2;\n",
       "  --sklearn-color-unfitted-level-2: #ffe0b3;\n",
       "  --sklearn-color-unfitted-level-3: chocolate;\n",
       "  /* Definition of color scheme for fitted estimators */\n",
       "  --sklearn-color-fitted-level-0: #f0f8ff;\n",
       "  --sklearn-color-fitted-level-1: #d4ebff;\n",
       "  --sklearn-color-fitted-level-2: #b3dbfd;\n",
       "  --sklearn-color-fitted-level-3: cornflowerblue;\n",
       "\n",
       "  /* Specific color for light theme */\n",
       "  --sklearn-color-text-on-default-background: var(--sg-text-color, var(--theme-code-foreground, var(--jp-content-font-color1, black)));\n",
       "  --sklearn-color-background: var(--sg-background-color, var(--theme-background, var(--jp-layout-color0, white)));\n",
       "  --sklearn-color-border-box: var(--sg-text-color, var(--theme-code-foreground, var(--jp-content-font-color1, black)));\n",
       "  --sklearn-color-icon: #696969;\n",
       "\n",
       "  @media (prefers-color-scheme: dark) {\n",
       "    /* Redefinition of color scheme for dark theme */\n",
       "    --sklearn-color-text-on-default-background: var(--sg-text-color, var(--theme-code-foreground, var(--jp-content-font-color1, white)));\n",
       "    --sklearn-color-background: var(--sg-background-color, var(--theme-background, var(--jp-layout-color0, #111)));\n",
       "    --sklearn-color-border-box: var(--sg-text-color, var(--theme-code-foreground, var(--jp-content-font-color1, white)));\n",
       "    --sklearn-color-icon: #878787;\n",
       "  }\n",
       "}\n",
       "\n",
       "#sk-container-id-2 {\n",
       "  color: var(--sklearn-color-text);\n",
       "}\n",
       "\n",
       "#sk-container-id-2 pre {\n",
       "  padding: 0;\n",
       "}\n",
       "\n",
       "#sk-container-id-2 input.sk-hidden--visually {\n",
       "  border: 0;\n",
       "  clip: rect(1px 1px 1px 1px);\n",
       "  clip: rect(1px, 1px, 1px, 1px);\n",
       "  height: 1px;\n",
       "  margin: -1px;\n",
       "  overflow: hidden;\n",
       "  padding: 0;\n",
       "  position: absolute;\n",
       "  width: 1px;\n",
       "}\n",
       "\n",
       "#sk-container-id-2 div.sk-dashed-wrapped {\n",
       "  border: 1px dashed var(--sklearn-color-line);\n",
       "  margin: 0 0.4em 0.5em 0.4em;\n",
       "  box-sizing: border-box;\n",
       "  padding-bottom: 0.4em;\n",
       "  background-color: var(--sklearn-color-background);\n",
       "}\n",
       "\n",
       "#sk-container-id-2 div.sk-container {\n",
       "  /* jupyter's `normalize.less` sets `[hidden] { display: none; }`\n",
       "     but bootstrap.min.css set `[hidden] { display: none !important; }`\n",
       "     so we also need the `!important` here to be able to override the\n",
       "     default hidden behavior on the sphinx rendered scikit-learn.org.\n",
       "     See: https://github.com/scikit-learn/scikit-learn/issues/21755 */\n",
       "  display: inline-block !important;\n",
       "  position: relative;\n",
       "}\n",
       "\n",
       "#sk-container-id-2 div.sk-text-repr-fallback {\n",
       "  display: none;\n",
       "}\n",
       "\n",
       "div.sk-parallel-item,\n",
       "div.sk-serial,\n",
       "div.sk-item {\n",
       "  /* draw centered vertical line to link estimators */\n",
       "  background-image: linear-gradient(var(--sklearn-color-text-on-default-background), var(--sklearn-color-text-on-default-background));\n",
       "  background-size: 2px 100%;\n",
       "  background-repeat: no-repeat;\n",
       "  background-position: center center;\n",
       "}\n",
       "\n",
       "/* Parallel-specific style estimator block */\n",
       "\n",
       "#sk-container-id-2 div.sk-parallel-item::after {\n",
       "  content: \"\";\n",
       "  width: 100%;\n",
       "  border-bottom: 2px solid var(--sklearn-color-text-on-default-background);\n",
       "  flex-grow: 1;\n",
       "}\n",
       "\n",
       "#sk-container-id-2 div.sk-parallel {\n",
       "  display: flex;\n",
       "  align-items: stretch;\n",
       "  justify-content: center;\n",
       "  background-color: var(--sklearn-color-background);\n",
       "  position: relative;\n",
       "}\n",
       "\n",
       "#sk-container-id-2 div.sk-parallel-item {\n",
       "  display: flex;\n",
       "  flex-direction: column;\n",
       "}\n",
       "\n",
       "#sk-container-id-2 div.sk-parallel-item:first-child::after {\n",
       "  align-self: flex-end;\n",
       "  width: 50%;\n",
       "}\n",
       "\n",
       "#sk-container-id-2 div.sk-parallel-item:last-child::after {\n",
       "  align-self: flex-start;\n",
       "  width: 50%;\n",
       "}\n",
       "\n",
       "#sk-container-id-2 div.sk-parallel-item:only-child::after {\n",
       "  width: 0;\n",
       "}\n",
       "\n",
       "/* Serial-specific style estimator block */\n",
       "\n",
       "#sk-container-id-2 div.sk-serial {\n",
       "  display: flex;\n",
       "  flex-direction: column;\n",
       "  align-items: center;\n",
       "  background-color: var(--sklearn-color-background);\n",
       "  padding-right: 1em;\n",
       "  padding-left: 1em;\n",
       "}\n",
       "\n",
       "\n",
       "/* Toggleable style: style used for estimator/Pipeline/ColumnTransformer box that is\n",
       "clickable and can be expanded/collapsed.\n",
       "- Pipeline and ColumnTransformer use this feature and define the default style\n",
       "- Estimators will overwrite some part of the style using the `sk-estimator` class\n",
       "*/\n",
       "\n",
       "/* Pipeline and ColumnTransformer style (default) */\n",
       "\n",
       "#sk-container-id-2 div.sk-toggleable {\n",
       "  /* Default theme specific background. It is overwritten whether we have a\n",
       "  specific estimator or a Pipeline/ColumnTransformer */\n",
       "  background-color: var(--sklearn-color-background);\n",
       "}\n",
       "\n",
       "/* Toggleable label */\n",
       "#sk-container-id-2 label.sk-toggleable__label {\n",
       "  cursor: pointer;\n",
       "  display: block;\n",
       "  width: 100%;\n",
       "  margin-bottom: 0;\n",
       "  padding: 0.5em;\n",
       "  box-sizing: border-box;\n",
       "  text-align: center;\n",
       "}\n",
       "\n",
       "#sk-container-id-2 label.sk-toggleable__label-arrow:before {\n",
       "  /* Arrow on the left of the label */\n",
       "  content: \"▸\";\n",
       "  float: left;\n",
       "  margin-right: 0.25em;\n",
       "  color: var(--sklearn-color-icon);\n",
       "}\n",
       "\n",
       "#sk-container-id-2 label.sk-toggleable__label-arrow:hover:before {\n",
       "  color: var(--sklearn-color-text);\n",
       "}\n",
       "\n",
       "/* Toggleable content - dropdown */\n",
       "\n",
       "#sk-container-id-2 div.sk-toggleable__content {\n",
       "  max-height: 0;\n",
       "  max-width: 0;\n",
       "  overflow: hidden;\n",
       "  text-align: left;\n",
       "  /* unfitted */\n",
       "  background-color: var(--sklearn-color-unfitted-level-0);\n",
       "}\n",
       "\n",
       "#sk-container-id-2 div.sk-toggleable__content.fitted {\n",
       "  /* fitted */\n",
       "  background-color: var(--sklearn-color-fitted-level-0);\n",
       "}\n",
       "\n",
       "#sk-container-id-2 div.sk-toggleable__content pre {\n",
       "  margin: 0.2em;\n",
       "  border-radius: 0.25em;\n",
       "  color: var(--sklearn-color-text);\n",
       "  /* unfitted */\n",
       "  background-color: var(--sklearn-color-unfitted-level-0);\n",
       "}\n",
       "\n",
       "#sk-container-id-2 div.sk-toggleable__content.fitted pre {\n",
       "  /* unfitted */\n",
       "  background-color: var(--sklearn-color-fitted-level-0);\n",
       "}\n",
       "\n",
       "#sk-container-id-2 input.sk-toggleable__control:checked~div.sk-toggleable__content {\n",
       "  /* Expand drop-down */\n",
       "  max-height: 200px;\n",
       "  max-width: 100%;\n",
       "  overflow: auto;\n",
       "}\n",
       "\n",
       "#sk-container-id-2 input.sk-toggleable__control:checked~label.sk-toggleable__label-arrow:before {\n",
       "  content: \"▾\";\n",
       "}\n",
       "\n",
       "/* Pipeline/ColumnTransformer-specific style */\n",
       "\n",
       "#sk-container-id-2 div.sk-label input.sk-toggleable__control:checked~label.sk-toggleable__label {\n",
       "  color: var(--sklearn-color-text);\n",
       "  background-color: var(--sklearn-color-unfitted-level-2);\n",
       "}\n",
       "\n",
       "#sk-container-id-2 div.sk-label.fitted input.sk-toggleable__control:checked~label.sk-toggleable__label {\n",
       "  background-color: var(--sklearn-color-fitted-level-2);\n",
       "}\n",
       "\n",
       "/* Estimator-specific style */\n",
       "\n",
       "/* Colorize estimator box */\n",
       "#sk-container-id-2 div.sk-estimator input.sk-toggleable__control:checked~label.sk-toggleable__label {\n",
       "  /* unfitted */\n",
       "  background-color: var(--sklearn-color-unfitted-level-2);\n",
       "}\n",
       "\n",
       "#sk-container-id-2 div.sk-estimator.fitted input.sk-toggleable__control:checked~label.sk-toggleable__label {\n",
       "  /* fitted */\n",
       "  background-color: var(--sklearn-color-fitted-level-2);\n",
       "}\n",
       "\n",
       "#sk-container-id-2 div.sk-label label.sk-toggleable__label,\n",
       "#sk-container-id-2 div.sk-label label {\n",
       "  /* The background is the default theme color */\n",
       "  color: var(--sklearn-color-text-on-default-background);\n",
       "}\n",
       "\n",
       "/* On hover, darken the color of the background */\n",
       "#sk-container-id-2 div.sk-label:hover label.sk-toggleable__label {\n",
       "  color: var(--sklearn-color-text);\n",
       "  background-color: var(--sklearn-color-unfitted-level-2);\n",
       "}\n",
       "\n",
       "/* Label box, darken color on hover, fitted */\n",
       "#sk-container-id-2 div.sk-label.fitted:hover label.sk-toggleable__label.fitted {\n",
       "  color: var(--sklearn-color-text);\n",
       "  background-color: var(--sklearn-color-fitted-level-2);\n",
       "}\n",
       "\n",
       "/* Estimator label */\n",
       "\n",
       "#sk-container-id-2 div.sk-label label {\n",
       "  font-family: monospace;\n",
       "  font-weight: bold;\n",
       "  display: inline-block;\n",
       "  line-height: 1.2em;\n",
       "}\n",
       "\n",
       "#sk-container-id-2 div.sk-label-container {\n",
       "  text-align: center;\n",
       "}\n",
       "\n",
       "/* Estimator-specific */\n",
       "#sk-container-id-2 div.sk-estimator {\n",
       "  font-family: monospace;\n",
       "  border: 1px dotted var(--sklearn-color-border-box);\n",
       "  border-radius: 0.25em;\n",
       "  box-sizing: border-box;\n",
       "  margin-bottom: 0.5em;\n",
       "  /* unfitted */\n",
       "  background-color: var(--sklearn-color-unfitted-level-0);\n",
       "}\n",
       "\n",
       "#sk-container-id-2 div.sk-estimator.fitted {\n",
       "  /* fitted */\n",
       "  background-color: var(--sklearn-color-fitted-level-0);\n",
       "}\n",
       "\n",
       "/* on hover */\n",
       "#sk-container-id-2 div.sk-estimator:hover {\n",
       "  /* unfitted */\n",
       "  background-color: var(--sklearn-color-unfitted-level-2);\n",
       "}\n",
       "\n",
       "#sk-container-id-2 div.sk-estimator.fitted:hover {\n",
       "  /* fitted */\n",
       "  background-color: var(--sklearn-color-fitted-level-2);\n",
       "}\n",
       "\n",
       "/* Specification for estimator info (e.g. \"i\" and \"?\") */\n",
       "\n",
       "/* Common style for \"i\" and \"?\" */\n",
       "\n",
       ".sk-estimator-doc-link,\n",
       "a:link.sk-estimator-doc-link,\n",
       "a:visited.sk-estimator-doc-link {\n",
       "  float: right;\n",
       "  font-size: smaller;\n",
       "  line-height: 1em;\n",
       "  font-family: monospace;\n",
       "  background-color: var(--sklearn-color-background);\n",
       "  border-radius: 1em;\n",
       "  height: 1em;\n",
       "  width: 1em;\n",
       "  text-decoration: none !important;\n",
       "  margin-left: 1ex;\n",
       "  /* unfitted */\n",
       "  border: var(--sklearn-color-unfitted-level-1) 1pt solid;\n",
       "  color: var(--sklearn-color-unfitted-level-1);\n",
       "}\n",
       "\n",
       ".sk-estimator-doc-link.fitted,\n",
       "a:link.sk-estimator-doc-link.fitted,\n",
       "a:visited.sk-estimator-doc-link.fitted {\n",
       "  /* fitted */\n",
       "  border: var(--sklearn-color-fitted-level-1) 1pt solid;\n",
       "  color: var(--sklearn-color-fitted-level-1);\n",
       "}\n",
       "\n",
       "/* On hover */\n",
       "div.sk-estimator:hover .sk-estimator-doc-link:hover,\n",
       ".sk-estimator-doc-link:hover,\n",
       "div.sk-label-container:hover .sk-estimator-doc-link:hover,\n",
       ".sk-estimator-doc-link:hover {\n",
       "  /* unfitted */\n",
       "  background-color: var(--sklearn-color-unfitted-level-3);\n",
       "  color: var(--sklearn-color-background);\n",
       "  text-decoration: none;\n",
       "}\n",
       "\n",
       "div.sk-estimator.fitted:hover .sk-estimator-doc-link.fitted:hover,\n",
       ".sk-estimator-doc-link.fitted:hover,\n",
       "div.sk-label-container:hover .sk-estimator-doc-link.fitted:hover,\n",
       ".sk-estimator-doc-link.fitted:hover {\n",
       "  /* fitted */\n",
       "  background-color: var(--sklearn-color-fitted-level-3);\n",
       "  color: var(--sklearn-color-background);\n",
       "  text-decoration: none;\n",
       "}\n",
       "\n",
       "/* Span, style for the box shown on hovering the info icon */\n",
       ".sk-estimator-doc-link span {\n",
       "  display: none;\n",
       "  z-index: 9999;\n",
       "  position: relative;\n",
       "  font-weight: normal;\n",
       "  right: .2ex;\n",
       "  padding: .5ex;\n",
       "  margin: .5ex;\n",
       "  width: min-content;\n",
       "  min-width: 20ex;\n",
       "  max-width: 50ex;\n",
       "  color: var(--sklearn-color-text);\n",
       "  box-shadow: 2pt 2pt 4pt #999;\n",
       "  /* unfitted */\n",
       "  background: var(--sklearn-color-unfitted-level-0);\n",
       "  border: .5pt solid var(--sklearn-color-unfitted-level-3);\n",
       "}\n",
       "\n",
       ".sk-estimator-doc-link.fitted span {\n",
       "  /* fitted */\n",
       "  background: var(--sklearn-color-fitted-level-0);\n",
       "  border: var(--sklearn-color-fitted-level-3);\n",
       "}\n",
       "\n",
       ".sk-estimator-doc-link:hover span {\n",
       "  display: block;\n",
       "}\n",
       "\n",
       "/* \"?\"-specific style due to the `<a>` HTML tag */\n",
       "\n",
       "#sk-container-id-2 a.estimator_doc_link {\n",
       "  float: right;\n",
       "  font-size: 1rem;\n",
       "  line-height: 1em;\n",
       "  font-family: monospace;\n",
       "  background-color: var(--sklearn-color-background);\n",
       "  border-radius: 1rem;\n",
       "  height: 1rem;\n",
       "  width: 1rem;\n",
       "  text-decoration: none;\n",
       "  /* unfitted */\n",
       "  color: var(--sklearn-color-unfitted-level-1);\n",
       "  border: var(--sklearn-color-unfitted-level-1) 1pt solid;\n",
       "}\n",
       "\n",
       "#sk-container-id-2 a.estimator_doc_link.fitted {\n",
       "  /* fitted */\n",
       "  border: var(--sklearn-color-fitted-level-1) 1pt solid;\n",
       "  color: var(--sklearn-color-fitted-level-1);\n",
       "}\n",
       "\n",
       "/* On hover */\n",
       "#sk-container-id-2 a.estimator_doc_link:hover {\n",
       "  /* unfitted */\n",
       "  background-color: var(--sklearn-color-unfitted-level-3);\n",
       "  color: var(--sklearn-color-background);\n",
       "  text-decoration: none;\n",
       "}\n",
       "\n",
       "#sk-container-id-2 a.estimator_doc_link.fitted:hover {\n",
       "  /* fitted */\n",
       "  background-color: var(--sklearn-color-fitted-level-3);\n",
       "}\n",
       "</style><div id=\"sk-container-id-2\" class=\"sk-top-container\"><div class=\"sk-text-repr-fallback\"><pre>SMOTE(k_neighbors=45, random_state=7,\n",
       "      sampling_strategy={0: 718, 1: 180, 2: 285, 3: 371, 4: 217, 5: 323, 6: 222,\n",
       "                         7: 458, 8: 256, 9: 1438, 10: 1809, 11: 115, 12: 240,\n",
       "                         13: 58})</pre><b>In a Jupyter environment, please rerun this cell to show the HTML representation or trust the notebook. <br />On GitHub, the HTML representation is unable to render, please try loading this page with nbviewer.org.</b></div><div class=\"sk-container\" hidden><div class=\"sk-item\"><div class=\"sk-estimator  sk-toggleable\"><input class=\"sk-toggleable__control sk-hidden--visually\" id=\"sk-estimator-id-12\" type=\"checkbox\" checked><label for=\"sk-estimator-id-12\" class=\"sk-toggleable__label  sk-toggleable__label-arrow \">&nbsp;SMOTE<span class=\"sk-estimator-doc-link \">i<span>Not fitted</span></span></label><div class=\"sk-toggleable__content \"><pre>SMOTE(k_neighbors=45, random_state=7,\n",
       "      sampling_strategy={0: 718, 1: 180, 2: 285, 3: 371, 4: 217, 5: 323, 6: 222,\n",
       "                         7: 458, 8: 256, 9: 1438, 10: 1809, 11: 115, 12: 240,\n",
       "                         13: 58})</pre></div> </div></div></div></div>"
      ],
      "text/plain": [
       "SMOTE(k_neighbors=45, random_state=7,\n",
       "      sampling_strategy={0: 718, 1: 180, 2: 285, 3: 371, 4: 217, 5: 323, 6: 222,\n",
       "                         7: 458, 8: 256, 9: 1438, 10: 1809, 11: 115, 12: 240,\n",
       "                         13: 58})"
      ]
     },
     "execution_count": 34,
     "metadata": {},
     "output_type": "execute_result"
    }
   ],
   "source": [
    "from sklearn.base import clone\n",
    "\n",
    "best_model = search.best_estimator_\n",
    "\n",
    "# Obtener los parámetros originales del SMOTE del mejor modelo\n",
    "original_blsmote = best_model.named_steps['smote']\n",
    "\n",
    "# Recalcular k_neighbors y sampling_strategy con TODOS los datos\n",
    "X_full = pd.concat([X_train, X_test], axis=0)\n",
    "y_full = pd.concat([y_train, y_test], axis=0)\n",
    "y_full_counts = Counter(y_full[\"GRUPOREFERENCIA\"].to_list())\n",
    "\n",
    "# Ajustar parámetros de BorderlineSMOTE para el dataset completo\n",
    "n_splits = cv.get_n_splits() if hasattr(cv, \"n_splits\") else 5  # Asumir 5 folds si no está disponible\n",
    "adjusted_min_samples = max(1, int(min(y_full_counts.values()) * (n_splits - 1) // n_splits))\n",
    "safe_k_full = max(1, adjusted_min_samples - 1)\n",
    "\n",
    "# Clonar y actualizar el modelo con nuevos parámetros de SMOTE\n",
    "final_model = clone(best_model)\n",
    "final_model.named_steps['smote'].set_params(\n",
    "    sampling_strategy={cls: max(count, safe_k_full + 1) for cls, count in y_full_counts.items()},\n",
    "    k_neighbors=safe_k_full\n",
    ")"
   ]
  },
  {
   "cell_type": "code",
   "execution_count": null,
   "id": "1a935a24",
   "metadata": {
    "papermill": {
     "duration": 52.571733,
     "end_time": "2025-06-04T20:41:51.963466",
     "exception": false,
     "start_time": "2025-06-04T20:40:59.391733",
     "status": "completed"
    },
    "scrolled": true,
    "tags": []
   },
   "outputs": [],
   "source": [
    "# Entrenar con todos los datos (sin estratificación)\n",
    "final_model.fit(X_full, y_full[\"GRUPOREFERENCIA\"].values)"
   ]
  },
  {
   "cell_type": "markdown",
   "id": "aba6526c",
   "metadata": {
    "papermill": {
     "duration": 2.945926,
     "end_time": "2025-06-04T20:41:57.821822",
     "exception": false,
     "start_time": "2025-06-04T20:41:54.875896",
     "status": "completed"
    },
    "tags": []
   },
   "source": [
    "## **18- Guardar modelo final:**"
   ]
  },
  {
   "cell_type": "code",
   "execution_count": 36,
   "id": "ffc550b2",
   "metadata": {},
   "outputs": [
    {
     "data": {
      "text/plain": [
       "['/home/misc1/./models/best_model_KerasClassifier_final.pkl']"
      ]
     },
     "execution_count": 36,
     "metadata": {},
     "output_type": "execute_result"
    }
   ],
   "source": [
    "joblib.dump(final_model, os.path.join(basedir, './models/best_model_KerasClassifier_final.pkl'))"
   ]
  },
  {
   "cell_type": "markdown",
   "id": "37b6971f",
   "metadata": {
    "papermill": {
     "duration": 3.282757,
     "end_time": "2025-06-04T20:42:09.955475",
     "exception": false,
     "start_time": "2025-06-04T20:42:06.672718",
     "status": "completed"
    },
    "tags": []
   },
   "source": [
    "## **19- Predicción con el modelo final:**"
   ]
  },
  {
   "cell_type": "code",
   "execution_count": 37,
   "id": "7b44367b",
   "metadata": {
    "papermill": {
     "duration": 3.065141,
     "end_time": "2025-06-04T20:42:16.144950",
     "exception": false,
     "start_time": "2025-06-04T20:42:13.079809",
     "status": "completed"
    },
    "tags": []
   },
   "outputs": [
    {
     "data": {
      "text/html": [
       "<div>\n",
       "<style scoped>\n",
       "    .dataframe tbody tr th:only-of-type {\n",
       "        vertical-align: middle;\n",
       "    }\n",
       "\n",
       "    .dataframe tbody tr th {\n",
       "        vertical-align: top;\n",
       "    }\n",
       "\n",
       "    .dataframe thead th {\n",
       "        text-align: right;\n",
       "    }\n",
       "</style>\n",
       "<table border=\"1\" class=\"dataframe\">\n",
       "  <thead>\n",
       "    <tr style=\"text-align: right;\">\n",
       "      <th></th>\n",
       "      <th>FAMI_TIENECOMPUTADOR</th>\n",
       "      <th>ESTU_GENERO</th>\n",
       "      <th>FAMI_TIENESERVICIOTV</th>\n",
       "      <th>FAMI_TIENEINTERNET</th>\n",
       "      <th>FAMI_TIENEHORNOMICROOGAS</th>\n",
       "      <th>FAMI_TIENELAVADORA</th>\n",
       "      <th>FAMI_ESTRATOVIVIENDA</th>\n",
       "      <th>FAMI_EDUCACIONPADRE</th>\n",
       "      <th>FAMI_EDUCACIONMADRE</th>\n",
       "      <th>FAMI_PERSONASHOGAR</th>\n",
       "      <th>EDAD</th>\n",
       "      <th>LAT_COLE</th>\n",
       "      <th>LON_COLE</th>\n",
       "      <th>PUNT_LECTURA_CRITICA</th>\n",
       "      <th>PUNT_MATEMATICAS</th>\n",
       "      <th>PUNT_SOCIALES_CIUDADANAS</th>\n",
       "      <th>PUNT_C_NATURALES</th>\n",
       "      <th>PUNT_INGLES</th>\n",
       "    </tr>\n",
       "  </thead>\n",
       "  <tbody>\n",
       "    <tr>\n",
       "      <th>579</th>\n",
       "      <td>NO</td>\n",
       "      <td>F</td>\n",
       "      <td>NO</td>\n",
       "      <td>NO</td>\n",
       "      <td>NO</td>\n",
       "      <td>NO</td>\n",
       "      <td>ESTRATO 1</td>\n",
       "      <td>SECUNDARIA (BACHILLERATO) INCOMPLETA</td>\n",
       "      <td>PRIMARIA INCOMPLETA</td>\n",
       "      <td>3 A 4</td>\n",
       "      <td>16.0</td>\n",
       "      <td>0.829022</td>\n",
       "      <td>-77.629513</td>\n",
       "      <td>55.0</td>\n",
       "      <td>67.0</td>\n",
       "      <td>64.0</td>\n",
       "      <td>63.0</td>\n",
       "      <td>49.0</td>\n",
       "    </tr>\n",
       "  </tbody>\n",
       "</table>\n",
       "</div>"
      ],
      "text/plain": [
       "    FAMI_TIENECOMPUTADOR ESTU_GENERO FAMI_TIENESERVICIOTV FAMI_TIENEINTERNET  \\\n",
       "579                   NO           F                   NO                 NO   \n",
       "\n",
       "    FAMI_TIENEHORNOMICROOGAS FAMI_TIENELAVADORA FAMI_ESTRATOVIVIENDA  \\\n",
       "579                       NO                 NO            ESTRATO 1   \n",
       "\n",
       "                      FAMI_EDUCACIONPADRE  FAMI_EDUCACIONMADRE  \\\n",
       "579  SECUNDARIA (BACHILLERATO) INCOMPLETA  PRIMARIA INCOMPLETA   \n",
       "\n",
       "    FAMI_PERSONASHOGAR  EDAD  LAT_COLE   LON_COLE  PUNT_LECTURA_CRITICA  \\\n",
       "579              3 A 4  16.0  0.829022 -77.629513                  55.0   \n",
       "\n",
       "     PUNT_MATEMATICAS  PUNT_SOCIALES_CIUDADANAS  PUNT_C_NATURALES  PUNT_INGLES  \n",
       "579              67.0                      64.0              63.0         49.0  "
      ]
     },
     "execution_count": 37,
     "metadata": {},
     "output_type": "execute_result"
    }
   ],
   "source": [
    "X_test.iloc[7:8]"
   ]
  },
  {
   "cell_type": "code",
   "execution_count": 38,
   "id": "8a68c122",
   "metadata": {},
   "outputs": [
    {
     "name": "stdout",
     "output_type": "stream",
     "text": [
      "1/1 - 0s - 86ms/step\n"
     ]
    },
    {
     "name": "stderr",
     "output_type": "stream",
     "text": [
      "2025-06-16 01:35:15.032658: E tensorflow/core/framework/node_def_util.cc:680] NodeDef mentions attribute use_unbounded_threadpool which is not in the op definition: Op<name=MapDataset; signature=input_dataset:variant, other_arguments: -> handle:variant; attr=f:func; attr=Targuments:list(type),min=0; attr=output_types:list(type),min=1; attr=output_shapes:list(shape),min=1; attr=use_inter_op_parallelism:bool,default=true; attr=preserve_cardinality:bool,default=false; attr=force_synchronous:bool,default=false; attr=metadata:string,default=\"\"> This may be expected if your graph generating binary is newer  than this binary. Unknown attributes will be ignored. NodeDef: {{node ParallelMapDatasetV2/_14}}\n"
     ]
    },
    {
     "data": {
      "text/plain": [
       "array([3])"
      ]
     },
     "execution_count": 38,
     "metadata": {},
     "output_type": "execute_result"
    }
   ],
   "source": [
    "model = joblib.load(os.path.join(basedir, './models/best_model_KerasClassifier_final.pkl'))\n",
    "model.predict(X_test.iloc[7:8])"
   ]
  }
 ],
 "metadata": {
  "kernelspec": {
   "display_name": "Kernel SRCU (UDENAR) v2",
   "language": "python",
   "name": "krnl_srcu_v2"
  },
  "language_info": {
   "codemirror_mode": {
    "name": "ipython",
    "version": 3
   },
   "file_extension": ".py",
   "mimetype": "text/x-python",
   "name": "python",
   "nbconvert_exporter": "python",
   "pygments_lexer": "ipython3",
   "version": "3.10.12"
  },
  "papermill": {
   "default_parameters": {},
   "duration": 6556.854841,
   "end_time": "2025-06-04T20:42:29.474989",
   "environment_variables": {},
   "exception": null,
   "input_path": "best_16-✅MOD DeepL GR (02_00).ipynb",
   "output_path": "/home/misc1/20250604185310_best_16-✅MOD DeepL GR (02_00).ipynb",
   "parameters": {},
   "start_time": "2025-06-04T18:53:12.620148",
   "version": "2.6.0"
  }
 },
 "nbformat": 4,
 "nbformat_minor": 5
}
