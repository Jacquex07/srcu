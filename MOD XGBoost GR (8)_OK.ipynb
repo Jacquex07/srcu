{
 "cells": [
  {
   "cell_type": "markdown",
   "id": "3246dfdc",
   "metadata": {
    "papermill": {
     "duration": 0.027261,
     "end_time": "2025-06-11T16:24:12.148409",
     "exception": false,
     "start_time": "2025-06-11T16:24:12.121148",
     "status": "completed"
    },
    "tags": []
   },
   "source": [
    "# **Modelo de Sistema de Recomendación - GRUPOREFERENCIA**\n",
    "# **Algoritmo XGBClassifier**"
   ]
  },
  {
   "cell_type": "code",
   "execution_count": 1,
   "id": "bd251170",
   "metadata": {
    "execution": {
     "iopub.execute_input": "2025-06-11T16:24:12.174093Z",
     "iopub.status.busy": "2025-06-11T16:24:12.173784Z",
     "iopub.status.idle": "2025-06-11T16:24:12.177995Z",
     "shell.execute_reply": "2025-06-11T16:24:12.177504Z"
    },
    "papermill": {
     "duration": 0.013721,
     "end_time": "2025-06-11T16:24:12.178957",
     "exception": false,
     "start_time": "2025-06-11T16:24:12.165236",
     "status": "completed"
    },
    "tags": []
   },
   "outputs": [
    {
     "name": "stdout",
     "output_type": "stream",
     "text": [
      "Memoria total: 16.62 GB\n",
      "Núcleos lógicos: 8\n"
     ]
    }
   ],
   "source": [
    "import os\n",
    "import psutil\n",
    "\n",
    "# Memoria\n",
    "print(f\"Memoria total: {psutil.virtual_memory().total / 1e9:.2f} GB\")  # Si muestra >16GB → probablemente remoto\n",
    "\n",
    "# CPU\n",
    "print(f\"Núcleos lógicos: {os.cpu_count()}\")  # >8 cores → servidor dedicado"
   ]
  },
  {
   "cell_type": "code",
   "execution_count": 2,
   "id": "5ef845b9",
   "metadata": {
    "execution": {
     "iopub.execute_input": "2025-06-11T16:24:12.193363Z",
     "iopub.status.busy": "2025-06-11T16:24:12.193118Z",
     "iopub.status.idle": "2025-06-11T16:24:13.963358Z",
     "shell.execute_reply": "2025-06-11T16:24:13.962635Z"
    },
    "papermill": {
     "duration": 1.777873,
     "end_time": "2025-06-11T16:24:13.964601",
     "exception": false,
     "start_time": "2025-06-11T16:24:12.186728",
     "status": "completed"
    },
    "tags": []
   },
   "outputs": [],
   "source": [
    "import pandas as pd\n",
    "import numpy as np\n",
    "import random\n",
    "import joblib\n",
    "\n",
    "from sklearn.preprocessing import OneHotEncoder, OrdinalEncoder, RobustScaler\n",
    "from sklearn.compose import ColumnTransformer\n",
    "from imblearn.pipeline import Pipeline\n",
    "from sklearn.experimental import enable_halving_search_cv\n",
    "from sklearn.model_selection import HalvingGridSearchCV\n",
    "from sklearn.model_selection import StratifiedKFold\n",
    "from sklearn.model_selection import train_test_split\n",
    "from sklearn.metrics import (f1_score,\n",
    "                             matthews_corrcoef,\n",
    "                             cohen_kappa_score)\n",
    "from imblearn.over_sampling import BorderlineSMOTE\n",
    "from xgboost import XGBClassifier"
   ]
  },
  {
   "cell_type": "code",
   "execution_count": 3,
   "id": "de854b82",
   "metadata": {
    "execution": {
     "iopub.execute_input": "2025-06-11T16:24:13.978615Z",
     "iopub.status.busy": "2025-06-11T16:24:13.977956Z",
     "iopub.status.idle": "2025-06-11T16:24:14.415571Z",
     "shell.execute_reply": "2025-06-11T16:24:14.415126Z"
    },
    "papermill": {
     "duration": 0.445843,
     "end_time": "2025-06-11T16:24:14.416520",
     "exception": false,
     "start_time": "2025-06-11T16:24:13.970677",
     "status": "completed"
    },
    "tags": []
   },
   "outputs": [],
   "source": [
    "from dav_cas.tools.eva_mod import classification_report_df\n",
    "from dav_cas.tools.graficos import conf_matrix_normalized_sn"
   ]
  },
  {
   "cell_type": "code",
   "execution_count": 4,
   "id": "96641cab",
   "metadata": {
    "execution": {
     "iopub.execute_input": "2025-06-11T16:24:14.427466Z",
     "iopub.status.busy": "2025-06-11T16:24:14.427091Z",
     "iopub.status.idle": "2025-06-11T16:24:14.431177Z",
     "shell.execute_reply": "2025-06-11T16:24:14.430560Z"
    },
    "papermill": {
     "duration": 0.011393,
     "end_time": "2025-06-11T16:24:14.432407",
     "exception": false,
     "start_time": "2025-06-11T16:24:14.421014",
     "status": "completed"
    },
    "tags": []
   },
   "outputs": [],
   "source": [
    "# Semillas para reproducibilidad\n",
    "SEED = 7\n",
    "SEED_SPLIT = 7\n",
    "os.environ['PYTHONHASHSEED'] = f'{SEED}'  # Para operaciones hash en Python\n",
    "np.random.seed(SEED)                   # Semilla para numpy\n",
    "random.seed(SEED)"
   ]
  },
  {
   "cell_type": "code",
   "execution_count": 5,
   "id": "9b5703ba",
   "metadata": {},
   "outputs": [],
   "source": [
    "basedir = os.getcwd()"
   ]
  },
  {
   "cell_type": "markdown",
   "id": "ae589714",
   "metadata": {
    "papermill": {
     "duration": 0.005104,
     "end_time": "2025-06-11T16:24:14.442225",
     "exception": false,
     "start_time": "2025-06-11T16:24:14.437121",
     "status": "completed"
    },
    "tags": []
   },
   "source": [
    "## **1- Carga de los datos SB11_SBPro_UDENAR_02_01:**\n",
    "\n",
    "## **(Data #8)**"
   ]
  },
  {
   "cell_type": "code",
   "execution_count": 6,
   "id": "ab556964",
   "metadata": {
    "execution": {
     "iopub.execute_input": "2025-06-11T16:24:14.454314Z",
     "iopub.status.busy": "2025-06-11T16:24:14.453616Z",
     "iopub.status.idle": "2025-06-11T16:24:14.456722Z",
     "shell.execute_reply": "2025-06-11T16:24:14.456280Z"
    },
    "papermill": {
     "duration": 0.009619,
     "end_time": "2025-06-11T16:24:14.457505",
     "exception": false,
     "start_time": "2025-06-11T16:24:14.447886",
     "status": "completed"
    },
    "tags": []
   },
   "outputs": [],
   "source": [
    "# MEJOR DATA # 8\n",
    "CAR_NOM = '02' # Características nominales\n",
    "CAR_ORD = '01' # Características ordinales"
   ]
  },
  {
   "cell_type": "code",
   "execution_count": 7,
   "id": "7dab01cb",
   "metadata": {},
   "outputs": [],
   "source": [
    "X = pd.read_csv(os.path.join(basedir, f'data/data_icfes/SB11_SBPro/SB11_SBPro_UDENAR_{CAR_NOM}_{CAR_ORD}.csv'))"
   ]
  },
  {
   "cell_type": "markdown",
   "id": "c3903ac0",
   "metadata": {
    "papermill": {
     "duration": 0.005739,
     "end_time": "2025-06-11T16:24:14.506544",
     "exception": false,
     "start_time": "2025-06-11T16:24:14.500805",
     "status": "completed"
    },
    "tags": []
   },
   "source": [
    "## **2- Carga los valores de 'y' (GRUPOREFERENCIA):**"
   ]
  },
  {
   "cell_type": "code",
   "execution_count": 8,
   "id": "bde0cd14",
   "metadata": {},
   "outputs": [],
   "source": [
    "y = pd.read_csv(os.path.join(basedir, 'data/data_icfes/SB11_SBPro/y_GRUPOREFERENCIA_clase.csv'))"
   ]
  },
  {
   "cell_type": "markdown",
   "id": "2464026f",
   "metadata": {
    "papermill": {
     "duration": 0.006328,
     "end_time": "2025-06-11T16:24:14.534779",
     "exception": false,
     "start_time": "2025-06-11T16:24:14.528451",
     "status": "completed"
    },
    "tags": []
   },
   "source": [
    "## **3- Dividir el dataset en entrenamiento y prueba:**"
   ]
  },
  {
   "cell_type": "code",
   "execution_count": 9,
   "id": "832844a8",
   "metadata": {
    "execution": {
     "iopub.execute_input": "2025-06-11T16:24:14.547823Z",
     "iopub.status.busy": "2025-06-11T16:24:14.547438Z",
     "iopub.status.idle": "2025-06-11T16:24:14.589551Z",
     "shell.execute_reply": "2025-06-11T16:24:14.589048Z"
    },
    "papermill": {
     "duration": 0.050011,
     "end_time": "2025-06-11T16:24:14.590615",
     "exception": false,
     "start_time": "2025-06-11T16:24:14.540604",
     "status": "completed"
    },
    "tags": []
   },
   "outputs": [],
   "source": [
    "# División estratificada en train (80%) y test (20%)\n",
    "X_train, X_test, y_train, y_test = train_test_split(X, y,\n",
    "                                                    test_size=0.2,\n",
    "                                                    stratify=y,\n",
    "                                                    random_state=SEED_SPLIT)"
   ]
  },
  {
   "cell_type": "markdown",
   "id": "8b422040",
   "metadata": {
    "papermill": {
     "duration": 0.006058,
     "end_time": "2025-06-11T16:24:14.619304",
     "exception": false,
     "start_time": "2025-06-11T16:24:14.613246",
     "status": "completed"
    },
    "tags": []
   },
   "source": [
    "## **4- Selección de Características:**"
   ]
  },
  {
   "cell_type": "code",
   "execution_count": 10,
   "id": "748c0751",
   "metadata": {
    "execution": {
     "iopub.execute_input": "2025-06-11T16:24:14.633191Z",
     "iopub.status.busy": "2025-06-11T16:24:14.632985Z",
     "iopub.status.idle": "2025-06-11T16:24:14.759717Z",
     "shell.execute_reply": "2025-06-11T16:24:14.759189Z"
    },
    "papermill": {
     "duration": 0.135891,
     "end_time": "2025-06-11T16:24:14.760683",
     "exception": false,
     "start_time": "2025-06-11T16:24:14.624792",
     "status": "completed"
    },
    "tags": []
   },
   "outputs": [],
   "source": [
    "%run -i \"Selección de características.ipynb\""
   ]
  },
  {
   "cell_type": "code",
   "execution_count": 11,
   "id": "00b3d6a8",
   "metadata": {
    "execution": {
     "iopub.execute_input": "2025-06-11T16:24:14.773375Z",
     "iopub.status.busy": "2025-06-11T16:24:14.773101Z",
     "iopub.status.idle": "2025-06-11T16:24:14.775940Z",
     "shell.execute_reply": "2025-06-11T16:24:14.775457Z"
    },
    "papermill": {
     "duration": 0.011075,
     "end_time": "2025-06-11T16:24:14.776796",
     "exception": false,
     "start_time": "2025-06-11T16:24:14.765721",
     "status": "completed"
    },
    "tags": []
   },
   "outputs": [],
   "source": [
    "dic_nom_features = {'00': nominal_features_00,\n",
    "                    '01': nominal_features_01,\n",
    "                    '02': nominal_features_02}"
   ]
  },
  {
   "cell_type": "code",
   "execution_count": 12,
   "id": "53f65c9a",
   "metadata": {
    "execution": {
     "iopub.execute_input": "2025-06-11T16:24:14.788265Z",
     "iopub.status.busy": "2025-06-11T16:24:14.787999Z",
     "iopub.status.idle": "2025-06-11T16:24:14.791163Z",
     "shell.execute_reply": "2025-06-11T16:24:14.790539Z"
    },
    "papermill": {
     "duration": 0.010699,
     "end_time": "2025-06-11T16:24:14.792305",
     "exception": false,
     "start_time": "2025-06-11T16:24:14.781606",
     "status": "completed"
    },
    "tags": []
   },
   "outputs": [],
   "source": [
    "dic_ord_features = {'00': dic_car_ord_00,\n",
    "                    '01': dic_car_ord_01,\n",
    "                    '02': dic_car_ord_02}"
   ]
  },
  {
   "cell_type": "code",
   "execution_count": 13,
   "id": "f3661964",
   "metadata": {
    "execution": {
     "iopub.execute_input": "2025-06-11T16:24:14.803855Z",
     "iopub.status.busy": "2025-06-11T16:24:14.803368Z",
     "iopub.status.idle": "2025-06-11T16:24:14.806257Z",
     "shell.execute_reply": "2025-06-11T16:24:14.805716Z"
    },
    "papermill": {
     "duration": 0.009689,
     "end_time": "2025-06-11T16:24:14.807061",
     "exception": false,
     "start_time": "2025-06-11T16:24:14.797372",
     "status": "completed"
    },
    "tags": []
   },
   "outputs": [],
   "source": [
    "# Características Nominales\n",
    "nominal_features = dic_nom_features[CAR_NOM]\n",
    "# Características Ordinales\n",
    "ordinal_features = list(dic_ord_features[CAR_ORD].keys())\n",
    "# Características Numéricas\n",
    "numerical_features = numeric_features"
   ]
  },
  {
   "cell_type": "markdown",
   "id": "e6225d86",
   "metadata": {
    "papermill": {
     "duration": 0.005587,
     "end_time": "2025-06-11T16:24:14.818474",
     "exception": false,
     "start_time": "2025-06-11T16:24:14.812887",
     "status": "completed"
    },
    "tags": []
   },
   "source": [
    "## **5- Configuración del Preprocesamiento:**"
   ]
  },
  {
   "cell_type": "code",
   "execution_count": 14,
   "id": "9ea4bff9",
   "metadata": {
    "execution": {
     "iopub.execute_input": "2025-06-11T16:24:14.833642Z",
     "iopub.status.busy": "2025-06-11T16:24:14.833364Z",
     "iopub.status.idle": "2025-06-11T16:24:14.836845Z",
     "shell.execute_reply": "2025-06-11T16:24:14.836319Z"
    },
    "papermill": {
     "duration": 0.010815,
     "end_time": "2025-06-11T16:24:14.837953",
     "exception": false,
     "start_time": "2025-06-11T16:24:14.827138",
     "status": "completed"
    },
    "tags": []
   },
   "outputs": [],
   "source": [
    "preprocessor = ColumnTransformer(\n",
    "    transformers=[\n",
    "        # Codificar variables categóricas nominales\n",
    "        ('nominal', OneHotEncoder(handle_unknown='ignore'), nominal_features),\n",
    "        # Codificar variables categóricas ordinales\n",
    "        ('ordinal', OrdinalEncoder(), ordinal_features),\n",
    "        # Escalar variables numéricas\n",
    "        ('numerico', RobustScaler(), numerical_features)\n",
    "    ],\n",
    "    remainder='drop'  # Descarta columnas no especificadas (opcional)\n",
    "    # remainder='passthrough'  # Mantiene las columnas no especificadas\n",
    ")"
   ]
  },
  {
   "cell_type": "markdown",
   "id": "fa9c65fa",
   "metadata": {
    "papermill": {
     "duration": 0.00577,
     "end_time": "2025-06-11T16:24:14.849305",
     "exception": false,
     "start_time": "2025-06-11T16:24:14.843535",
     "status": "completed"
    },
    "tags": []
   },
   "source": [
    "## **6- Configuración de Pipeline (Tuberías):**"
   ]
  },
  {
   "cell_type": "markdown",
   "id": "de3088f6",
   "metadata": {},
   "source": [
    "#### **Configurar Stratified K-Fold (5 folds)**\n",
    "\n",
    "StratifiedKFold para mantener la distribución de clases en cada fold HalvingGridSearchCV optimiza la búsqueda de hiperparámetros con eliminación competitiva"
   ]
  },
  {
   "cell_type": "code",
   "execution_count": 15,
   "id": "d7cf9e4b",
   "metadata": {
    "execution": {
     "iopub.execute_input": "2025-06-11T16:24:14.861304Z",
     "iopub.status.busy": "2025-06-11T16:24:14.860719Z",
     "iopub.status.idle": "2025-06-11T16:24:14.864250Z",
     "shell.execute_reply": "2025-06-11T16:24:14.863556Z"
    },
    "papermill": {
     "duration": 0.010513,
     "end_time": "2025-06-11T16:24:14.865066",
     "exception": false,
     "start_time": "2025-06-11T16:24:14.854553",
     "status": "completed"
    },
    "tags": []
   },
   "outputs": [],
   "source": [
    "cv = StratifiedKFold(n_splits=5, shuffle=True, random_state=SEED)"
   ]
  },
  {
   "cell_type": "markdown",
   "id": "16e3a8d8",
   "metadata": {
    "papermill": {
     "duration": 0.005683,
     "end_time": "2025-06-11T16:24:14.875757",
     "exception": false,
     "start_time": "2025-06-11T16:24:14.870074",
     "status": "completed"
    },
    "tags": []
   },
   "source": [
    "### Conteo de frecuencia por clase:"
   ]
  },
  {
   "cell_type": "code",
   "execution_count": 16,
   "id": "37362ebb",
   "metadata": {
    "execution": {
     "iopub.execute_input": "2025-06-11T16:24:14.889492Z",
     "iopub.status.busy": "2025-06-11T16:24:14.888880Z",
     "iopub.status.idle": "2025-06-11T16:24:14.892537Z",
     "shell.execute_reply": "2025-06-11T16:24:14.892084Z"
    },
    "papermill": {
     "duration": 0.010966,
     "end_time": "2025-06-11T16:24:14.893315",
     "exception": false,
     "start_time": "2025-06-11T16:24:14.882349",
     "status": "completed"
    },
    "tags": []
   },
   "outputs": [],
   "source": [
    "from collections import Counter\n",
    "\n",
    "# Calcular el número mínimo de muestras en cualquier clase\n",
    "class_counts = Counter(y_train[\"GRUPOREFERENCIA\"].to_list())\n",
    "min_samples = min(class_counts.values())"
   ]
  },
  {
   "cell_type": "code",
   "execution_count": 17,
   "id": "61d3c1f9",
   "metadata": {
    "execution": {
     "iopub.execute_input": "2025-06-11T16:24:14.906075Z",
     "iopub.status.busy": "2025-06-11T16:24:14.905355Z",
     "iopub.status.idle": "2025-06-11T16:24:14.908840Z",
     "shell.execute_reply": "2025-06-11T16:24:14.908305Z"
    },
    "papermill": {
     "duration": 0.011675,
     "end_time": "2025-06-11T16:24:14.909682",
     "exception": false,
     "start_time": "2025-06-11T16:24:14.898007",
     "status": "completed"
    },
    "tags": []
   },
   "outputs": [],
   "source": [
    "# Ajustar k_neighbors considerando los folds de CV (ej. para 5-fold CV)\n",
    "n_splits = cv.get_n_splits()  # Obtener el número de folds\n",
    "adjusted_min_samples = max(1, int(min_samples * (n_splits - 1) / n_splits))\n",
    "safe_k = max(1, adjusted_min_samples - 1)  # Asegurar que k_neighbors <= n_muestras"
   ]
  },
  {
   "cell_type": "code",
   "execution_count": 18,
   "id": "00598479",
   "metadata": {
    "execution": {
     "iopub.execute_input": "2025-06-11T16:24:14.921757Z",
     "iopub.status.busy": "2025-06-11T16:24:14.921447Z",
     "iopub.status.idle": "2025-06-11T16:24:14.925385Z",
     "shell.execute_reply": "2025-06-11T16:24:14.924808Z"
    },
    "papermill": {
     "duration": 0.011568,
     "end_time": "2025-06-11T16:24:14.926101",
     "exception": false,
     "start_time": "2025-06-11T16:24:14.914533",
     "status": "completed"
    },
    "tags": []
   },
   "outputs": [],
   "source": [
    "pipeline = Pipeline(steps=[\n",
    "    ('preprocessor', preprocessor),\n",
    "    ('blsmote', BorderlineSMOTE(\n",
    "        sampling_strategy={cls: max(count, safe_k + 1) for cls, count in class_counts.items()},  # Mínimo safe_k + 1 muestras\n",
    "        k_neighbors=safe_k,  # Usar el valor ajustado\n",
    "        kind='borderline-1',\n",
    "        random_state=SEED\n",
    "    )),\n",
    "    ('classifier', XGBClassifier(\n",
    "        eval_metric='mlogloss',\n",
    "        use_label_encoder=False,\n",
    "        device='cpu',  # Asegurar uso de CPU\n",
    "        n_estimators=800,\n",
    "        tree_method='hist',  # Método compatible con CPU\n",
    "        verbosity=0\n",
    "    ))\n",
    "])"
   ]
  },
  {
   "cell_type": "markdown",
   "id": "66934706",
   "metadata": {
    "papermill": {
     "duration": 0.005988,
     "end_time": "2025-06-11T16:24:14.937094",
     "exception": false,
     "start_time": "2025-06-11T16:24:14.931106",
     "status": "completed"
    },
    "tags": []
   },
   "source": [
    "## **7- Búsqueda de hiperparámetros:**"
   ]
  },
  {
   "cell_type": "code",
   "execution_count": 19,
   "id": "d6d48d75",
   "metadata": {
    "execution": {
     "iopub.execute_input": "2025-06-11T16:24:15.032019Z",
     "iopub.status.busy": "2025-06-11T16:24:15.031622Z",
     "iopub.status.idle": "2025-06-11T16:24:15.035175Z",
     "shell.execute_reply": "2025-06-11T16:24:15.034717Z"
    },
    "papermill": {
     "duration": 0.011149,
     "end_time": "2025-06-11T16:24:15.036008",
     "exception": false,
     "start_time": "2025-06-11T16:24:15.024859",
     "status": "completed"
    },
    "tags": []
   },
   "outputs": [],
   "source": [
    "param_grid = {'classifier__objective': ['multi:softprob'],\n",
    "              'classifier__max_depth': [3, 6, 9],\n",
    "              'classifier__max_delta_step':[2, 5, 8, 10], # Set it to value of 1-10 might help control the update.\n",
    "              'classifier__learning_rate': [0.1, 0.05, 0.01],\n",
    "              'classifier__min_child_weight': [1, 5, 10, 12],\n",
    "              'blsmote__k_neighbors': [3, 5],\n",
    "              'blsmote__sampling_strategy': ['auto', {cls: max(count, safe_k + 1) for cls, count in class_counts.items()}],  # Control de sobremuestreo\n",
    "              'classifier__subsample': [0.5, 0.8, 0.9, 1.0]\n",
    "              }"
   ]
  },
  {
   "cell_type": "markdown",
   "id": "f8f98755",
   "metadata": {
    "papermill": {
     "duration": 0.006485,
     "end_time": "2025-06-11T16:24:15.072426",
     "exception": false,
     "start_time": "2025-06-11T16:24:15.065941",
     "status": "completed"
    },
    "tags": []
   },
   "source": [
    "## **8- Configuración de la búsqueda:**"
   ]
  },
  {
   "cell_type": "code",
   "execution_count": 20,
   "id": "6d558831",
   "metadata": {
    "execution": {
     "iopub.execute_input": "2025-06-11T16:24:15.141720Z",
     "iopub.status.busy": "2025-06-11T16:24:15.141156Z",
     "iopub.status.idle": "2025-06-11T16:24:15.144493Z",
     "shell.execute_reply": "2025-06-11T16:24:15.144062Z"
    },
    "papermill": {
     "duration": 0.010434,
     "end_time": "2025-06-11T16:24:15.145345",
     "exception": false,
     "start_time": "2025-06-11T16:24:15.134911",
     "status": "completed"
    },
    "tags": []
   },
   "outputs": [],
   "source": [
    "search = HalvingGridSearchCV(\n",
    "    pipeline,\n",
    "    param_grid,\n",
    "    resource='classifier__n_estimators',\n",
    "    max_resources=300, # Equilibrio entre capacidad de encontrar óptimos y costo computacional\n",
    "    factor=4,\n",
    "    cv=cv,\n",
    "    scoring='f1_macro',\n",
    "    n_jobs=-1,\n",
    "    random_state=SEED,\n",
    "    aggressive_elimination=False,\n",
    "    return_train_score=True,\n",
    "    refit=True,\n",
    "    verbose=0\n",
    ")"
   ]
  },
  {
   "cell_type": "markdown",
   "id": "bc8988aa",
   "metadata": {
    "papermill": {
     "duration": 0.005358,
     "end_time": "2025-06-11T16:24:15.155792",
     "exception": false,
     "start_time": "2025-06-11T16:24:15.150434",
     "status": "completed"
    },
    "tags": []
   },
   "source": [
    "## **9- Entrenamiento:**"
   ]
  },
  {
   "cell_type": "code",
   "execution_count": 21,
   "id": "811aaf9c",
   "metadata": {
    "execution": {
     "iopub.execute_input": "2025-06-11T16:24:15.169757Z",
     "iopub.status.busy": "2025-06-11T16:24:15.168984Z",
     "iopub.status.idle": "2025-06-11T16:52:25.668050Z",
     "shell.execute_reply": "2025-06-11T16:52:25.667555Z"
    },
    "papermill": {
     "duration": 1690.516928,
     "end_time": "2025-06-11T16:52:25.678453",
     "exception": false,
     "start_time": "2025-06-11T16:24:15.161525",
     "status": "completed"
    },
    "scrolled": true,
    "tags": []
   },
   "outputs": [
    {
     "name": "stdout",
     "output_type": "stream",
     "text": [
      "CPU times: user 2min 1s, sys: 4.23 s, total: 2min 5s\n",
      "Wall time: 26min 11s\n"
     ]
    },
    {
     "data": {
      "text/html": [
       "<style>#sk-container-id-1 {\n",
       "  /* Definition of color scheme common for light and dark mode */\n",
       "  --sklearn-color-text: #000;\n",
       "  --sklearn-color-text-muted: #666;\n",
       "  --sklearn-color-line: gray;\n",
       "  /* Definition of color scheme for unfitted estimators */\n",
       "  --sklearn-color-unfitted-level-0: #fff5e6;\n",
       "  --sklearn-color-unfitted-level-1: #f6e4d2;\n",
       "  --sklearn-color-unfitted-level-2: #ffe0b3;\n",
       "  --sklearn-color-unfitted-level-3: chocolate;\n",
       "  /* Definition of color scheme for fitted estimators */\n",
       "  --sklearn-color-fitted-level-0: #f0f8ff;\n",
       "  --sklearn-color-fitted-level-1: #d4ebff;\n",
       "  --sklearn-color-fitted-level-2: #b3dbfd;\n",
       "  --sklearn-color-fitted-level-3: cornflowerblue;\n",
       "\n",
       "  /* Specific color for light theme */\n",
       "  --sklearn-color-text-on-default-background: var(--sg-text-color, var(--theme-code-foreground, var(--jp-content-font-color1, black)));\n",
       "  --sklearn-color-background: var(--sg-background-color, var(--theme-background, var(--jp-layout-color0, white)));\n",
       "  --sklearn-color-border-box: var(--sg-text-color, var(--theme-code-foreground, var(--jp-content-font-color1, black)));\n",
       "  --sklearn-color-icon: #696969;\n",
       "\n",
       "  @media (prefers-color-scheme: dark) {\n",
       "    /* Redefinition of color scheme for dark theme */\n",
       "    --sklearn-color-text-on-default-background: var(--sg-text-color, var(--theme-code-foreground, var(--jp-content-font-color1, white)));\n",
       "    --sklearn-color-background: var(--sg-background-color, var(--theme-background, var(--jp-layout-color0, #111)));\n",
       "    --sklearn-color-border-box: var(--sg-text-color, var(--theme-code-foreground, var(--jp-content-font-color1, white)));\n",
       "    --sklearn-color-icon: #878787;\n",
       "  }\n",
       "}\n",
       "\n",
       "#sk-container-id-1 {\n",
       "  color: var(--sklearn-color-text);\n",
       "}\n",
       "\n",
       "#sk-container-id-1 pre {\n",
       "  padding: 0;\n",
       "}\n",
       "\n",
       "#sk-container-id-1 input.sk-hidden--visually {\n",
       "  border: 0;\n",
       "  clip: rect(1px 1px 1px 1px);\n",
       "  clip: rect(1px, 1px, 1px, 1px);\n",
       "  height: 1px;\n",
       "  margin: -1px;\n",
       "  overflow: hidden;\n",
       "  padding: 0;\n",
       "  position: absolute;\n",
       "  width: 1px;\n",
       "}\n",
       "\n",
       "#sk-container-id-1 div.sk-dashed-wrapped {\n",
       "  border: 1px dashed var(--sklearn-color-line);\n",
       "  margin: 0 0.4em 0.5em 0.4em;\n",
       "  box-sizing: border-box;\n",
       "  padding-bottom: 0.4em;\n",
       "  background-color: var(--sklearn-color-background);\n",
       "}\n",
       "\n",
       "#sk-container-id-1 div.sk-container {\n",
       "  /* jupyter's `normalize.less` sets `[hidden] { display: none; }`\n",
       "     but bootstrap.min.css set `[hidden] { display: none !important; }`\n",
       "     so we also need the `!important` here to be able to override the\n",
       "     default hidden behavior on the sphinx rendered scikit-learn.org.\n",
       "     See: https://github.com/scikit-learn/scikit-learn/issues/21755 */\n",
       "  display: inline-block !important;\n",
       "  position: relative;\n",
       "}\n",
       "\n",
       "#sk-container-id-1 div.sk-text-repr-fallback {\n",
       "  display: none;\n",
       "}\n",
       "\n",
       "div.sk-parallel-item,\n",
       "div.sk-serial,\n",
       "div.sk-item {\n",
       "  /* draw centered vertical line to link estimators */\n",
       "  background-image: linear-gradient(var(--sklearn-color-text-on-default-background), var(--sklearn-color-text-on-default-background));\n",
       "  background-size: 2px 100%;\n",
       "  background-repeat: no-repeat;\n",
       "  background-position: center center;\n",
       "}\n",
       "\n",
       "/* Parallel-specific style estimator block */\n",
       "\n",
       "#sk-container-id-1 div.sk-parallel-item::after {\n",
       "  content: \"\";\n",
       "  width: 100%;\n",
       "  border-bottom: 2px solid var(--sklearn-color-text-on-default-background);\n",
       "  flex-grow: 1;\n",
       "}\n",
       "\n",
       "#sk-container-id-1 div.sk-parallel {\n",
       "  display: flex;\n",
       "  align-items: stretch;\n",
       "  justify-content: center;\n",
       "  background-color: var(--sklearn-color-background);\n",
       "  position: relative;\n",
       "}\n",
       "\n",
       "#sk-container-id-1 div.sk-parallel-item {\n",
       "  display: flex;\n",
       "  flex-direction: column;\n",
       "}\n",
       "\n",
       "#sk-container-id-1 div.sk-parallel-item:first-child::after {\n",
       "  align-self: flex-end;\n",
       "  width: 50%;\n",
       "}\n",
       "\n",
       "#sk-container-id-1 div.sk-parallel-item:last-child::after {\n",
       "  align-self: flex-start;\n",
       "  width: 50%;\n",
       "}\n",
       "\n",
       "#sk-container-id-1 div.sk-parallel-item:only-child::after {\n",
       "  width: 0;\n",
       "}\n",
       "\n",
       "/* Serial-specific style estimator block */\n",
       "\n",
       "#sk-container-id-1 div.sk-serial {\n",
       "  display: flex;\n",
       "  flex-direction: column;\n",
       "  align-items: center;\n",
       "  background-color: var(--sklearn-color-background);\n",
       "  padding-right: 1em;\n",
       "  padding-left: 1em;\n",
       "}\n",
       "\n",
       "\n",
       "/* Toggleable style: style used for estimator/Pipeline/ColumnTransformer box that is\n",
       "clickable and can be expanded/collapsed.\n",
       "- Pipeline and ColumnTransformer use this feature and define the default style\n",
       "- Estimators will overwrite some part of the style using the `sk-estimator` class\n",
       "*/\n",
       "\n",
       "/* Pipeline and ColumnTransformer style (default) */\n",
       "\n",
       "#sk-container-id-1 div.sk-toggleable {\n",
       "  /* Default theme specific background. It is overwritten whether we have a\n",
       "  specific estimator or a Pipeline/ColumnTransformer */\n",
       "  background-color: var(--sklearn-color-background);\n",
       "}\n",
       "\n",
       "/* Toggleable label */\n",
       "#sk-container-id-1 label.sk-toggleable__label {\n",
       "  cursor: pointer;\n",
       "  display: flex;\n",
       "  width: 100%;\n",
       "  margin-bottom: 0;\n",
       "  padding: 0.5em;\n",
       "  box-sizing: border-box;\n",
       "  text-align: center;\n",
       "  align-items: start;\n",
       "  justify-content: space-between;\n",
       "  gap: 0.5em;\n",
       "}\n",
       "\n",
       "#sk-container-id-1 label.sk-toggleable__label .caption {\n",
       "  font-size: 0.6rem;\n",
       "  font-weight: lighter;\n",
       "  color: var(--sklearn-color-text-muted);\n",
       "}\n",
       "\n",
       "#sk-container-id-1 label.sk-toggleable__label-arrow:before {\n",
       "  /* Arrow on the left of the label */\n",
       "  content: \"▸\";\n",
       "  float: left;\n",
       "  margin-right: 0.25em;\n",
       "  color: var(--sklearn-color-icon);\n",
       "}\n",
       "\n",
       "#sk-container-id-1 label.sk-toggleable__label-arrow:hover:before {\n",
       "  color: var(--sklearn-color-text);\n",
       "}\n",
       "\n",
       "/* Toggleable content - dropdown */\n",
       "\n",
       "#sk-container-id-1 div.sk-toggleable__content {\n",
       "  max-height: 0;\n",
       "  max-width: 0;\n",
       "  overflow: hidden;\n",
       "  text-align: left;\n",
       "  /* unfitted */\n",
       "  background-color: var(--sklearn-color-unfitted-level-0);\n",
       "}\n",
       "\n",
       "#sk-container-id-1 div.sk-toggleable__content.fitted {\n",
       "  /* fitted */\n",
       "  background-color: var(--sklearn-color-fitted-level-0);\n",
       "}\n",
       "\n",
       "#sk-container-id-1 div.sk-toggleable__content pre {\n",
       "  margin: 0.2em;\n",
       "  border-radius: 0.25em;\n",
       "  color: var(--sklearn-color-text);\n",
       "  /* unfitted */\n",
       "  background-color: var(--sklearn-color-unfitted-level-0);\n",
       "}\n",
       "\n",
       "#sk-container-id-1 div.sk-toggleable__content.fitted pre {\n",
       "  /* unfitted */\n",
       "  background-color: var(--sklearn-color-fitted-level-0);\n",
       "}\n",
       "\n",
       "#sk-container-id-1 input.sk-toggleable__control:checked~div.sk-toggleable__content {\n",
       "  /* Expand drop-down */\n",
       "  max-height: 200px;\n",
       "  max-width: 100%;\n",
       "  overflow: auto;\n",
       "}\n",
       "\n",
       "#sk-container-id-1 input.sk-toggleable__control:checked~label.sk-toggleable__label-arrow:before {\n",
       "  content: \"▾\";\n",
       "}\n",
       "\n",
       "/* Pipeline/ColumnTransformer-specific style */\n",
       "\n",
       "#sk-container-id-1 div.sk-label input.sk-toggleable__control:checked~label.sk-toggleable__label {\n",
       "  color: var(--sklearn-color-text);\n",
       "  background-color: var(--sklearn-color-unfitted-level-2);\n",
       "}\n",
       "\n",
       "#sk-container-id-1 div.sk-label.fitted input.sk-toggleable__control:checked~label.sk-toggleable__label {\n",
       "  background-color: var(--sklearn-color-fitted-level-2);\n",
       "}\n",
       "\n",
       "/* Estimator-specific style */\n",
       "\n",
       "/* Colorize estimator box */\n",
       "#sk-container-id-1 div.sk-estimator input.sk-toggleable__control:checked~label.sk-toggleable__label {\n",
       "  /* unfitted */\n",
       "  background-color: var(--sklearn-color-unfitted-level-2);\n",
       "}\n",
       "\n",
       "#sk-container-id-1 div.sk-estimator.fitted input.sk-toggleable__control:checked~label.sk-toggleable__label {\n",
       "  /* fitted */\n",
       "  background-color: var(--sklearn-color-fitted-level-2);\n",
       "}\n",
       "\n",
       "#sk-container-id-1 div.sk-label label.sk-toggleable__label,\n",
       "#sk-container-id-1 div.sk-label label {\n",
       "  /* The background is the default theme color */\n",
       "  color: var(--sklearn-color-text-on-default-background);\n",
       "}\n",
       "\n",
       "/* On hover, darken the color of the background */\n",
       "#sk-container-id-1 div.sk-label:hover label.sk-toggleable__label {\n",
       "  color: var(--sklearn-color-text);\n",
       "  background-color: var(--sklearn-color-unfitted-level-2);\n",
       "}\n",
       "\n",
       "/* Label box, darken color on hover, fitted */\n",
       "#sk-container-id-1 div.sk-label.fitted:hover label.sk-toggleable__label.fitted {\n",
       "  color: var(--sklearn-color-text);\n",
       "  background-color: var(--sklearn-color-fitted-level-2);\n",
       "}\n",
       "\n",
       "/* Estimator label */\n",
       "\n",
       "#sk-container-id-1 div.sk-label label {\n",
       "  font-family: monospace;\n",
       "  font-weight: bold;\n",
       "  display: inline-block;\n",
       "  line-height: 1.2em;\n",
       "}\n",
       "\n",
       "#sk-container-id-1 div.sk-label-container {\n",
       "  text-align: center;\n",
       "}\n",
       "\n",
       "/* Estimator-specific */\n",
       "#sk-container-id-1 div.sk-estimator {\n",
       "  font-family: monospace;\n",
       "  border: 1px dotted var(--sklearn-color-border-box);\n",
       "  border-radius: 0.25em;\n",
       "  box-sizing: border-box;\n",
       "  margin-bottom: 0.5em;\n",
       "  /* unfitted */\n",
       "  background-color: var(--sklearn-color-unfitted-level-0);\n",
       "}\n",
       "\n",
       "#sk-container-id-1 div.sk-estimator.fitted {\n",
       "  /* fitted */\n",
       "  background-color: var(--sklearn-color-fitted-level-0);\n",
       "}\n",
       "\n",
       "/* on hover */\n",
       "#sk-container-id-1 div.sk-estimator:hover {\n",
       "  /* unfitted */\n",
       "  background-color: var(--sklearn-color-unfitted-level-2);\n",
       "}\n",
       "\n",
       "#sk-container-id-1 div.sk-estimator.fitted:hover {\n",
       "  /* fitted */\n",
       "  background-color: var(--sklearn-color-fitted-level-2);\n",
       "}\n",
       "\n",
       "/* Specification for estimator info (e.g. \"i\" and \"?\") */\n",
       "\n",
       "/* Common style for \"i\" and \"?\" */\n",
       "\n",
       ".sk-estimator-doc-link,\n",
       "a:link.sk-estimator-doc-link,\n",
       "a:visited.sk-estimator-doc-link {\n",
       "  float: right;\n",
       "  font-size: smaller;\n",
       "  line-height: 1em;\n",
       "  font-family: monospace;\n",
       "  background-color: var(--sklearn-color-background);\n",
       "  border-radius: 1em;\n",
       "  height: 1em;\n",
       "  width: 1em;\n",
       "  text-decoration: none !important;\n",
       "  margin-left: 0.5em;\n",
       "  text-align: center;\n",
       "  /* unfitted */\n",
       "  border: var(--sklearn-color-unfitted-level-1) 1pt solid;\n",
       "  color: var(--sklearn-color-unfitted-level-1);\n",
       "}\n",
       "\n",
       ".sk-estimator-doc-link.fitted,\n",
       "a:link.sk-estimator-doc-link.fitted,\n",
       "a:visited.sk-estimator-doc-link.fitted {\n",
       "  /* fitted */\n",
       "  border: var(--sklearn-color-fitted-level-1) 1pt solid;\n",
       "  color: var(--sklearn-color-fitted-level-1);\n",
       "}\n",
       "\n",
       "/* On hover */\n",
       "div.sk-estimator:hover .sk-estimator-doc-link:hover,\n",
       ".sk-estimator-doc-link:hover,\n",
       "div.sk-label-container:hover .sk-estimator-doc-link:hover,\n",
       ".sk-estimator-doc-link:hover {\n",
       "  /* unfitted */\n",
       "  background-color: var(--sklearn-color-unfitted-level-3);\n",
       "  color: var(--sklearn-color-background);\n",
       "  text-decoration: none;\n",
       "}\n",
       "\n",
       "div.sk-estimator.fitted:hover .sk-estimator-doc-link.fitted:hover,\n",
       ".sk-estimator-doc-link.fitted:hover,\n",
       "div.sk-label-container:hover .sk-estimator-doc-link.fitted:hover,\n",
       ".sk-estimator-doc-link.fitted:hover {\n",
       "  /* fitted */\n",
       "  background-color: var(--sklearn-color-fitted-level-3);\n",
       "  color: var(--sklearn-color-background);\n",
       "  text-decoration: none;\n",
       "}\n",
       "\n",
       "/* Span, style for the box shown on hovering the info icon */\n",
       ".sk-estimator-doc-link span {\n",
       "  display: none;\n",
       "  z-index: 9999;\n",
       "  position: relative;\n",
       "  font-weight: normal;\n",
       "  right: .2ex;\n",
       "  padding: .5ex;\n",
       "  margin: .5ex;\n",
       "  width: min-content;\n",
       "  min-width: 20ex;\n",
       "  max-width: 50ex;\n",
       "  color: var(--sklearn-color-text);\n",
       "  box-shadow: 2pt 2pt 4pt #999;\n",
       "  /* unfitted */\n",
       "  background: var(--sklearn-color-unfitted-level-0);\n",
       "  border: .5pt solid var(--sklearn-color-unfitted-level-3);\n",
       "}\n",
       "\n",
       ".sk-estimator-doc-link.fitted span {\n",
       "  /* fitted */\n",
       "  background: var(--sklearn-color-fitted-level-0);\n",
       "  border: var(--sklearn-color-fitted-level-3);\n",
       "}\n",
       "\n",
       ".sk-estimator-doc-link:hover span {\n",
       "  display: block;\n",
       "}\n",
       "\n",
       "/* \"?\"-specific style due to the `<a>` HTML tag */\n",
       "\n",
       "#sk-container-id-1 a.estimator_doc_link {\n",
       "  float: right;\n",
       "  font-size: 1rem;\n",
       "  line-height: 1em;\n",
       "  font-family: monospace;\n",
       "  background-color: var(--sklearn-color-background);\n",
       "  border-radius: 1rem;\n",
       "  height: 1rem;\n",
       "  width: 1rem;\n",
       "  text-decoration: none;\n",
       "  /* unfitted */\n",
       "  color: var(--sklearn-color-unfitted-level-1);\n",
       "  border: var(--sklearn-color-unfitted-level-1) 1pt solid;\n",
       "}\n",
       "\n",
       "#sk-container-id-1 a.estimator_doc_link.fitted {\n",
       "  /* fitted */\n",
       "  border: var(--sklearn-color-fitted-level-1) 1pt solid;\n",
       "  color: var(--sklearn-color-fitted-level-1);\n",
       "}\n",
       "\n",
       "/* On hover */\n",
       "#sk-container-id-1 a.estimator_doc_link:hover {\n",
       "  /* unfitted */\n",
       "  background-color: var(--sklearn-color-unfitted-level-3);\n",
       "  color: var(--sklearn-color-background);\n",
       "  text-decoration: none;\n",
       "}\n",
       "\n",
       "#sk-container-id-1 a.estimator_doc_link.fitted:hover {\n",
       "  /* fitted */\n",
       "  background-color: var(--sklearn-color-fitted-level-3);\n",
       "}\n",
       "</style><div id=\"sk-container-id-1\" class=\"sk-top-container\"><div class=\"sk-text-repr-fallback\"><pre>HalvingGridSearchCV(cv=StratifiedKFold(n_splits=5, random_state=7, shuffle=True),\n",
       "                    estimator=Pipeline(steps=[(&#x27;preprocessor&#x27;,\n",
       "                                               ColumnTransformer(transformers=[(&#x27;nominal&#x27;,\n",
       "                                                                                OneHotEncoder(handle_unknown=&#x27;ignore&#x27;),\n",
       "                                                                                [&#x27;FAMI_TIENECOMPUTADOR&#x27;,\n",
       "                                                                                 &#x27;ESTU_GENERO&#x27;,\n",
       "                                                                                 &#x27;FAMI_TIENESERVICIOTV&#x27;,\n",
       "                                                                                 &#x27;FAMI_TIENEINTERNET&#x27;,\n",
       "                                                                                 &#x27;FAMI_TIENEHORNOMICROOGAS&#x27;,\n",
       "                                                                                 &#x27;FAMI_TIENELAVADORA&#x27;]),\n",
       "                                                                               (&#x27;ordinal&#x27;,\n",
       "                                                                                Ordi...\n",
       "                                                                8: 205, 9: 1150,\n",
       "                                                                10: 1447,\n",
       "                                                                11: 92, 12: 192,\n",
       "                                                                13: 46}],\n",
       "                                &#x27;classifier__learning_rate&#x27;: [0.1, 0.05, 0.01],\n",
       "                                &#x27;classifier__max_delta_step&#x27;: [2, 5, 8, 10],\n",
       "                                &#x27;classifier__max_depth&#x27;: [3, 6, 9],\n",
       "                                &#x27;classifier__min_child_weight&#x27;: [1, 5, 10, 12],\n",
       "                                &#x27;classifier__objective&#x27;: [&#x27;multi:softprob&#x27;],\n",
       "                                &#x27;classifier__subsample&#x27;: [0.5, 0.8, 0.9, 1.0]},\n",
       "                    random_state=7, resource=&#x27;classifier__n_estimators&#x27;,\n",
       "                    scoring=&#x27;f1_macro&#x27;)</pre><b>In a Jupyter environment, please rerun this cell to show the HTML representation or trust the notebook. <br />On GitHub, the HTML representation is unable to render, please try loading this page with nbviewer.org.</b></div><div class=\"sk-container\" hidden><div class=\"sk-item sk-dashed-wrapped\"><div class=\"sk-label-container\"><div class=\"sk-label fitted sk-toggleable\"><input class=\"sk-toggleable__control sk-hidden--visually\" id=\"sk-estimator-id-1\" type=\"checkbox\" ><label for=\"sk-estimator-id-1\" class=\"sk-toggleable__label fitted sk-toggleable__label-arrow\"><div><div>HalvingGridSearchCV</div></div><div><a class=\"sk-estimator-doc-link fitted\" rel=\"noreferrer\" target=\"_blank\" href=\"https://scikit-learn.org/1.6/modules/generated/sklearn.model_selection.HalvingGridSearchCV.html\">?<span>Documentation for HalvingGridSearchCV</span></a><span class=\"sk-estimator-doc-link fitted\">i<span>Fitted</span></span></div></label><div class=\"sk-toggleable__content fitted\"><pre>HalvingGridSearchCV(cv=StratifiedKFold(n_splits=5, random_state=7, shuffle=True),\n",
       "                    estimator=Pipeline(steps=[(&#x27;preprocessor&#x27;,\n",
       "                                               ColumnTransformer(transformers=[(&#x27;nominal&#x27;,\n",
       "                                                                                OneHotEncoder(handle_unknown=&#x27;ignore&#x27;),\n",
       "                                                                                [&#x27;FAMI_TIENECOMPUTADOR&#x27;,\n",
       "                                                                                 &#x27;ESTU_GENERO&#x27;,\n",
       "                                                                                 &#x27;FAMI_TIENESERVICIOTV&#x27;,\n",
       "                                                                                 &#x27;FAMI_TIENEINTERNET&#x27;,\n",
       "                                                                                 &#x27;FAMI_TIENEHORNOMICROOGAS&#x27;,\n",
       "                                                                                 &#x27;FAMI_TIENELAVADORA&#x27;]),\n",
       "                                                                               (&#x27;ordinal&#x27;,\n",
       "                                                                                Ordi...\n",
       "                                                                8: 205, 9: 1150,\n",
       "                                                                10: 1447,\n",
       "                                                                11: 92, 12: 192,\n",
       "                                                                13: 46}],\n",
       "                                &#x27;classifier__learning_rate&#x27;: [0.1, 0.05, 0.01],\n",
       "                                &#x27;classifier__max_delta_step&#x27;: [2, 5, 8, 10],\n",
       "                                &#x27;classifier__max_depth&#x27;: [3, 6, 9],\n",
       "                                &#x27;classifier__min_child_weight&#x27;: [1, 5, 10, 12],\n",
       "                                &#x27;classifier__objective&#x27;: [&#x27;multi:softprob&#x27;],\n",
       "                                &#x27;classifier__subsample&#x27;: [0.5, 0.8, 0.9, 1.0]},\n",
       "                    random_state=7, resource=&#x27;classifier__n_estimators&#x27;,\n",
       "                    scoring=&#x27;f1_macro&#x27;)</pre></div> </div></div><div class=\"sk-parallel\"><div class=\"sk-parallel-item\"><div class=\"sk-item\"><div class=\"sk-label-container\"><div class=\"sk-label fitted sk-toggleable\"><input class=\"sk-toggleable__control sk-hidden--visually\" id=\"sk-estimator-id-2\" type=\"checkbox\" ><label for=\"sk-estimator-id-2\" class=\"sk-toggleable__label fitted sk-toggleable__label-arrow\"><div><div>best_estimator_: Pipeline</div></div></label><div class=\"sk-toggleable__content fitted\"><pre>Pipeline(steps=[(&#x27;preprocessor&#x27;,\n",
       "                 ColumnTransformer(transformers=[(&#x27;nominal&#x27;,\n",
       "                                                  OneHotEncoder(handle_unknown=&#x27;ignore&#x27;),\n",
       "                                                  [&#x27;FAMI_TIENECOMPUTADOR&#x27;,\n",
       "                                                   &#x27;ESTU_GENERO&#x27;,\n",
       "                                                   &#x27;FAMI_TIENESERVICIOTV&#x27;,\n",
       "                                                   &#x27;FAMI_TIENEINTERNET&#x27;,\n",
       "                                                   &#x27;FAMI_TIENEHORNOMICROOGAS&#x27;,\n",
       "                                                   &#x27;FAMI_TIENELAVADORA&#x27;]),\n",
       "                                                 (&#x27;ordinal&#x27;, OrdinalEncoder(),\n",
       "                                                  [&#x27;FAMI_ESTRATOVIVIENDA&#x27;,\n",
       "                                                   &#x27;FAMI_EDUCACIONPADRE&#x27;,\n",
       "                                                   &#x27;FAMI_EDUCACIONMADRE&#x27;,\n",
       "                                                   &#x27;FAMI_PE...\n",
       "                               feature_types=None, feature_weights=None,\n",
       "                               gamma=None, grow_policy=None,\n",
       "                               importance_type=None,\n",
       "                               interaction_constraints=None, learning_rate=0.05,\n",
       "                               max_bin=None, max_cat_threshold=None,\n",
       "                               max_cat_to_onehot=None, max_delta_step=5,\n",
       "                               max_depth=6, max_leaves=None,\n",
       "                               min_child_weight=12, missing=nan,\n",
       "                               monotone_constraints=None, multi_strategy=None,\n",
       "                               n_estimators=256, n_jobs=None,\n",
       "                               num_parallel_tree=None, ...))])</pre></div> </div></div><div class=\"sk-serial\"><div class=\"sk-item\"><div class=\"sk-serial\"><div class=\"sk-item sk-dashed-wrapped\"><div class=\"sk-label-container\"><div class=\"sk-label fitted sk-toggleable\"><input class=\"sk-toggleable__control sk-hidden--visually\" id=\"sk-estimator-id-3\" type=\"checkbox\" ><label for=\"sk-estimator-id-3\" class=\"sk-toggleable__label fitted sk-toggleable__label-arrow\"><div><div>preprocessor: ColumnTransformer</div></div><div><a class=\"sk-estimator-doc-link fitted\" rel=\"noreferrer\" target=\"_blank\" href=\"https://scikit-learn.org/1.6/modules/generated/sklearn.compose.ColumnTransformer.html\">?<span>Documentation for preprocessor: ColumnTransformer</span></a></div></label><div class=\"sk-toggleable__content fitted\"><pre>ColumnTransformer(transformers=[(&#x27;nominal&#x27;,\n",
       "                                 OneHotEncoder(handle_unknown=&#x27;ignore&#x27;),\n",
       "                                 [&#x27;FAMI_TIENECOMPUTADOR&#x27;, &#x27;ESTU_GENERO&#x27;,\n",
       "                                  &#x27;FAMI_TIENESERVICIOTV&#x27;, &#x27;FAMI_TIENEINTERNET&#x27;,\n",
       "                                  &#x27;FAMI_TIENEHORNOMICROOGAS&#x27;,\n",
       "                                  &#x27;FAMI_TIENELAVADORA&#x27;]),\n",
       "                                (&#x27;ordinal&#x27;, OrdinalEncoder(),\n",
       "                                 [&#x27;FAMI_ESTRATOVIVIENDA&#x27;, &#x27;FAMI_EDUCACIONPADRE&#x27;,\n",
       "                                  &#x27;FAMI_EDUCACIONMADRE&#x27;,\n",
       "                                  &#x27;FAMI_PERSONASHOGAR&#x27;]),\n",
       "                                (&#x27;numerico&#x27;, RobustScaler(),\n",
       "                                 [&#x27;EDAD&#x27;, &#x27;LAT_COLE&#x27;, &#x27;LON_COLE&#x27;,\n",
       "                                  &#x27;PUNT_LECTURA_CRITICA&#x27;, &#x27;PUNT_MATEMATICAS&#x27;,\n",
       "                                  &#x27;PUNT_SOCIALES_CIUDADANAS&#x27;,\n",
       "                                  &#x27;PUNT_C_NATURALES&#x27;, &#x27;PUNT_INGLES&#x27;])])</pre></div> </div></div><div class=\"sk-parallel\"><div class=\"sk-parallel-item\"><div class=\"sk-item\"><div class=\"sk-label-container\"><div class=\"sk-label fitted sk-toggleable\"><input class=\"sk-toggleable__control sk-hidden--visually\" id=\"sk-estimator-id-4\" type=\"checkbox\" ><label for=\"sk-estimator-id-4\" class=\"sk-toggleable__label fitted sk-toggleable__label-arrow\"><div><div>nominal</div></div></label><div class=\"sk-toggleable__content fitted\"><pre>[&#x27;FAMI_TIENECOMPUTADOR&#x27;, &#x27;ESTU_GENERO&#x27;, &#x27;FAMI_TIENESERVICIOTV&#x27;, &#x27;FAMI_TIENEINTERNET&#x27;, &#x27;FAMI_TIENEHORNOMICROOGAS&#x27;, &#x27;FAMI_TIENELAVADORA&#x27;]</pre></div> </div></div><div class=\"sk-serial\"><div class=\"sk-item\"><div class=\"sk-estimator fitted sk-toggleable\"><input class=\"sk-toggleable__control sk-hidden--visually\" id=\"sk-estimator-id-5\" type=\"checkbox\" ><label for=\"sk-estimator-id-5\" class=\"sk-toggleable__label fitted sk-toggleable__label-arrow\"><div><div>OneHotEncoder</div></div><div><a class=\"sk-estimator-doc-link fitted\" rel=\"noreferrer\" target=\"_blank\" href=\"https://scikit-learn.org/1.6/modules/generated/sklearn.preprocessing.OneHotEncoder.html\">?<span>Documentation for OneHotEncoder</span></a></div></label><div class=\"sk-toggleable__content fitted\"><pre>OneHotEncoder(handle_unknown=&#x27;ignore&#x27;)</pre></div> </div></div></div></div></div><div class=\"sk-parallel-item\"><div class=\"sk-item\"><div class=\"sk-label-container\"><div class=\"sk-label fitted sk-toggleable\"><input class=\"sk-toggleable__control sk-hidden--visually\" id=\"sk-estimator-id-6\" type=\"checkbox\" ><label for=\"sk-estimator-id-6\" class=\"sk-toggleable__label fitted sk-toggleable__label-arrow\"><div><div>ordinal</div></div></label><div class=\"sk-toggleable__content fitted\"><pre>[&#x27;FAMI_ESTRATOVIVIENDA&#x27;, &#x27;FAMI_EDUCACIONPADRE&#x27;, &#x27;FAMI_EDUCACIONMADRE&#x27;, &#x27;FAMI_PERSONASHOGAR&#x27;]</pre></div> </div></div><div class=\"sk-serial\"><div class=\"sk-item\"><div class=\"sk-estimator fitted sk-toggleable\"><input class=\"sk-toggleable__control sk-hidden--visually\" id=\"sk-estimator-id-7\" type=\"checkbox\" ><label for=\"sk-estimator-id-7\" class=\"sk-toggleable__label fitted sk-toggleable__label-arrow\"><div><div>OrdinalEncoder</div></div><div><a class=\"sk-estimator-doc-link fitted\" rel=\"noreferrer\" target=\"_blank\" href=\"https://scikit-learn.org/1.6/modules/generated/sklearn.preprocessing.OrdinalEncoder.html\">?<span>Documentation for OrdinalEncoder</span></a></div></label><div class=\"sk-toggleable__content fitted\"><pre>OrdinalEncoder()</pre></div> </div></div></div></div></div><div class=\"sk-parallel-item\"><div class=\"sk-item\"><div class=\"sk-label-container\"><div class=\"sk-label fitted sk-toggleable\"><input class=\"sk-toggleable__control sk-hidden--visually\" id=\"sk-estimator-id-8\" type=\"checkbox\" ><label for=\"sk-estimator-id-8\" class=\"sk-toggleable__label fitted sk-toggleable__label-arrow\"><div><div>numerico</div></div></label><div class=\"sk-toggleable__content fitted\"><pre>[&#x27;EDAD&#x27;, &#x27;LAT_COLE&#x27;, &#x27;LON_COLE&#x27;, &#x27;PUNT_LECTURA_CRITICA&#x27;, &#x27;PUNT_MATEMATICAS&#x27;, &#x27;PUNT_SOCIALES_CIUDADANAS&#x27;, &#x27;PUNT_C_NATURALES&#x27;, &#x27;PUNT_INGLES&#x27;]</pre></div> </div></div><div class=\"sk-serial\"><div class=\"sk-item\"><div class=\"sk-estimator fitted sk-toggleable\"><input class=\"sk-toggleable__control sk-hidden--visually\" id=\"sk-estimator-id-9\" type=\"checkbox\" ><label for=\"sk-estimator-id-9\" class=\"sk-toggleable__label fitted sk-toggleable__label-arrow\"><div><div>RobustScaler</div></div><div><a class=\"sk-estimator-doc-link fitted\" rel=\"noreferrer\" target=\"_blank\" href=\"https://scikit-learn.org/1.6/modules/generated/sklearn.preprocessing.RobustScaler.html\">?<span>Documentation for RobustScaler</span></a></div></label><div class=\"sk-toggleable__content fitted\"><pre>RobustScaler()</pre></div> </div></div></div></div></div></div></div><div class=\"sk-item\"><div class=\"sk-estimator fitted sk-toggleable\"><input class=\"sk-toggleable__control sk-hidden--visually\" id=\"sk-estimator-id-10\" type=\"checkbox\" ><label for=\"sk-estimator-id-10\" class=\"sk-toggleable__label fitted sk-toggleable__label-arrow\"><div><div>BorderlineSMOTE</div></div></label><div class=\"sk-toggleable__content fitted\"><pre>BorderlineSMOTE(k_neighbors=3, random_state=7)</pre></div> </div></div><div class=\"sk-item\"><div class=\"sk-estimator fitted sk-toggleable\"><input class=\"sk-toggleable__control sk-hidden--visually\" id=\"sk-estimator-id-11\" type=\"checkbox\" ><label for=\"sk-estimator-id-11\" class=\"sk-toggleable__label fitted sk-toggleable__label-arrow\"><div><div>XGBClassifier</div></div><div><a class=\"sk-estimator-doc-link fitted\" rel=\"noreferrer\" target=\"_blank\" href=\"https://xgboost.readthedocs.io/en/release_3.0.0/python/python_api.html#xgboost.XGBClassifier\">?<span>Documentation for XGBClassifier</span></a></div></label><div class=\"sk-toggleable__content fitted\"><pre>XGBClassifier(base_score=None, booster=None, callbacks=None,\n",
       "              colsample_bylevel=None, colsample_bynode=None,\n",
       "              colsample_bytree=None, device=&#x27;cpu&#x27;, early_stopping_rounds=None,\n",
       "              enable_categorical=False, eval_metric=&#x27;mlogloss&#x27;,\n",
       "              feature_types=None, feature_weights=None, gamma=None,\n",
       "              grow_policy=None, importance_type=None,\n",
       "              interaction_constraints=None, learning_rate=0.05, max_bin=None,\n",
       "              max_cat_threshold=None, max_cat_to_onehot=None, max_delta_step=5,\n",
       "              max_depth=6, max_leaves=None, min_child_weight=12, missing=nan,\n",
       "              monotone_constraints=None, multi_strategy=None, n_estimators=256,\n",
       "              n_jobs=None, num_parallel_tree=None, ...)</pre></div> </div></div></div></div></div></div></div></div></div></div></div>"
      ],
      "text/plain": [
       "HalvingGridSearchCV(cv=StratifiedKFold(n_splits=5, random_state=7, shuffle=True),\n",
       "                    estimator=Pipeline(steps=[('preprocessor',\n",
       "                                               ColumnTransformer(transformers=[('nominal',\n",
       "                                                                                OneHotEncoder(handle_unknown='ignore'),\n",
       "                                                                                ['FAMI_TIENECOMPUTADOR',\n",
       "                                                                                 'ESTU_GENERO',\n",
       "                                                                                 'FAMI_TIENESERVICIOTV',\n",
       "                                                                                 'FAMI_TIENEINTERNET',\n",
       "                                                                                 'FAMI_TIENEHORNOMICROOGAS',\n",
       "                                                                                 'FAMI_TIENELAVADORA']),\n",
       "                                                                               ('ordinal',\n",
       "                                                                                Ordi...\n",
       "                                                                8: 205, 9: 1150,\n",
       "                                                                10: 1447,\n",
       "                                                                11: 92, 12: 192,\n",
       "                                                                13: 46}],\n",
       "                                'classifier__learning_rate': [0.1, 0.05, 0.01],\n",
       "                                'classifier__max_delta_step': [2, 5, 8, 10],\n",
       "                                'classifier__max_depth': [3, 6, 9],\n",
       "                                'classifier__min_child_weight': [1, 5, 10, 12],\n",
       "                                'classifier__objective': ['multi:softprob'],\n",
       "                                'classifier__subsample': [0.5, 0.8, 0.9, 1.0]},\n",
       "                    random_state=7, resource='classifier__n_estimators',\n",
       "                    scoring='f1_macro')"
      ]
     },
     "execution_count": 21,
     "metadata": {},
     "output_type": "execute_result"
    }
   ],
   "source": [
    "%%time\n",
    "search.fit(X_train, y_train[\"GRUPOREFERENCIA\"].values)"
   ]
  },
  {
   "cell_type": "code",
   "execution_count": 22,
   "id": "3716cf25",
   "metadata": {},
   "outputs": [
    {
     "data": {
      "text/plain": [
       "['/home/jacques/Documentos/ml_study/FINALES/./models/best_model_XGBoostClassifier_search.pkl']"
      ]
     },
     "execution_count": 22,
     "metadata": {},
     "output_type": "execute_result"
    }
   ],
   "source": [
    "joblib.dump(search, os.path.join(basedir, './models/best_model_XGBoostClassifier_search.pkl'))"
   ]
  },
  {
   "cell_type": "markdown",
   "id": "c9f0cda7",
   "metadata": {
    "papermill": {
     "duration": 0.006389,
     "end_time": "2025-06-11T16:52:25.822614",
     "exception": false,
     "start_time": "2025-06-11T16:52:25.816225",
     "status": "completed"
    },
    "tags": []
   },
   "source": [
    "## **10- Resultados:**"
   ]
  },
  {
   "cell_type": "code",
   "execution_count": 23,
   "id": "6057b3a8",
   "metadata": {
    "execution": {
     "iopub.execute_input": "2025-06-11T16:52:25.838837Z",
     "iopub.status.busy": "2025-06-11T16:52:25.838242Z",
     "iopub.status.idle": "2025-06-11T16:52:25.841311Z",
     "shell.execute_reply": "2025-06-11T16:52:25.840928Z"
    },
    "papermill": {
     "duration": 0.010532,
     "end_time": "2025-06-11T16:52:25.842158",
     "exception": false,
     "start_time": "2025-06-11T16:52:25.831626",
     "status": "completed"
    },
    "tags": []
   },
   "outputs": [
    {
     "name": "stdout",
     "output_type": "stream",
     "text": [
      "Mejores parámetros: {'blsmote__k_neighbors': 3, 'blsmote__sampling_strategy': 'auto', 'classifier__learning_rate': 0.05, 'classifier__max_delta_step': 5, 'classifier__max_depth': 6, 'classifier__min_child_weight': 12, 'classifier__objective': 'multi:softprob', 'classifier__subsample': 0.5, 'classifier__n_estimators': 256}\n",
      "Mejor puntuación: 0.1551552937954464\n"
     ]
    }
   ],
   "source": [
    "print(f\"Mejores parámetros: {search.best_params_}\")\n",
    "print(f\"Mejor puntuación: {search.best_score_}\")"
   ]
  },
  {
   "cell_type": "markdown",
   "id": "4a3386bb",
   "metadata": {},
   "source": [
    "#### **Mejores parámetros del modelo:**"
   ]
  },
  {
   "cell_type": "code",
   "execution_count": 24,
   "id": "9d513433",
   "metadata": {},
   "outputs": [
    {
     "data": {
      "text/plain": [
       "{'objective': 'multi:softprob',\n",
       " 'base_score': None,\n",
       " 'booster': None,\n",
       " 'callbacks': None,\n",
       " 'colsample_bylevel': None,\n",
       " 'colsample_bynode': None,\n",
       " 'colsample_bytree': None,\n",
       " 'device': 'cpu',\n",
       " 'early_stopping_rounds': None,\n",
       " 'enable_categorical': False,\n",
       " 'eval_metric': 'mlogloss',\n",
       " 'feature_types': None,\n",
       " 'feature_weights': None,\n",
       " 'gamma': None,\n",
       " 'grow_policy': None,\n",
       " 'importance_type': None,\n",
       " 'interaction_constraints': None,\n",
       " 'learning_rate': 0.05,\n",
       " 'max_bin': None,\n",
       " 'max_cat_threshold': None,\n",
       " 'max_cat_to_onehot': None,\n",
       " 'max_delta_step': 5,\n",
       " 'max_depth': 6,\n",
       " 'max_leaves': None,\n",
       " 'min_child_weight': 12,\n",
       " 'missing': nan,\n",
       " 'monotone_constraints': None,\n",
       " 'multi_strategy': None,\n",
       " 'n_estimators': 256,\n",
       " 'n_jobs': None,\n",
       " 'num_parallel_tree': None,\n",
       " 'random_state': None,\n",
       " 'reg_alpha': None,\n",
       " 'reg_lambda': None,\n",
       " 'sampling_method': None,\n",
       " 'scale_pos_weight': None,\n",
       " 'subsample': 0.5,\n",
       " 'tree_method': 'hist',\n",
       " 'validate_parameters': None,\n",
       " 'verbosity': 0,\n",
       " 'use_label_encoder': False}"
      ]
     },
     "execution_count": 24,
     "metadata": {},
     "output_type": "execute_result"
    }
   ],
   "source": [
    "best_model = search.best_estimator_\n",
    "modelo_inside = best_model.named_steps['classifier']\n",
    "modelo_inside.get_params()"
   ]
  },
  {
   "cell_type": "markdown",
   "id": "d74a0130",
   "metadata": {
    "papermill": {
     "duration": 0.006022,
     "end_time": "2025-06-11T16:52:25.854211",
     "exception": false,
     "start_time": "2025-06-11T16:52:25.848189",
     "status": "completed"
    },
    "tags": []
   },
   "source": [
    "## **11- Evaluación final con Test:**"
   ]
  },
  {
   "cell_type": "code",
   "execution_count": 25,
   "id": "ca5fdc72",
   "metadata": {
    "execution": {
     "iopub.execute_input": "2025-06-11T16:52:25.867776Z",
     "iopub.status.busy": "2025-06-11T16:52:25.867425Z",
     "iopub.status.idle": "2025-06-11T16:52:25.994661Z",
     "shell.execute_reply": "2025-06-11T16:52:25.994140Z"
    },
    "papermill": {
     "duration": 0.13483,
     "end_time": "2025-06-11T16:52:25.995517",
     "exception": false,
     "start_time": "2025-06-11T16:52:25.860687",
     "status": "completed"
    },
    "tags": []
   },
   "outputs": [
    {
     "name": "stdout",
     "output_type": "stream",
     "text": [
      "\n",
      "Reporte de clasificación:\n"
     ]
    },
    {
     "data": {
      "application/vnd.microsoft.datawrangler.viewer.v0+json": {
       "columns": [
        {
         "name": "index",
         "rawType": "int64",
         "type": "integer"
        },
        {
         "name": "class",
         "rawType": "object",
         "type": "string"
        },
        {
         "name": "precision",
         "rawType": "object",
         "type": "string"
        },
        {
         "name": "recall",
         "rawType": "object",
         "type": "string"
        },
        {
         "name": "f1-score",
         "rawType": "object",
         "type": "string"
        },
        {
         "name": "support",
         "rawType": "int64",
         "type": "integer"
        }
       ],
       "ref": "383ba571-c382-4928-b19c-4d7d0917f703",
       "rows": [
        [
         "0",
         "0",
         "0.2583",
         "0.2153",
         "0.2348",
         "144"
        ],
        [
         "1",
         "1",
         "0.2273",
         "0.1389",
         "0.1724",
         "36"
        ],
        [
         "2",
         "2",
         "0.1538",
         "0.1053",
         "0.1250",
         "57"
        ],
        [
         "3",
         "3",
         "0.0893",
         "0.0676",
         "0.0769",
         "74"
        ],
        [
         "4",
         "4",
         "0.0455",
         "0.0233",
         "0.0308",
         "43"
        ],
        [
         "5",
         "5",
         "0.2059",
         "0.1077",
         "0.1414",
         "65"
        ],
        [
         "6",
         "6",
         "0.1364",
         "0.0682",
         "0.0909",
         "44"
        ],
        [
         "7",
         "7",
         "0.2655",
         "0.3297",
         "0.2941",
         "91"
        ],
        [
         "8",
         "8",
         "0.2439",
         "0.1961",
         "0.2174",
         "51"
        ],
        [
         "9",
         "9",
         "0.3499",
         "0.4167",
         "0.3803",
         "288"
        ],
        [
         "10",
         "10",
         "0.4120",
         "0.5110",
         "0.4562",
         "362"
        ],
        [
         "11",
         "11",
         "0.2500",
         "0.1304",
         "0.1714",
         "23"
        ],
        [
         "12",
         "12",
         "0.1724",
         "0.2083",
         "0.1887",
         "48"
        ],
        [
         "13",
         "13",
         "0.1429",
         "0.0833",
         "0.1053",
         "12"
        ],
        [
         "14",
         "accuracy",
         "",
         "",
         "0.3117",
         "1338"
        ],
        [
         "15",
         "macro avg",
         "0.2109",
         "0.1858",
         "0.1918",
         "1338"
        ],
        [
         "16",
         "weighted avg",
         "0.2873",
         "0.3117",
         "0.2946",
         "1338"
        ]
       ],
       "shape": {
        "columns": 5,
        "rows": 17
       }
      },
      "text/html": [
       "<div>\n",
       "<style scoped>\n",
       "    .dataframe tbody tr th:only-of-type {\n",
       "        vertical-align: middle;\n",
       "    }\n",
       "\n",
       "    .dataframe tbody tr th {\n",
       "        vertical-align: top;\n",
       "    }\n",
       "\n",
       "    .dataframe thead th {\n",
       "        text-align: right;\n",
       "    }\n",
       "</style>\n",
       "<table border=\"1\" class=\"dataframe\">\n",
       "  <thead>\n",
       "    <tr style=\"text-align: right;\">\n",
       "      <th></th>\n",
       "      <th>class</th>\n",
       "      <th>precision</th>\n",
       "      <th>recall</th>\n",
       "      <th>f1-score</th>\n",
       "      <th>support</th>\n",
       "    </tr>\n",
       "  </thead>\n",
       "  <tbody>\n",
       "    <tr>\n",
       "      <th>0</th>\n",
       "      <td>0</td>\n",
       "      <td>0.2583</td>\n",
       "      <td>0.2153</td>\n",
       "      <td>0.2348</td>\n",
       "      <td>144</td>\n",
       "    </tr>\n",
       "    <tr>\n",
       "      <th>1</th>\n",
       "      <td>1</td>\n",
       "      <td>0.2273</td>\n",
       "      <td>0.1389</td>\n",
       "      <td>0.1724</td>\n",
       "      <td>36</td>\n",
       "    </tr>\n",
       "    <tr>\n",
       "      <th>2</th>\n",
       "      <td>2</td>\n",
       "      <td>0.1538</td>\n",
       "      <td>0.1053</td>\n",
       "      <td>0.1250</td>\n",
       "      <td>57</td>\n",
       "    </tr>\n",
       "    <tr>\n",
       "      <th>3</th>\n",
       "      <td>3</td>\n",
       "      <td>0.0893</td>\n",
       "      <td>0.0676</td>\n",
       "      <td>0.0769</td>\n",
       "      <td>74</td>\n",
       "    </tr>\n",
       "    <tr>\n",
       "      <th>4</th>\n",
       "      <td>4</td>\n",
       "      <td>0.0455</td>\n",
       "      <td>0.0233</td>\n",
       "      <td>0.0308</td>\n",
       "      <td>43</td>\n",
       "    </tr>\n",
       "    <tr>\n",
       "      <th>5</th>\n",
       "      <td>5</td>\n",
       "      <td>0.2059</td>\n",
       "      <td>0.1077</td>\n",
       "      <td>0.1414</td>\n",
       "      <td>65</td>\n",
       "    </tr>\n",
       "    <tr>\n",
       "      <th>6</th>\n",
       "      <td>6</td>\n",
       "      <td>0.1364</td>\n",
       "      <td>0.0682</td>\n",
       "      <td>0.0909</td>\n",
       "      <td>44</td>\n",
       "    </tr>\n",
       "    <tr>\n",
       "      <th>7</th>\n",
       "      <td>7</td>\n",
       "      <td>0.2655</td>\n",
       "      <td>0.3297</td>\n",
       "      <td>0.2941</td>\n",
       "      <td>91</td>\n",
       "    </tr>\n",
       "    <tr>\n",
       "      <th>8</th>\n",
       "      <td>8</td>\n",
       "      <td>0.2439</td>\n",
       "      <td>0.1961</td>\n",
       "      <td>0.2174</td>\n",
       "      <td>51</td>\n",
       "    </tr>\n",
       "    <tr>\n",
       "      <th>9</th>\n",
       "      <td>9</td>\n",
       "      <td>0.3499</td>\n",
       "      <td>0.4167</td>\n",
       "      <td>0.3803</td>\n",
       "      <td>288</td>\n",
       "    </tr>\n",
       "    <tr>\n",
       "      <th>10</th>\n",
       "      <td>10</td>\n",
       "      <td>0.4120</td>\n",
       "      <td>0.5110</td>\n",
       "      <td>0.4562</td>\n",
       "      <td>362</td>\n",
       "    </tr>\n",
       "    <tr>\n",
       "      <th>11</th>\n",
       "      <td>11</td>\n",
       "      <td>0.2500</td>\n",
       "      <td>0.1304</td>\n",
       "      <td>0.1714</td>\n",
       "      <td>23</td>\n",
       "    </tr>\n",
       "    <tr>\n",
       "      <th>12</th>\n",
       "      <td>12</td>\n",
       "      <td>0.1724</td>\n",
       "      <td>0.2083</td>\n",
       "      <td>0.1887</td>\n",
       "      <td>48</td>\n",
       "    </tr>\n",
       "    <tr>\n",
       "      <th>13</th>\n",
       "      <td>13</td>\n",
       "      <td>0.1429</td>\n",
       "      <td>0.0833</td>\n",
       "      <td>0.1053</td>\n",
       "      <td>12</td>\n",
       "    </tr>\n",
       "    <tr>\n",
       "      <th>14</th>\n",
       "      <td>accuracy</td>\n",
       "      <td></td>\n",
       "      <td></td>\n",
       "      <td>0.3117</td>\n",
       "      <td>1338</td>\n",
       "    </tr>\n",
       "    <tr>\n",
       "      <th>15</th>\n",
       "      <td>macro avg</td>\n",
       "      <td>0.2109</td>\n",
       "      <td>0.1858</td>\n",
       "      <td>0.1918</td>\n",
       "      <td>1338</td>\n",
       "    </tr>\n",
       "    <tr>\n",
       "      <th>16</th>\n",
       "      <td>weighted avg</td>\n",
       "      <td>0.2873</td>\n",
       "      <td>0.3117</td>\n",
       "      <td>0.2946</td>\n",
       "      <td>1338</td>\n",
       "    </tr>\n",
       "  </tbody>\n",
       "</table>\n",
       "</div>"
      ],
      "text/plain": [
       "           class precision  recall f1-score  support\n",
       "0              0    0.2583  0.2153   0.2348      144\n",
       "1              1    0.2273  0.1389   0.1724       36\n",
       "2              2    0.1538  0.1053   0.1250       57\n",
       "3              3    0.0893  0.0676   0.0769       74\n",
       "4              4    0.0455  0.0233   0.0308       43\n",
       "5              5    0.2059  0.1077   0.1414       65\n",
       "6              6    0.1364  0.0682   0.0909       44\n",
       "7              7    0.2655  0.3297   0.2941       91\n",
       "8              8    0.2439  0.1961   0.2174       51\n",
       "9              9    0.3499  0.4167   0.3803      288\n",
       "10            10    0.4120  0.5110   0.4562      362\n",
       "11            11    0.2500  0.1304   0.1714       23\n",
       "12            12    0.1724  0.2083   0.1887       48\n",
       "13            13    0.1429  0.0833   0.1053       12\n",
       "14      accuracy                     0.3117     1338\n",
       "15     macro avg    0.2109  0.1858   0.1918     1338\n",
       "16  weighted avg    0.2873  0.3117   0.2946     1338"
      ]
     },
     "metadata": {},
     "output_type": "display_data"
    },
    {
     "name": "stdout",
     "output_type": "stream",
     "text": [
      "\n",
      "F1-score ma: 0.1918\n",
      "\n",
      "Matthews corr: 0.1710\n",
      "\n",
      "Cohen kappa: 0.1701\n"
     ]
    }
   ],
   "source": [
    "best_model = search.best_estimator_\n",
    "\n",
    "y_pred = best_model.predict(X_test)\n",
    "y_proba = best_model.predict_proba(X_test)\n",
    "\n",
    "print(f\"\\nReporte de clasificación:\")\n",
    "classification_report_df(y_test, y_pred, precisión=4)\n",
    "\n",
    "print(f\"\\nF1-score ma: {f1_score(y_test, y_pred, average='macro'):.4f}\")\n",
    "\n",
    "print(f\"\\nMatthews corr: {matthews_corrcoef(y_test, y_pred):.4f}\")\n",
    "\n",
    "print(f\"\\nCohen kappa: {cohen_kappa_score(y_test, y_pred):.4f}\")"
   ]
  },
  {
   "cell_type": "code",
   "execution_count": 26,
   "id": "a6a76588",
   "metadata": {
    "execution": {
     "iopub.execute_input": "2025-06-11T16:52:26.009117Z",
     "iopub.status.busy": "2025-06-11T16:52:26.008908Z",
     "iopub.status.idle": "2025-06-11T16:52:26.403608Z",
     "shell.execute_reply": "2025-06-11T16:52:26.403052Z"
    },
    "papermill": {
     "duration": 0.403096,
     "end_time": "2025-06-11T16:52:26.404636",
     "exception": false,
     "start_time": "2025-06-11T16:52:26.001540",
     "status": "completed"
    },
    "tags": []
   },
   "outputs": [
    {
     "data": {
      "image/png": "[encoded data removed]",
      "text/plain": [
       "<Figure size 1200x800 with 2 Axes>"
      ]
     },
     "metadata": {},
     "output_type": "display_data"
    },
    {
     "name": "stdout",
     "output_type": "stream",
     "text": [
      "Matriz de Confusión Normalizada (por fila)\n",
      "Modelo XGBClassifier (GRUPOREFERENCIA)\n"
     ]
    }
   ],
   "source": [
    "conf_matrix_normalized_sn(y_test, y_pred)\n",
    "print(\"Matriz de Confusión Normalizada (por fila)\\nModelo XGBClassifier (GRUPOREFERENCIA)\")"
   ]
  },
  {
   "cell_type": "markdown",
   "id": "26ad080b",
   "metadata": {
    "papermill": {
     "duration": 0.007215,
     "end_time": "2025-06-11T16:52:26.418733",
     "exception": false,
     "start_time": "2025-06-11T16:52:26.411518",
     "status": "completed"
    },
    "tags": []
   },
   "source": [
    "## **12- Entrenamiento final con todos los datos X:**"
   ]
  },
  {
   "cell_type": "code",
   "execution_count": 27,
   "id": "421d1e68",
   "metadata": {
    "execution": {
     "iopub.execute_input": "2025-06-11T16:52:26.434954Z",
     "iopub.status.busy": "2025-06-11T16:52:26.434482Z",
     "iopub.status.idle": "2025-06-11T16:52:32.945240Z",
     "shell.execute_reply": "2025-06-11T16:52:32.944715Z"
    },
    "papermill": {
     "duration": 6.520545,
     "end_time": "2025-06-11T16:52:32.946202",
     "exception": false,
     "start_time": "2025-06-11T16:52:26.425657",
     "status": "completed"
    },
    "tags": []
   },
   "outputs": [
    {
     "data": {
      "text/html": [
       "<style>#sk-container-id-2 {\n",
       "  /* Definition of color scheme common for light and dark mode */\n",
       "  --sklearn-color-text: #000;\n",
       "  --sklearn-color-text-muted: #666;\n",
       "  --sklearn-color-line: gray;\n",
       "  /* Definition of color scheme for unfitted estimators */\n",
       "  --sklearn-color-unfitted-level-0: #fff5e6;\n",
       "  --sklearn-color-unfitted-level-1: #f6e4d2;\n",
       "  --sklearn-color-unfitted-level-2: #ffe0b3;\n",
       "  --sklearn-color-unfitted-level-3: chocolate;\n",
       "  /* Definition of color scheme for fitted estimators */\n",
       "  --sklearn-color-fitted-level-0: #f0f8ff;\n",
       "  --sklearn-color-fitted-level-1: #d4ebff;\n",
       "  --sklearn-color-fitted-level-2: #b3dbfd;\n",
       "  --sklearn-color-fitted-level-3: cornflowerblue;\n",
       "\n",
       "  /* Specific color for light theme */\n",
       "  --sklearn-color-text-on-default-background: var(--sg-text-color, var(--theme-code-foreground, var(--jp-content-font-color1, black)));\n",
       "  --sklearn-color-background: var(--sg-background-color, var(--theme-background, var(--jp-layout-color0, white)));\n",
       "  --sklearn-color-border-box: var(--sg-text-color, var(--theme-code-foreground, var(--jp-content-font-color1, black)));\n",
       "  --sklearn-color-icon: #696969;\n",
       "\n",
       "  @media (prefers-color-scheme: dark) {\n",
       "    /* Redefinition of color scheme for dark theme */\n",
       "    --sklearn-color-text-on-default-background: var(--sg-text-color, var(--theme-code-foreground, var(--jp-content-font-color1, white)));\n",
       "    --sklearn-color-background: var(--sg-background-color, var(--theme-background, var(--jp-layout-color0, #111)));\n",
       "    --sklearn-color-border-box: var(--sg-text-color, var(--theme-code-foreground, var(--jp-content-font-color1, white)));\n",
       "    --sklearn-color-icon: #878787;\n",
       "  }\n",
       "}\n",
       "\n",
       "#sk-container-id-2 {\n",
       "  color: var(--sklearn-color-text);\n",
       "}\n",
       "\n",
       "#sk-container-id-2 pre {\n",
       "  padding: 0;\n",
       "}\n",
       "\n",
       "#sk-container-id-2 input.sk-hidden--visually {\n",
       "  border: 0;\n",
       "  clip: rect(1px 1px 1px 1px);\n",
       "  clip: rect(1px, 1px, 1px, 1px);\n",
       "  height: 1px;\n",
       "  margin: -1px;\n",
       "  overflow: hidden;\n",
       "  padding: 0;\n",
       "  position: absolute;\n",
       "  width: 1px;\n",
       "}\n",
       "\n",
       "#sk-container-id-2 div.sk-dashed-wrapped {\n",
       "  border: 1px dashed var(--sklearn-color-line);\n",
       "  margin: 0 0.4em 0.5em 0.4em;\n",
       "  box-sizing: border-box;\n",
       "  padding-bottom: 0.4em;\n",
       "  background-color: var(--sklearn-color-background);\n",
       "}\n",
       "\n",
       "#sk-container-id-2 div.sk-container {\n",
       "  /* jupyter's `normalize.less` sets `[hidden] { display: none; }`\n",
       "     but bootstrap.min.css set `[hidden] { display: none !important; }`\n",
       "     so we also need the `!important` here to be able to override the\n",
       "     default hidden behavior on the sphinx rendered scikit-learn.org.\n",
       "     See: https://github.com/scikit-learn/scikit-learn/issues/21755 */\n",
       "  display: inline-block !important;\n",
       "  position: relative;\n",
       "}\n",
       "\n",
       "#sk-container-id-2 div.sk-text-repr-fallback {\n",
       "  display: none;\n",
       "}\n",
       "\n",
       "div.sk-parallel-item,\n",
       "div.sk-serial,\n",
       "div.sk-item {\n",
       "  /* draw centered vertical line to link estimators */\n",
       "  background-image: linear-gradient(var(--sklearn-color-text-on-default-background), var(--sklearn-color-text-on-default-background));\n",
       "  background-size: 2px 100%;\n",
       "  background-repeat: no-repeat;\n",
       "  background-position: center center;\n",
       "}\n",
       "\n",
       "/* Parallel-specific style estimator block */\n",
       "\n",
       "#sk-container-id-2 div.sk-parallel-item::after {\n",
       "  content: \"\";\n",
       "  width: 100%;\n",
       "  border-bottom: 2px solid var(--sklearn-color-text-on-default-background);\n",
       "  flex-grow: 1;\n",
       "}\n",
       "\n",
       "#sk-container-id-2 div.sk-parallel {\n",
       "  display: flex;\n",
       "  align-items: stretch;\n",
       "  justify-content: center;\n",
       "  background-color: var(--sklearn-color-background);\n",
       "  position: relative;\n",
       "}\n",
       "\n",
       "#sk-container-id-2 div.sk-parallel-item {\n",
       "  display: flex;\n",
       "  flex-direction: column;\n",
       "}\n",
       "\n",
       "#sk-container-id-2 div.sk-parallel-item:first-child::after {\n",
       "  align-self: flex-end;\n",
       "  width: 50%;\n",
       "}\n",
       "\n",
       "#sk-container-id-2 div.sk-parallel-item:last-child::after {\n",
       "  align-self: flex-start;\n",
       "  width: 50%;\n",
       "}\n",
       "\n",
       "#sk-container-id-2 div.sk-parallel-item:only-child::after {\n",
       "  width: 0;\n",
       "}\n",
       "\n",
       "/* Serial-specific style estimator block */\n",
       "\n",
       "#sk-container-id-2 div.sk-serial {\n",
       "  display: flex;\n",
       "  flex-direction: column;\n",
       "  align-items: center;\n",
       "  background-color: var(--sklearn-color-background);\n",
       "  padding-right: 1em;\n",
       "  padding-left: 1em;\n",
       "}\n",
       "\n",
       "\n",
       "/* Toggleable style: style used for estimator/Pipeline/ColumnTransformer box that is\n",
       "clickable and can be expanded/collapsed.\n",
       "- Pipeline and ColumnTransformer use this feature and define the default style\n",
       "- Estimators will overwrite some part of the style using the `sk-estimator` class\n",
       "*/\n",
       "\n",
       "/* Pipeline and ColumnTransformer style (default) */\n",
       "\n",
       "#sk-container-id-2 div.sk-toggleable {\n",
       "  /* Default theme specific background. It is overwritten whether we have a\n",
       "  specific estimator or a Pipeline/ColumnTransformer */\n",
       "  background-color: var(--sklearn-color-background);\n",
       "}\n",
       "\n",
       "/* Toggleable label */\n",
       "#sk-container-id-2 label.sk-toggleable__label {\n",
       "  cursor: pointer;\n",
       "  display: flex;\n",
       "  width: 100%;\n",
       "  margin-bottom: 0;\n",
       "  padding: 0.5em;\n",
       "  box-sizing: border-box;\n",
       "  text-align: center;\n",
       "  align-items: start;\n",
       "  justify-content: space-between;\n",
       "  gap: 0.5em;\n",
       "}\n",
       "\n",
       "#sk-container-id-2 label.sk-toggleable__label .caption {\n",
       "  font-size: 0.6rem;\n",
       "  font-weight: lighter;\n",
       "  color: var(--sklearn-color-text-muted);\n",
       "}\n",
       "\n",
       "#sk-container-id-2 label.sk-toggleable__label-arrow:before {\n",
       "  /* Arrow on the left of the label */\n",
       "  content: \"▸\";\n",
       "  float: left;\n",
       "  margin-right: 0.25em;\n",
       "  color: var(--sklearn-color-icon);\n",
       "}\n",
       "\n",
       "#sk-container-id-2 label.sk-toggleable__label-arrow:hover:before {\n",
       "  color: var(--sklearn-color-text);\n",
       "}\n",
       "\n",
       "/* Toggleable content - dropdown */\n",
       "\n",
       "#sk-container-id-2 div.sk-toggleable__content {\n",
       "  max-height: 0;\n",
       "  max-width: 0;\n",
       "  overflow: hidden;\n",
       "  text-align: left;\n",
       "  /* unfitted */\n",
       "  background-color: var(--sklearn-color-unfitted-level-0);\n",
       "}\n",
       "\n",
       "#sk-container-id-2 div.sk-toggleable__content.fitted {\n",
       "  /* fitted */\n",
       "  background-color: var(--sklearn-color-fitted-level-0);\n",
       "}\n",
       "\n",
       "#sk-container-id-2 div.sk-toggleable__content pre {\n",
       "  margin: 0.2em;\n",
       "  border-radius: 0.25em;\n",
       "  color: var(--sklearn-color-text);\n",
       "  /* unfitted */\n",
       "  background-color: var(--sklearn-color-unfitted-level-0);\n",
       "}\n",
       "\n",
       "#sk-container-id-2 div.sk-toggleable__content.fitted pre {\n",
       "  /* unfitted */\n",
       "  background-color: var(--sklearn-color-fitted-level-0);\n",
       "}\n",
       "\n",
       "#sk-container-id-2 input.sk-toggleable__control:checked~div.sk-toggleable__content {\n",
       "  /* Expand drop-down */\n",
       "  max-height: 200px;\n",
       "  max-width: 100%;\n",
       "  overflow: auto;\n",
       "}\n",
       "\n",
       "#sk-container-id-2 input.sk-toggleable__control:checked~label.sk-toggleable__label-arrow:before {\n",
       "  content: \"▾\";\n",
       "}\n",
       "\n",
       "/* Pipeline/ColumnTransformer-specific style */\n",
       "\n",
       "#sk-container-id-2 div.sk-label input.sk-toggleable__control:checked~label.sk-toggleable__label {\n",
       "  color: var(--sklearn-color-text);\n",
       "  background-color: var(--sklearn-color-unfitted-level-2);\n",
       "}\n",
       "\n",
       "#sk-container-id-2 div.sk-label.fitted input.sk-toggleable__control:checked~label.sk-toggleable__label {\n",
       "  background-color: var(--sklearn-color-fitted-level-2);\n",
       "}\n",
       "\n",
       "/* Estimator-specific style */\n",
       "\n",
       "/* Colorize estimator box */\n",
       "#sk-container-id-2 div.sk-estimator input.sk-toggleable__control:checked~label.sk-toggleable__label {\n",
       "  /* unfitted */\n",
       "  background-color: var(--sklearn-color-unfitted-level-2);\n",
       "}\n",
       "\n",
       "#sk-container-id-2 div.sk-estimator.fitted input.sk-toggleable__control:checked~label.sk-toggleable__label {\n",
       "  /* fitted */\n",
       "  background-color: var(--sklearn-color-fitted-level-2);\n",
       "}\n",
       "\n",
       "#sk-container-id-2 div.sk-label label.sk-toggleable__label,\n",
       "#sk-container-id-2 div.sk-label label {\n",
       "  /* The background is the default theme color */\n",
       "  color: var(--sklearn-color-text-on-default-background);\n",
       "}\n",
       "\n",
       "/* On hover, darken the color of the background */\n",
       "#sk-container-id-2 div.sk-label:hover label.sk-toggleable__label {\n",
       "  color: var(--sklearn-color-text);\n",
       "  background-color: var(--sklearn-color-unfitted-level-2);\n",
       "}\n",
       "\n",
       "/* Label box, darken color on hover, fitted */\n",
       "#sk-container-id-2 div.sk-label.fitted:hover label.sk-toggleable__label.fitted {\n",
       "  color: var(--sklearn-color-text);\n",
       "  background-color: var(--sklearn-color-fitted-level-2);\n",
       "}\n",
       "\n",
       "/* Estimator label */\n",
       "\n",
       "#sk-container-id-2 div.sk-label label {\n",
       "  font-family: monospace;\n",
       "  font-weight: bold;\n",
       "  display: inline-block;\n",
       "  line-height: 1.2em;\n",
       "}\n",
       "\n",
       "#sk-container-id-2 div.sk-label-container {\n",
       "  text-align: center;\n",
       "}\n",
       "\n",
       "/* Estimator-specific */\n",
       "#sk-container-id-2 div.sk-estimator {\n",
       "  font-family: monospace;\n",
       "  border: 1px dotted var(--sklearn-color-border-box);\n",
       "  border-radius: 0.25em;\n",
       "  box-sizing: border-box;\n",
       "  margin-bottom: 0.5em;\n",
       "  /* unfitted */\n",
       "  background-color: var(--sklearn-color-unfitted-level-0);\n",
       "}\n",
       "\n",
       "#sk-container-id-2 div.sk-estimator.fitted {\n",
       "  /* fitted */\n",
       "  background-color: var(--sklearn-color-fitted-level-0);\n",
       "}\n",
       "\n",
       "/* on hover */\n",
       "#sk-container-id-2 div.sk-estimator:hover {\n",
       "  /* unfitted */\n",
       "  background-color: var(--sklearn-color-unfitted-level-2);\n",
       "}\n",
       "\n",
       "#sk-container-id-2 div.sk-estimator.fitted:hover {\n",
       "  /* fitted */\n",
       "  background-color: var(--sklearn-color-fitted-level-2);\n",
       "}\n",
       "\n",
       "/* Specification for estimator info (e.g. \"i\" and \"?\") */\n",
       "\n",
       "/* Common style for \"i\" and \"?\" */\n",
       "\n",
       ".sk-estimator-doc-link,\n",
       "a:link.sk-estimator-doc-link,\n",
       "a:visited.sk-estimator-doc-link {\n",
       "  float: right;\n",
       "  font-size: smaller;\n",
       "  line-height: 1em;\n",
       "  font-family: monospace;\n",
       "  background-color: var(--sklearn-color-background);\n",
       "  border-radius: 1em;\n",
       "  height: 1em;\n",
       "  width: 1em;\n",
       "  text-decoration: none !important;\n",
       "  margin-left: 0.5em;\n",
       "  text-align: center;\n",
       "  /* unfitted */\n",
       "  border: var(--sklearn-color-unfitted-level-1) 1pt solid;\n",
       "  color: var(--sklearn-color-unfitted-level-1);\n",
       "}\n",
       "\n",
       ".sk-estimator-doc-link.fitted,\n",
       "a:link.sk-estimator-doc-link.fitted,\n",
       "a:visited.sk-estimator-doc-link.fitted {\n",
       "  /* fitted */\n",
       "  border: var(--sklearn-color-fitted-level-1) 1pt solid;\n",
       "  color: var(--sklearn-color-fitted-level-1);\n",
       "}\n",
       "\n",
       "/* On hover */\n",
       "div.sk-estimator:hover .sk-estimator-doc-link:hover,\n",
       ".sk-estimator-doc-link:hover,\n",
       "div.sk-label-container:hover .sk-estimator-doc-link:hover,\n",
       ".sk-estimator-doc-link:hover {\n",
       "  /* unfitted */\n",
       "  background-color: var(--sklearn-color-unfitted-level-3);\n",
       "  color: var(--sklearn-color-background);\n",
       "  text-decoration: none;\n",
       "}\n",
       "\n",
       "div.sk-estimator.fitted:hover .sk-estimator-doc-link.fitted:hover,\n",
       ".sk-estimator-doc-link.fitted:hover,\n",
       "div.sk-label-container:hover .sk-estimator-doc-link.fitted:hover,\n",
       ".sk-estimator-doc-link.fitted:hover {\n",
       "  /* fitted */\n",
       "  background-color: var(--sklearn-color-fitted-level-3);\n",
       "  color: var(--sklearn-color-background);\n",
       "  text-decoration: none;\n",
       "}\n",
       "\n",
       "/* Span, style for the box shown on hovering the info icon */\n",
       ".sk-estimator-doc-link span {\n",
       "  display: none;\n",
       "  z-index: 9999;\n",
       "  position: relative;\n",
       "  font-weight: normal;\n",
       "  right: .2ex;\n",
       "  padding: .5ex;\n",
       "  margin: .5ex;\n",
       "  width: min-content;\n",
       "  min-width: 20ex;\n",
       "  max-width: 50ex;\n",
       "  color: var(--sklearn-color-text);\n",
       "  box-shadow: 2pt 2pt 4pt #999;\n",
       "  /* unfitted */\n",
       "  background: var(--sklearn-color-unfitted-level-0);\n",
       "  border: .5pt solid var(--sklearn-color-unfitted-level-3);\n",
       "}\n",
       "\n",
       ".sk-estimator-doc-link.fitted span {\n",
       "  /* fitted */\n",
       "  background: var(--sklearn-color-fitted-level-0);\n",
       "  border: var(--sklearn-color-fitted-level-3);\n",
       "}\n",
       "\n",
       ".sk-estimator-doc-link:hover span {\n",
       "  display: block;\n",
       "}\n",
       "\n",
       "/* \"?\"-specific style due to the `<a>` HTML tag */\n",
       "\n",
       "#sk-container-id-2 a.estimator_doc_link {\n",
       "  float: right;\n",
       "  font-size: 1rem;\n",
       "  line-height: 1em;\n",
       "  font-family: monospace;\n",
       "  background-color: var(--sklearn-color-background);\n",
       "  border-radius: 1rem;\n",
       "  height: 1rem;\n",
       "  width: 1rem;\n",
       "  text-decoration: none;\n",
       "  /* unfitted */\n",
       "  color: var(--sklearn-color-unfitted-level-1);\n",
       "  border: var(--sklearn-color-unfitted-level-1) 1pt solid;\n",
       "}\n",
       "\n",
       "#sk-container-id-2 a.estimator_doc_link.fitted {\n",
       "  /* fitted */\n",
       "  border: var(--sklearn-color-fitted-level-1) 1pt solid;\n",
       "  color: var(--sklearn-color-fitted-level-1);\n",
       "}\n",
       "\n",
       "/* On hover */\n",
       "#sk-container-id-2 a.estimator_doc_link:hover {\n",
       "  /* unfitted */\n",
       "  background-color: var(--sklearn-color-unfitted-level-3);\n",
       "  color: var(--sklearn-color-background);\n",
       "  text-decoration: none;\n",
       "}\n",
       "\n",
       "#sk-container-id-2 a.estimator_doc_link.fitted:hover {\n",
       "  /* fitted */\n",
       "  background-color: var(--sklearn-color-fitted-level-3);\n",
       "}\n",
       "</style><div id=\"sk-container-id-2\" class=\"sk-top-container\"><div class=\"sk-text-repr-fallback\"><pre>Pipeline(steps=[(&#x27;preprocessor&#x27;,\n",
       "                 ColumnTransformer(transformers=[(&#x27;nominal&#x27;,\n",
       "                                                  OneHotEncoder(handle_unknown=&#x27;ignore&#x27;),\n",
       "                                                  [&#x27;FAMI_TIENECOMPUTADOR&#x27;,\n",
       "                                                   &#x27;ESTU_GENERO&#x27;,\n",
       "                                                   &#x27;FAMI_TIENESERVICIOTV&#x27;,\n",
       "                                                   &#x27;FAMI_TIENEINTERNET&#x27;,\n",
       "                                                   &#x27;FAMI_TIENEHORNOMICROOGAS&#x27;,\n",
       "                                                   &#x27;FAMI_TIENELAVADORA&#x27;]),\n",
       "                                                 (&#x27;ordinal&#x27;, OrdinalEncoder(),\n",
       "                                                  [&#x27;FAMI_ESTRATOVIVIENDA&#x27;,\n",
       "                                                   &#x27;FAMI_EDUCACIONPADRE&#x27;,\n",
       "                                                   &#x27;FAMI_EDUCACIONMADRE&#x27;,\n",
       "                                                   &#x27;FAMI_PE...\n",
       "                               feature_types=None, feature_weights=None,\n",
       "                               gamma=None, grow_policy=None,\n",
       "                               importance_type=None,\n",
       "                               interaction_constraints=None, learning_rate=0.05,\n",
       "                               max_bin=None, max_cat_threshold=None,\n",
       "                               max_cat_to_onehot=None, max_delta_step=5,\n",
       "                               max_depth=6, max_leaves=None,\n",
       "                               min_child_weight=12, missing=nan,\n",
       "                               monotone_constraints=None, multi_strategy=None,\n",
       "                               n_estimators=256, n_jobs=None,\n",
       "                               num_parallel_tree=None, ...))])</pre><b>In a Jupyter environment, please rerun this cell to show the HTML representation or trust the notebook. <br />On GitHub, the HTML representation is unable to render, please try loading this page with nbviewer.org.</b></div><div class=\"sk-container\" hidden><div class=\"sk-item sk-dashed-wrapped\"><div class=\"sk-label-container\"><div class=\"sk-label fitted sk-toggleable\"><input class=\"sk-toggleable__control sk-hidden--visually\" id=\"sk-estimator-id-12\" type=\"checkbox\" ><label for=\"sk-estimator-id-12\" class=\"sk-toggleable__label fitted sk-toggleable__label-arrow\"><div><div>Pipeline</div></div><div><span class=\"sk-estimator-doc-link fitted\">i<span>Fitted</span></span></div></label><div class=\"sk-toggleable__content fitted\"><pre>Pipeline(steps=[(&#x27;preprocessor&#x27;,\n",
       "                 ColumnTransformer(transformers=[(&#x27;nominal&#x27;,\n",
       "                                                  OneHotEncoder(handle_unknown=&#x27;ignore&#x27;),\n",
       "                                                  [&#x27;FAMI_TIENECOMPUTADOR&#x27;,\n",
       "                                                   &#x27;ESTU_GENERO&#x27;,\n",
       "                                                   &#x27;FAMI_TIENESERVICIOTV&#x27;,\n",
       "                                                   &#x27;FAMI_TIENEINTERNET&#x27;,\n",
       "                                                   &#x27;FAMI_TIENEHORNOMICROOGAS&#x27;,\n",
       "                                                   &#x27;FAMI_TIENELAVADORA&#x27;]),\n",
       "                                                 (&#x27;ordinal&#x27;, OrdinalEncoder(),\n",
       "                                                  [&#x27;FAMI_ESTRATOVIVIENDA&#x27;,\n",
       "                                                   &#x27;FAMI_EDUCACIONPADRE&#x27;,\n",
       "                                                   &#x27;FAMI_EDUCACIONMADRE&#x27;,\n",
       "                                                   &#x27;FAMI_PE...\n",
       "                               feature_types=None, feature_weights=None,\n",
       "                               gamma=None, grow_policy=None,\n",
       "                               importance_type=None,\n",
       "                               interaction_constraints=None, learning_rate=0.05,\n",
       "                               max_bin=None, max_cat_threshold=None,\n",
       "                               max_cat_to_onehot=None, max_delta_step=5,\n",
       "                               max_depth=6, max_leaves=None,\n",
       "                               min_child_weight=12, missing=nan,\n",
       "                               monotone_constraints=None, multi_strategy=None,\n",
       "                               n_estimators=256, n_jobs=None,\n",
       "                               num_parallel_tree=None, ...))])</pre></div> </div></div><div class=\"sk-serial\"><div class=\"sk-item sk-dashed-wrapped\"><div class=\"sk-label-container\"><div class=\"sk-label fitted sk-toggleable\"><input class=\"sk-toggleable__control sk-hidden--visually\" id=\"sk-estimator-id-13\" type=\"checkbox\" ><label for=\"sk-estimator-id-13\" class=\"sk-toggleable__label fitted sk-toggleable__label-arrow\"><div><div>preprocessor: ColumnTransformer</div></div><div><a class=\"sk-estimator-doc-link fitted\" rel=\"noreferrer\" target=\"_blank\" href=\"https://scikit-learn.org/1.6/modules/generated/sklearn.compose.ColumnTransformer.html\">?<span>Documentation for preprocessor: ColumnTransformer</span></a></div></label><div class=\"sk-toggleable__content fitted\"><pre>ColumnTransformer(transformers=[(&#x27;nominal&#x27;,\n",
       "                                 OneHotEncoder(handle_unknown=&#x27;ignore&#x27;),\n",
       "                                 [&#x27;FAMI_TIENECOMPUTADOR&#x27;, &#x27;ESTU_GENERO&#x27;,\n",
       "                                  &#x27;FAMI_TIENESERVICIOTV&#x27;, &#x27;FAMI_TIENEINTERNET&#x27;,\n",
       "                                  &#x27;FAMI_TIENEHORNOMICROOGAS&#x27;,\n",
       "                                  &#x27;FAMI_TIENELAVADORA&#x27;]),\n",
       "                                (&#x27;ordinal&#x27;, OrdinalEncoder(),\n",
       "                                 [&#x27;FAMI_ESTRATOVIVIENDA&#x27;, &#x27;FAMI_EDUCACIONPADRE&#x27;,\n",
       "                                  &#x27;FAMI_EDUCACIONMADRE&#x27;,\n",
       "                                  &#x27;FAMI_PERSONASHOGAR&#x27;]),\n",
       "                                (&#x27;numerico&#x27;, RobustScaler(),\n",
       "                                 [&#x27;EDAD&#x27;, &#x27;LAT_COLE&#x27;, &#x27;LON_COLE&#x27;,\n",
       "                                  &#x27;PUNT_LECTURA_CRITICA&#x27;, &#x27;PUNT_MATEMATICAS&#x27;,\n",
       "                                  &#x27;PUNT_SOCIALES_CIUDADANAS&#x27;,\n",
       "                                  &#x27;PUNT_C_NATURALES&#x27;, &#x27;PUNT_INGLES&#x27;])])</pre></div> </div></div><div class=\"sk-parallel\"><div class=\"sk-parallel-item\"><div class=\"sk-item\"><div class=\"sk-label-container\"><div class=\"sk-label fitted sk-toggleable\"><input class=\"sk-toggleable__control sk-hidden--visually\" id=\"sk-estimator-id-14\" type=\"checkbox\" ><label for=\"sk-estimator-id-14\" class=\"sk-toggleable__label fitted sk-toggleable__label-arrow\"><div><div>nominal</div></div></label><div class=\"sk-toggleable__content fitted\"><pre>[&#x27;FAMI_TIENECOMPUTADOR&#x27;, &#x27;ESTU_GENERO&#x27;, &#x27;FAMI_TIENESERVICIOTV&#x27;, &#x27;FAMI_TIENEINTERNET&#x27;, &#x27;FAMI_TIENEHORNOMICROOGAS&#x27;, &#x27;FAMI_TIENELAVADORA&#x27;]</pre></div> </div></div><div class=\"sk-serial\"><div class=\"sk-item\"><div class=\"sk-estimator fitted sk-toggleable\"><input class=\"sk-toggleable__control sk-hidden--visually\" id=\"sk-estimator-id-15\" type=\"checkbox\" ><label for=\"sk-estimator-id-15\" class=\"sk-toggleable__label fitted sk-toggleable__label-arrow\"><div><div>OneHotEncoder</div></div><div><a class=\"sk-estimator-doc-link fitted\" rel=\"noreferrer\" target=\"_blank\" href=\"https://scikit-learn.org/1.6/modules/generated/sklearn.preprocessing.OneHotEncoder.html\">?<span>Documentation for OneHotEncoder</span></a></div></label><div class=\"sk-toggleable__content fitted\"><pre>OneHotEncoder(handle_unknown=&#x27;ignore&#x27;)</pre></div> </div></div></div></div></div><div class=\"sk-parallel-item\"><div class=\"sk-item\"><div class=\"sk-label-container\"><div class=\"sk-label fitted sk-toggleable\"><input class=\"sk-toggleable__control sk-hidden--visually\" id=\"sk-estimator-id-16\" type=\"checkbox\" ><label for=\"sk-estimator-id-16\" class=\"sk-toggleable__label fitted sk-toggleable__label-arrow\"><div><div>ordinal</div></div></label><div class=\"sk-toggleable__content fitted\"><pre>[&#x27;FAMI_ESTRATOVIVIENDA&#x27;, &#x27;FAMI_EDUCACIONPADRE&#x27;, &#x27;FAMI_EDUCACIONMADRE&#x27;, &#x27;FAMI_PERSONASHOGAR&#x27;]</pre></div> </div></div><div class=\"sk-serial\"><div class=\"sk-item\"><div class=\"sk-estimator fitted sk-toggleable\"><input class=\"sk-toggleable__control sk-hidden--visually\" id=\"sk-estimator-id-17\" type=\"checkbox\" ><label for=\"sk-estimator-id-17\" class=\"sk-toggleable__label fitted sk-toggleable__label-arrow\"><div><div>OrdinalEncoder</div></div><div><a class=\"sk-estimator-doc-link fitted\" rel=\"noreferrer\" target=\"_blank\" href=\"https://scikit-learn.org/1.6/modules/generated/sklearn.preprocessing.OrdinalEncoder.html\">?<span>Documentation for OrdinalEncoder</span></a></div></label><div class=\"sk-toggleable__content fitted\"><pre>OrdinalEncoder()</pre></div> </div></div></div></div></div><div class=\"sk-parallel-item\"><div class=\"sk-item\"><div class=\"sk-label-container\"><div class=\"sk-label fitted sk-toggleable\"><input class=\"sk-toggleable__control sk-hidden--visually\" id=\"sk-estimator-id-18\" type=\"checkbox\" ><label for=\"sk-estimator-id-18\" class=\"sk-toggleable__label fitted sk-toggleable__label-arrow\"><div><div>numerico</div></div></label><div class=\"sk-toggleable__content fitted\"><pre>[&#x27;EDAD&#x27;, &#x27;LAT_COLE&#x27;, &#x27;LON_COLE&#x27;, &#x27;PUNT_LECTURA_CRITICA&#x27;, &#x27;PUNT_MATEMATICAS&#x27;, &#x27;PUNT_SOCIALES_CIUDADANAS&#x27;, &#x27;PUNT_C_NATURALES&#x27;, &#x27;PUNT_INGLES&#x27;]</pre></div> </div></div><div class=\"sk-serial\"><div class=\"sk-item\"><div class=\"sk-estimator fitted sk-toggleable\"><input class=\"sk-toggleable__control sk-hidden--visually\" id=\"sk-estimator-id-19\" type=\"checkbox\" ><label for=\"sk-estimator-id-19\" class=\"sk-toggleable__label fitted sk-toggleable__label-arrow\"><div><div>RobustScaler</div></div><div><a class=\"sk-estimator-doc-link fitted\" rel=\"noreferrer\" target=\"_blank\" href=\"https://scikit-learn.org/1.6/modules/generated/sklearn.preprocessing.RobustScaler.html\">?<span>Documentation for RobustScaler</span></a></div></label><div class=\"sk-toggleable__content fitted\"><pre>RobustScaler()</pre></div> </div></div></div></div></div></div></div><div class=\"sk-item\"><div class=\"sk-estimator fitted sk-toggleable\"><input class=\"sk-toggleable__control sk-hidden--visually\" id=\"sk-estimator-id-20\" type=\"checkbox\" ><label for=\"sk-estimator-id-20\" class=\"sk-toggleable__label fitted sk-toggleable__label-arrow\"><div><div>BorderlineSMOTE</div></div></label><div class=\"sk-toggleable__content fitted\"><pre>BorderlineSMOTE(k_neighbors=3, random_state=7)</pre></div> </div></div><div class=\"sk-item\"><div class=\"sk-estimator fitted sk-toggleable\"><input class=\"sk-toggleable__control sk-hidden--visually\" id=\"sk-estimator-id-21\" type=\"checkbox\" ><label for=\"sk-estimator-id-21\" class=\"sk-toggleable__label fitted sk-toggleable__label-arrow\"><div><div>XGBClassifier</div></div><div><a class=\"sk-estimator-doc-link fitted\" rel=\"noreferrer\" target=\"_blank\" href=\"https://xgboost.readthedocs.io/en/release_3.0.0/python/python_api.html#xgboost.XGBClassifier\">?<span>Documentation for XGBClassifier</span></a></div></label><div class=\"sk-toggleable__content fitted\"><pre>XGBClassifier(base_score=None, booster=None, callbacks=None,\n",
       "              colsample_bylevel=None, colsample_bynode=None,\n",
       "              colsample_bytree=None, device=&#x27;cpu&#x27;, early_stopping_rounds=None,\n",
       "              enable_categorical=False, eval_metric=&#x27;mlogloss&#x27;,\n",
       "              feature_types=None, feature_weights=None, gamma=None,\n",
       "              grow_policy=None, importance_type=None,\n",
       "              interaction_constraints=None, learning_rate=0.05, max_bin=None,\n",
       "              max_cat_threshold=None, max_cat_to_onehot=None, max_delta_step=5,\n",
       "              max_depth=6, max_leaves=None, min_child_weight=12, missing=nan,\n",
       "              monotone_constraints=None, multi_strategy=None, n_estimators=256,\n",
       "              n_jobs=None, num_parallel_tree=None, ...)</pre></div> </div></div></div></div></div></div>"
      ],
      "text/plain": [
       "Pipeline(steps=[('preprocessor',\n",
       "                 ColumnTransformer(transformers=[('nominal',\n",
       "                                                  OneHotEncoder(handle_unknown='ignore'),\n",
       "                                                  ['FAMI_TIENECOMPUTADOR',\n",
       "                                                   'ESTU_GENERO',\n",
       "                                                   'FAMI_TIENESERVICIOTV',\n",
       "                                                   'FAMI_TIENEINTERNET',\n",
       "                                                   'FAMI_TIENEHORNOMICROOGAS',\n",
       "                                                   'FAMI_TIENELAVADORA']),\n",
       "                                                 ('ordinal', OrdinalEncoder(),\n",
       "                                                  ['FAMI_ESTRATOVIVIENDA',\n",
       "                                                   'FAMI_EDUCACIONPADRE',\n",
       "                                                   'FAMI_EDUCACIONMADRE',\n",
       "                                                   'FAMI_PE...\n",
       "                               feature_types=None, feature_weights=None,\n",
       "                               gamma=None, grow_policy=None,\n",
       "                               importance_type=None,\n",
       "                               interaction_constraints=None, learning_rate=0.05,\n",
       "                               max_bin=None, max_cat_threshold=None,\n",
       "                               max_cat_to_onehot=None, max_delta_step=5,\n",
       "                               max_depth=6, max_leaves=None,\n",
       "                               min_child_weight=12, missing=nan,\n",
       "                               monotone_constraints=None, multi_strategy=None,\n",
       "                               n_estimators=256, n_jobs=None,\n",
       "                               num_parallel_tree=None, ...))])"
      ]
     },
     "execution_count": 27,
     "metadata": {},
     "output_type": "execute_result"
    }
   ],
   "source": [
    "from sklearn.base import clone\n",
    "\n",
    "best_model = search.best_estimator_\n",
    "\n",
    "# Reentrenar con TODOS los datos (train + test)\n",
    "X_full = pd.concat([X_train, X_test], axis=0)\n",
    "y_full = pd.concat([y_train, y_test], axis=0)\n",
    "\n",
    "final_model = clone(best_model)\n",
    "final_model.fit(X_full, y_full[\"GRUPOREFERENCIA\"].values)"
   ]
  },
  {
   "cell_type": "markdown",
   "id": "fd865714",
   "metadata": {
    "papermill": {
     "duration": 0.007562,
     "end_time": "2025-06-11T16:52:32.960252",
     "exception": false,
     "start_time": "2025-06-11T16:52:32.952690",
     "status": "completed"
    },
    "tags": []
   },
   "source": [
    "## **14- Guardar modelo final:**"
   ]
  },
  {
   "cell_type": "code",
   "execution_count": 28,
   "id": "0e3d13f1",
   "metadata": {},
   "outputs": [
    {
     "data": {
      "text/plain": [
       "['/home/jacques/Documentos/ml_study/FINALES/./models/best_model_XGBoostClassifier_final.pkl']"
      ]
     },
     "execution_count": 28,
     "metadata": {},
     "output_type": "execute_result"
    }
   ],
   "source": [
    "joblib.dump(final_model, os.path.join(basedir, './models/best_model_XGBoostClassifier_final.pkl'))"
   ]
  },
  {
   "cell_type": "markdown",
   "id": "9d84abd1",
   "metadata": {
    "papermill": {
     "duration": 0.007138,
     "end_time": "2025-06-11T16:52:33.047177",
     "exception": false,
     "start_time": "2025-06-11T16:52:33.040039",
     "status": "completed"
    },
    "tags": []
   },
   "source": [
    "## **15- Predicción con el modelo final:**"
   ]
  },
  {
   "cell_type": "code",
   "execution_count": 29,
   "id": "6caa5149",
   "metadata": {
    "execution": {
     "iopub.execute_input": "2025-06-11T16:52:33.062401Z",
     "iopub.status.busy": "2025-06-11T16:52:33.062128Z",
     "iopub.status.idle": "2025-06-11T16:52:33.073983Z",
     "shell.execute_reply": "2025-06-11T16:52:33.073538Z"
    },
    "papermill": {
     "duration": 0.020702,
     "end_time": "2025-06-11T16:52:33.074782",
     "exception": false,
     "start_time": "2025-06-11T16:52:33.054080",
     "status": "completed"
    },
    "tags": []
   },
   "outputs": [
    {
     "data": {
      "application/vnd.microsoft.datawrangler.viewer.v0+json": {
       "columns": [
        {
         "name": "index",
         "rawType": "int64",
         "type": "integer"
        },
        {
         "name": "FAMI_TIENECOMPUTADOR",
         "rawType": "object",
         "type": "string"
        },
        {
         "name": "ESTU_GENERO",
         "rawType": "object",
         "type": "string"
        },
        {
         "name": "FAMI_TIENESERVICIOTV",
         "rawType": "object",
         "type": "string"
        },
        {
         "name": "FAMI_TIENEINTERNET",
         "rawType": "object",
         "type": "string"
        },
        {
         "name": "FAMI_TIENEHORNOMICROOGAS",
         "rawType": "object",
         "type": "string"
        },
        {
         "name": "FAMI_TIENELAVADORA",
         "rawType": "object",
         "type": "string"
        },
        {
         "name": "FAMI_ESTRATOVIVIENDA",
         "rawType": "object",
         "type": "string"
        },
        {
         "name": "FAMI_EDUCACIONPADRE",
         "rawType": "object",
         "type": "string"
        },
        {
         "name": "FAMI_EDUCACIONMADRE",
         "rawType": "object",
         "type": "string"
        },
        {
         "name": "FAMI_PERSONASHOGAR",
         "rawType": "object",
         "type": "string"
        },
        {
         "name": "EDAD",
         "rawType": "float64",
         "type": "float"
        },
        {
         "name": "LAT_COLE",
         "rawType": "float64",
         "type": "float"
        },
        {
         "name": "LON_COLE",
         "rawType": "float64",
         "type": "float"
        },
        {
         "name": "PUNT_LECTURA_CRITICA",
         "rawType": "float64",
         "type": "float"
        },
        {
         "name": "PUNT_MATEMATICAS",
         "rawType": "float64",
         "type": "float"
        },
        {
         "name": "PUNT_SOCIALES_CIUDADANAS",
         "rawType": "float64",
         "type": "float"
        },
        {
         "name": "PUNT_C_NATURALES",
         "rawType": "float64",
         "type": "float"
        },
        {
         "name": "PUNT_INGLES",
         "rawType": "float64",
         "type": "float"
        }
       ],
       "ref": "4c228b51-fc99-40ae-818d-1153d10cbf9b",
       "rows": [
        [
         "579",
         "NO",
         "F",
         "NO",
         "NO",
         "NO",
         "NO",
         "SIN ESTRATO O ESTRATO 1",
         "SECUNDARIA (BACHILLERATO) INCOMPLETA O COMPLETA",
         "NO SABE, NINGUNA O HASTA PRIMARIA INCOMPLETA O COMPLETA",
         "1 A 4",
         "16.0",
         "0.829022057488",
         "-77.6295126009",
         "55.0",
         "67.0",
         "64.0",
         "63.0",
         "49.0"
        ]
       ],
       "shape": {
        "columns": 18,
        "rows": 1
       }
      },
      "text/html": [
       "<div>\n",
       "<style scoped>\n",
       "    .dataframe tbody tr th:only-of-type {\n",
       "        vertical-align: middle;\n",
       "    }\n",
       "\n",
       "    .dataframe tbody tr th {\n",
       "        vertical-align: top;\n",
       "    }\n",
       "\n",
       "    .dataframe thead th {\n",
       "        text-align: right;\n",
       "    }\n",
       "</style>\n",
       "<table border=\"1\" class=\"dataframe\">\n",
       "  <thead>\n",
       "    <tr style=\"text-align: right;\">\n",
       "      <th></th>\n",
       "      <th>FAMI_TIENECOMPUTADOR</th>\n",
       "      <th>ESTU_GENERO</th>\n",
       "      <th>FAMI_TIENESERVICIOTV</th>\n",
       "      <th>FAMI_TIENEINTERNET</th>\n",
       "      <th>FAMI_TIENEHORNOMICROOGAS</th>\n",
       "      <th>FAMI_TIENELAVADORA</th>\n",
       "      <th>FAMI_ESTRATOVIVIENDA</th>\n",
       "      <th>FAMI_EDUCACIONPADRE</th>\n",
       "      <th>FAMI_EDUCACIONMADRE</th>\n",
       "      <th>FAMI_PERSONASHOGAR</th>\n",
       "      <th>EDAD</th>\n",
       "      <th>LAT_COLE</th>\n",
       "      <th>LON_COLE</th>\n",
       "      <th>PUNT_LECTURA_CRITICA</th>\n",
       "      <th>PUNT_MATEMATICAS</th>\n",
       "      <th>PUNT_SOCIALES_CIUDADANAS</th>\n",
       "      <th>PUNT_C_NATURALES</th>\n",
       "      <th>PUNT_INGLES</th>\n",
       "    </tr>\n",
       "  </thead>\n",
       "  <tbody>\n",
       "    <tr>\n",
       "      <th>579</th>\n",
       "      <td>NO</td>\n",
       "      <td>F</td>\n",
       "      <td>NO</td>\n",
       "      <td>NO</td>\n",
       "      <td>NO</td>\n",
       "      <td>NO</td>\n",
       "      <td>SIN ESTRATO O ESTRATO 1</td>\n",
       "      <td>SECUNDARIA (BACHILLERATO) INCOMPLETA O COMPLETA</td>\n",
       "      <td>NO SABE, NINGUNA O HASTA PRIMARIA INCOMPLETA O COMPLETA</td>\n",
       "      <td>1 A 4</td>\n",
       "      <td>16.0</td>\n",
       "      <td>0.829022</td>\n",
       "      <td>-77.629513</td>\n",
       "      <td>55.0</td>\n",
       "      <td>67.0</td>\n",
       "      <td>64.0</td>\n",
       "      <td>63.0</td>\n",
       "      <td>49.0</td>\n",
       "    </tr>\n",
       "  </tbody>\n",
       "</table>\n",
       "</div>"
      ],
      "text/plain": [
       "    FAMI_TIENECOMPUTADOR ESTU_GENERO FAMI_TIENESERVICIOTV FAMI_TIENEINTERNET  \\\n",
       "579                   NO           F                   NO                 NO   \n",
       "\n",
       "    FAMI_TIENEHORNOMICROOGAS FAMI_TIENELAVADORA     FAMI_ESTRATOVIVIENDA  \\\n",
       "579                       NO                 NO  SIN ESTRATO O ESTRATO 1   \n",
       "\n",
       "                                 FAMI_EDUCACIONPADRE  \\\n",
       "579  SECUNDARIA (BACHILLERATO) INCOMPLETA O COMPLETA   \n",
       "\n",
       "                                         FAMI_EDUCACIONMADRE  \\\n",
       "579  NO SABE, NINGUNA O HASTA PRIMARIA INCOMPLETA O COMPLETA   \n",
       "\n",
       "    FAMI_PERSONASHOGAR  EDAD  LAT_COLE   LON_COLE  PUNT_LECTURA_CRITICA  \\\n",
       "579              1 A 4  16.0  0.829022 -77.629513                  55.0   \n",
       "\n",
       "     PUNT_MATEMATICAS  PUNT_SOCIALES_CIUDADANAS  PUNT_C_NATURALES  PUNT_INGLES  \n",
       "579              67.0                      64.0              63.0         49.0  "
      ]
     },
     "execution_count": 29,
     "metadata": {},
     "output_type": "execute_result"
    }
   ],
   "source": [
    "X_test.iloc[7:8]"
   ]
  },
  {
   "cell_type": "code",
   "execution_count": 30,
   "id": "6495e9d6",
   "metadata": {},
   "outputs": [
    {
     "data": {
      "text/plain": [
       "array([10])"
      ]
     },
     "execution_count": 30,
     "metadata": {},
     "output_type": "execute_result"
    }
   ],
   "source": [
    "model = joblib.load(os.path.join(basedir, './models/best_model_XGBoostClassifier_final.pkl'))\n",
    "model.predict(X_test.iloc[7:8])"
   ]
  }
 ],
 "metadata": {
  "kernelspec": {
   "display_name": "ev_ml",
   "language": "python",
   "name": "python3"
  },
  "language_info": {
   "codemirror_mode": {
    "name": "ipython",
    "version": 3
   },
   "file_extension": ".py",
   "mimetype": "text/x-python",
   "name": "python",
   "nbconvert_exporter": "python",
   "pygments_lexer": "ipython3",
   "version": "3.13.1"
  },
  "papermill": {
   "default_parameters": {},
   "duration": 1704.785765,
   "end_time": "2025-06-11T16:52:36.029583",
   "environment_variables": {},
   "exception": null,
   "input_path": "14-✅MOD XGBoost GR (8)-Copy2 (MEJOR) f1-score_macro.ipynb",
   "output_path": "/home/jacques/Documentos/ml_study/20250611112411_14-✅MOD XGBoost GR (8)-Copy2 (MEJOR) f1-score_macro.ipynb",
   "parameters": {},
   "start_time": "2025-06-11T16:24:11.243818",
   "version": "2.6.0"
  }
 },
 "nbformat": 4,
 "nbformat_minor": 5
}
